{
 "cells": [
  {
   "cell_type": "markdown",
   "id": "e6e81956",
   "metadata": {},
   "source": [
    "# DataFrame Structure"
   ]
  },
  {
   "cell_type": "markdown",
   "id": "9ee98a0c",
   "metadata": {},
   "source": [
    "DataFrame é uma estrutura de dados rotulada bidimensional com colunas de tipos potencialmente diferentes."
   ]
  },
  {
   "cell_type": "markdown",
   "id": "74019742",
   "metadata": {},
   "source": [
    "## DataFrame Creation\n",
    "\n",
    "* **pd.DataFrame(data,index=opt,columns=opt)**:\n",
    "    * `data` pode ser dicionários de um array 1D, listas, dicionários,séries,2D numpy arrays ou outro DataFrame"
   ]
  },
  {
   "cell_type": "markdown",
   "id": "0e19c7b8",
   "metadata": {},
   "source": [
    "### From dict of Series or dicts"
   ]
  },
  {
   "cell_type": "markdown",
   "id": "5fefecf9",
   "metadata": {},
   "source": [
    "O index resultante será a união dos index das duas séries."
   ]
  },
  {
   "cell_type": "code",
   "execution_count": 3,
   "id": "9e171993",
   "metadata": {},
   "outputs": [],
   "source": [
    "import pandas as pd"
   ]
  },
  {
   "cell_type": "code",
   "execution_count": 12,
   "id": "d6b2848e",
   "metadata": {},
   "outputs": [
    {
     "data": {
      "text/html": [
       "<div>\n",
       "<style scoped>\n",
       "    .dataframe tbody tr th:only-of-type {\n",
       "        vertical-align: middle;\n",
       "    }\n",
       "\n",
       "    .dataframe tbody tr th {\n",
       "        vertical-align: top;\n",
       "    }\n",
       "\n",
       "    .dataframe thead th {\n",
       "        text-align: right;\n",
       "    }\n",
       "</style>\n",
       "<table border=\"1\" class=\"dataframe\">\n",
       "  <thead>\n",
       "    <tr style=\"text-align: right;\">\n",
       "      <th></th>\n",
       "      <th>one</th>\n",
       "      <th>two</th>\n",
       "    </tr>\n",
       "  </thead>\n",
       "  <tbody>\n",
       "    <tr>\n",
       "      <th>a</th>\n",
       "      <td>1.0</td>\n",
       "      <td>1.0</td>\n",
       "    </tr>\n",
       "    <tr>\n",
       "      <th>b</th>\n",
       "      <td>2.0</td>\n",
       "      <td>2.0</td>\n",
       "    </tr>\n",
       "    <tr>\n",
       "      <th>c</th>\n",
       "      <td>3.0</td>\n",
       "      <td>3.0</td>\n",
       "    </tr>\n",
       "    <tr>\n",
       "      <th>d</th>\n",
       "      <td>NaN</td>\n",
       "      <td>4.0</td>\n",
       "    </tr>\n",
       "  </tbody>\n",
       "</table>\n",
       "</div>"
      ],
      "text/plain": [
       "   one  two\n",
       "a  1.0  1.0\n",
       "b  2.0  2.0\n",
       "c  3.0  3.0\n",
       "d  NaN  4.0"
      ]
     },
     "execution_count": 12,
     "metadata": {},
     "output_type": "execute_result"
    }
   ],
   "source": [
    "d = {\n",
    "    \"one\": pd.Series([1.0, 2.0, 3.0], index=[\"a\", \"b\", \"c\"]),\n",
    "    \"two\": pd.Series([1.0, 2.0, 3.0, 4.0], index=[\"a\", \"b\", \"c\", \"d\"]),\n",
    "}\n",
    "df=pd.DataFrame(d)\n",
    "df"
   ]
  },
  {
   "cell_type": "markdown",
   "id": "9eb6f555",
   "metadata": {},
   "source": [
    "From dict of ndarrays / lists"
   ]
  },
  {
   "cell_type": "markdown",
   "id": "f0398939",
   "metadata": {},
   "source": [
    "From structured or record array"
   ]
  },
  {
   "cell_type": "code",
   "execution_count": null,
   "id": "721ad690",
   "metadata": {},
   "outputs": [],
   "source": []
  },
  {
   "cell_type": "markdown",
   "id": "05f47757",
   "metadata": {},
   "source": [
    "From a list of dicts"
   ]
  },
  {
   "cell_type": "code",
   "execution_count": null,
   "id": "35af27b5",
   "metadata": {},
   "outputs": [],
   "source": []
  },
  {
   "cell_type": "markdown",
   "id": "bf77bc57",
   "metadata": {},
   "source": [
    "From a dict of tuples"
   ]
  },
  {
   "cell_type": "code",
   "execution_count": null,
   "id": "c4887c17",
   "metadata": {},
   "outputs": [],
   "source": []
  },
  {
   "cell_type": "markdown",
   "id": "455a7a45",
   "metadata": {},
   "source": [
    "From a Series"
   ]
  },
  {
   "cell_type": "code",
   "execution_count": null,
   "id": "747f6a56",
   "metadata": {},
   "outputs": [],
   "source": []
  },
  {
   "cell_type": "markdown",
   "id": "6833ebd2",
   "metadata": {},
   "source": [
    "From a list of namedtuples"
   ]
  },
  {
   "cell_type": "code",
   "execution_count": null,
   "id": "8d22e508",
   "metadata": {},
   "outputs": [],
   "source": []
  },
  {
   "cell_type": "markdown",
   "id": "fe15550b",
   "metadata": {},
   "source": [
    "From a list of dataclasses"
   ]
  },
  {
   "cell_type": "code",
   "execution_count": null,
   "id": "d2323b11",
   "metadata": {},
   "outputs": [],
   "source": []
  }
 ],
 "metadata": {
  "kernelspec": {
   "display_name": "Python 3 (ipykernel)",
   "language": "python",
   "name": "python3"
  },
  "language_info": {
   "codemirror_mode": {
    "name": "ipython",
    "version": 3
   },
   "file_extension": ".py",
   "mimetype": "text/x-python",
   "name": "python",
   "nbconvert_exporter": "python",
   "pygments_lexer": "ipython3",
   "version": "3.10.8"
  }
 },
 "nbformat": 4,
 "nbformat_minor": 5
}
