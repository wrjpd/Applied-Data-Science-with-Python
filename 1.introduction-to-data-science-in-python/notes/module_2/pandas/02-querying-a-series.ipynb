{
 "cells": [
  {
   "cell_type": "markdown",
   "id": "7035c847",
   "metadata": {},
   "source": [
    "# Querying a Series\n",
    "\n"
   ]
  },
  {
   "cell_type": "markdown",
   "id": "82b460fa",
   "metadata": {},
   "source": [
    "Uma series pode ser consultada pela posição do índice ou pelo nome do index.\n",
    "\n",
    "* loc\n",
    "* iloc"
   ]
  },
  {
   "cell_type": "code",
   "execution_count": 2,
   "id": "1da0fa19",
   "metadata": {},
   "outputs": [
    {
     "data": {
      "text/plain": [
       "Alice      Physics\n",
       "Jack     Chemistry\n",
       "Molly      English\n",
       "Sam        History\n",
       "dtype: object"
      ]
     },
     "execution_count": 2,
     "metadata": {},
     "output_type": "execute_result"
    }
   ],
   "source": [
    "import pandas as pd\n",
    "students_classes = {'Alice': 'Physics',\n",
    "                   'Jack': 'Chemistry',\n",
    "                   'Molly': 'English',\n",
    "                   'Sam': 'History'}\n",
    "s = pd.Series(students_classes)\n",
    "s"
   ]
  },
  {
   "cell_type": "markdown",
   "id": "06731189",
   "metadata": {},
   "source": [
    "Se quisermos a quarta entrada da Serie, utilizamos o atributo **iloc**"
   ]
  },
  {
   "cell_type": "code",
   "execution_count": 4,
   "id": "a312bdb9",
   "metadata": {},
   "outputs": [
    {
     "data": {
      "text/plain": [
       "'History'"
      ]
     },
     "execution_count": 4,
     "metadata": {},
     "output_type": "execute_result"
    }
   ],
   "source": [
    "s.iloc[3]"
   ]
  },
  {
   "cell_type": "markdown",
   "id": "cee4bed1",
   "metadata": {},
   "source": [
    "Se quisermos ver qual aula a Molly está, utilizamos o atributo **loc**"
   ]
  },
  {
   "cell_type": "code",
   "execution_count": 6,
   "id": "db88fbf5",
   "metadata": {},
   "outputs": [
    {
     "data": {
      "text/plain": [
       "'English'"
      ]
     },
     "execution_count": 6,
     "metadata": {},
     "output_type": "execute_result"
    }
   ],
   "source": [
    "s.loc[\"Molly\"]"
   ]
  }
 ],
 "metadata": {
  "kernelspec": {
   "display_name": "Python 3 (ipykernel)",
   "language": "python",
   "name": "python3"
  },
  "language_info": {
   "codemirror_mode": {
    "name": "ipython",
    "version": 3
   },
   "file_extension": ".py",
   "mimetype": "text/x-python",
   "name": "python",
   "nbconvert_exporter": "python",
   "pygments_lexer": "ipython3",
   "version": "3.10.8"
  }
 },
 "nbformat": 4,
 "nbformat_minor": 5
}
