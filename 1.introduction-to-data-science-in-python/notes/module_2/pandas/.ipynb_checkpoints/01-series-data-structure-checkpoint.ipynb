{
 "cells": [
  {
   "cell_type": "markdown",
   "id": "a957b5ba",
   "metadata": {},
   "source": [
    "# Series Data Structure\n",
    "\n",
    "`Series` é um array rotulada(index) unidimensional capaz de conter qualquer tipo de dados. \n"
   ]
  },
  {
   "cell_type": "code",
   "execution_count": 3,
   "id": "d3d99cab",
   "metadata": {},
   "outputs": [],
   "source": [
    "import numpy as np\n",
    "import pandas as pd"
   ]
  },
  {
   "cell_type": "markdown",
   "id": "ffe8774e",
   "metadata": {},
   "source": [
    "## Series Creation\n",
    "\n",
    "* **pd.Series(data,index=opt)**\n",
    "    * `data` pode ser um python dict, um array, um escalar ou uma lista;\n"
   ]
  },
  {
   "cell_type": "markdown",
   "id": "197f84de",
   "metadata": {},
   "source": [
    "## Exemplos"
   ]
  },
  {
   "cell_type": "markdown",
   "id": "a2107229",
   "metadata": {},
   "source": [
    "**pd.series()**"
   ]
  },
  {
   "cell_type": "markdown",
   "id": "81d361b9",
   "metadata": {},
   "source": [
    "A partir de um array"
   ]
  },
  {
   "cell_type": "code",
   "execution_count": 8,
   "id": "4d80f3f1",
   "metadata": {},
   "outputs": [
    {
     "data": {
      "text/plain": [
       "0    0.268692\n",
       "1   -1.162084\n",
       "2   -0.565131\n",
       "3    0.017696\n",
       "4    1.277123\n",
       "dtype: float64"
      ]
     },
     "execution_count": 8,
     "metadata": {},
     "output_type": "execute_result"
    }
   ],
   "source": [
    "pd.Series(np.random.randn(5))"
   ]
  },
  {
   "cell_type": "code",
   "execution_count": 11,
   "id": "09f690b6",
   "metadata": {},
   "outputs": [
    {
     "data": {
      "text/plain": [
       "a   -0.132539\n",
       "b    0.273640\n",
       "c    2.544304\n",
       "d   -0.327568\n",
       "e    0.917503\n",
       "dtype: float64"
      ]
     },
     "execution_count": 11,
     "metadata": {},
     "output_type": "execute_result"
    }
   ],
   "source": [
    "pd.Series(np.random.randn(5),index=list(\"abcde\"))"
   ]
  },
  {
   "cell_type": "markdown",
   "id": "48bdda63",
   "metadata": {},
   "source": [
    "A partir de um dicionário"
   ]
  },
  {
   "cell_type": "code",
   "execution_count": 14,
   "id": "2f1c06c0",
   "metadata": {},
   "outputs": [
    {
     "data": {
      "text/plain": [
       "b    1\n",
       "a    0\n",
       "c    2\n",
       "dtype: int64"
      ]
     },
     "execution_count": 14,
     "metadata": {},
     "output_type": "execute_result"
    }
   ],
   "source": [
    "d = {\"b\": 1, \"a\": 0, \"c\": 2}\n",
    "pd.Series(d)"
   ]
  },
  {
   "cell_type": "code",
   "execution_count": 15,
   "id": "f33488fb",
   "metadata": {},
   "outputs": [
    {
     "data": {
      "text/plain": [
       "a    0.0\n",
       "b    1.0\n",
       "e    NaN\n",
       "dtype: float64"
      ]
     },
     "execution_count": 15,
     "metadata": {},
     "output_type": "execute_result"
    }
   ],
   "source": [
    "d = {\"b\": 1, \"a\": 0, \"c\": 2}\n",
    "pd.Series(d,index=list(\"abe\"))"
   ]
  },
  {
   "cell_type": "markdown",
   "id": "a3a0d464",
   "metadata": {},
   "source": [
    "A partir de um escalar"
   ]
  },
  {
   "cell_type": "code",
   "execution_count": 16,
   "id": "93499e04",
   "metadata": {},
   "outputs": [
    {
     "data": {
      "text/plain": [
       "0    5\n",
       "dtype: int64"
      ]
     },
     "execution_count": 16,
     "metadata": {},
     "output_type": "execute_result"
    }
   ],
   "source": [
    "pd.Series(5)"
   ]
  },
  {
   "cell_type": "code",
   "execution_count": 17,
   "id": "ec065b93",
   "metadata": {},
   "outputs": [
    {
     "data": {
      "text/plain": [
       "a    5\n",
       "b    5\n",
       "c    5\n",
       "dtype: int64"
      ]
     },
     "execution_count": 17,
     "metadata": {},
     "output_type": "execute_result"
    }
   ],
   "source": [
    "pd.Series(5,index=list(\"abc\"))"
   ]
  },
  {
   "cell_type": "markdown",
   "id": "fb7b89ee",
   "metadata": {},
   "source": [
    "A partir de uma lista"
   ]
  },
  {
   "cell_type": "code",
   "execution_count": 4,
   "id": "d082d62b",
   "metadata": {},
   "outputs": [
    {
     "data": {
      "text/plain": [
       "0    Alice\n",
       "1     Jack\n",
       "2    Molly\n",
       "dtype: object"
      ]
     },
     "execution_count": 4,
     "metadata": {},
     "output_type": "execute_result"
    }
   ],
   "source": [
    "students = [\"Alice\",\"Jack\",\"Molly\"]\n",
    "pd.Series(students)"
   ]
  },
  {
   "cell_type": "markdown",
   "id": "9fada6ea",
   "metadata": {},
   "source": [
    "## Series é como um array"
   ]
  },
  {
   "cell_type": "markdown",
   "id": "a92f9321",
   "metadata": {},
   "source": [
    "`Series` age de forma semelhante a um array, no entando, as operações como slicing irão pegar o indice também."
   ]
  },
  {
   "cell_type": "code",
   "execution_count": 34,
   "id": "4379e2c3",
   "metadata": {},
   "outputs": [
    {
     "data": {
      "text/plain": [
       "a    1.176749\n",
       "b   -0.819533\n",
       "c    0.122490\n",
       "d    0.721270\n",
       "e    0.300276\n",
       "dtype: float64"
      ]
     },
     "execution_count": 34,
     "metadata": {},
     "output_type": "execute_result"
    }
   ],
   "source": [
    "s=pd.Series(np.random.randn(5),index=list(\"abcde\"))\n",
    "s"
   ]
  },
  {
   "cell_type": "code",
   "execution_count": 35,
   "id": "ba655778",
   "metadata": {},
   "outputs": [
    {
     "data": {
      "text/plain": [
       "0.3002759420591893"
      ]
     },
     "execution_count": 35,
     "metadata": {},
     "output_type": "execute_result"
    }
   ],
   "source": [
    "s[4]"
   ]
  },
  {
   "cell_type": "code",
   "execution_count": 36,
   "id": "56d2a66e",
   "metadata": {},
   "outputs": [
    {
     "data": {
      "text/plain": [
       "e    0.300276\n",
       "dtype: float64"
      ]
     },
     "execution_count": 36,
     "metadata": {},
     "output_type": "execute_result"
    }
   ],
   "source": [
    "s[4:]"
   ]
  },
  {
   "cell_type": "markdown",
   "id": "278a72fe",
   "metadata": {},
   "source": [
    "## Series é como um dicionário"
   ]
  },
  {
   "cell_type": "markdown",
   "id": "fb6eaed6",
   "metadata": {},
   "source": [
    "**Podemos atribuiur novos valores**"
   ]
  },
  {
   "cell_type": "code",
   "execution_count": 42,
   "id": "74bdc6bc",
   "metadata": {},
   "outputs": [],
   "source": [
    "s=pd.Series(np.random.randn(5),index=list(\"abcde\"))"
   ]
  },
  {
   "cell_type": "code",
   "execution_count": 44,
   "id": "f64c3b88",
   "metadata": {},
   "outputs": [],
   "source": [
    "s[\"a\"]=1\n",
    "s[\"n\"]=2"
   ]
  },
  {
   "cell_type": "code",
   "execution_count": 49,
   "id": "693fe17f",
   "metadata": {},
   "outputs": [
    {
     "name": "stdout",
     "output_type": "stream",
     "text": [
      "True\n",
      "False\n"
     ]
    }
   ],
   "source": [
    "print(\"e\" in s)\n",
    "print(\"f\" in s)"
   ]
  },
  {
   "cell_type": "markdown",
   "id": "70e96a1b",
   "metadata": {},
   "source": [
    "**Vectorization**  \n",
    "As operações em `Series`, diferente de arrays, são executadas tomando o índice como referência.\n"
   ]
  },
  {
   "cell_type": "code",
   "execution_count": 11,
   "id": "bb163f80",
   "metadata": {},
   "outputs": [
    {
     "data": {
      "text/plain": [
       "a    1.680206\n",
       "b   -0.164172\n",
       "c   -1.001650\n",
       "d   -1.118612\n",
       "e   -0.900953\n",
       "dtype: float64"
      ]
     },
     "execution_count": 11,
     "metadata": {},
     "output_type": "execute_result"
    }
   ],
   "source": [
    "s=pd.Series(np.random.randn(5),index=list(\"abcde\"))\n",
    "d=pd.Series(np.random.randn(5),index=list(\"abcde\"))\n",
    "s+d"
   ]
  },
  {
   "cell_type": "markdown",
   "id": "6c41dded",
   "metadata": {},
   "source": [
    "## Series podem ter indices iguais"
   ]
  },
  {
   "cell_type": "code",
   "execution_count": 44,
   "id": "a7cc6ec0",
   "metadata": {},
   "outputs": [
    {
     "data": {
      "text/plain": [
       "Kelly    Philosophy\n",
       "Kelly          Arts\n",
       "Kelly          Math\n",
       "dtype: object"
      ]
     },
     "execution_count": 44,
     "metadata": {},
     "output_type": "execute_result"
    }
   ],
   "source": [
    "kelly_classes = pd.Series(['Philosophy', 'Arts', 'Math'], index=['Kelly', 'Kelly', 'Kelly'])\n",
    "kelly_classes"
   ]
  },
  {
   "cell_type": "markdown",
   "id": "e9b0ef90",
   "metadata": {},
   "source": [
    "## Attributes"
   ]
  },
  {
   "cell_type": "markdown",
   "id": "0fe9cd1d",
   "metadata": {},
   "source": [
    "#### Some attributes\n",
    "\n",
    "* **series.dtype**: Retorna o tipo dos elementos de uma series\n",
    "* **series.array**: Transforma a series em um array\n",
    "* **series.name**: Retorna o nome da series\n",
    "* **series.index**: Retorna os indices e o dtype\n",
    "\n",
    "#### Some methods\n",
    "\n",
    "* **series.rename**: Renomeia o nome da Series\n",
    "* **series.items**: Retorna uma zip function com os indices e valores\n",
    "\n"
   ]
  },
  {
   "cell_type": "code",
   "execution_count": 38,
   "id": "90059c62",
   "metadata": {},
   "outputs": [],
   "source": [
    "students_classes = {'Alice': 'Physics',\n",
    "                   'Jack': 'Chemistry',\n",
    "                   'Molly': 'English',\n",
    "                   'Sam': 'History'}\n",
    "s = pd.Series(students_classes,name=\"students\")"
   ]
  },
  {
   "cell_type": "markdown",
   "id": "8b1e0c21",
   "metadata": {},
   "source": [
    "**dtype**"
   ]
  },
  {
   "cell_type": "code",
   "execution_count": 32,
   "id": "39e6032d",
   "metadata": {},
   "outputs": [
    {
     "data": {
      "text/plain": [
       "dtype('O')"
      ]
     },
     "execution_count": 32,
     "metadata": {},
     "output_type": "execute_result"
    }
   ],
   "source": [
    "s.dtype"
   ]
  },
  {
   "cell_type": "markdown",
   "id": "afccc819",
   "metadata": {},
   "source": [
    "**array**\n"
   ]
  },
  {
   "cell_type": "code",
   "execution_count": 27,
   "id": "c2ff0784",
   "metadata": {},
   "outputs": [
    {
     "data": {
      "text/plain": [
       "<PandasArray>\n",
       "['Physics', 'Chemistry', 'English', 'History']\n",
       "Length: 4, dtype: object"
      ]
     },
     "execution_count": 27,
     "metadata": {},
     "output_type": "execute_result"
    }
   ],
   "source": [
    "s.array"
   ]
  },
  {
   "cell_type": "markdown",
   "id": "991877b3",
   "metadata": {},
   "source": [
    "**name**"
   ]
  },
  {
   "cell_type": "code",
   "execution_count": 28,
   "id": "67c1b62a",
   "metadata": {},
   "outputs": [
    {
     "data": {
      "text/plain": [
       "'students'"
      ]
     },
     "execution_count": 28,
     "metadata": {},
     "output_type": "execute_result"
    }
   ],
   "source": [
    "s.name"
   ]
  },
  {
   "cell_type": "markdown",
   "id": "bbff23f3",
   "metadata": {},
   "source": [
    "**rename()**"
   ]
  },
  {
   "cell_type": "code",
   "execution_count": 33,
   "id": "1cfd43de",
   "metadata": {},
   "outputs": [
    {
     "data": {
      "text/plain": [
       "Alice      Physics\n",
       "Jack     Chemistry\n",
       "Molly      English\n",
       "Sam        History\n",
       "Name: students2, dtype: object"
      ]
     },
     "execution_count": 33,
     "metadata": {},
     "output_type": "execute_result"
    }
   ],
   "source": [
    "s.rename(\"students2\")"
   ]
  },
  {
   "cell_type": "markdown",
   "id": "1b7a9c95",
   "metadata": {},
   "source": [
    "**index**"
   ]
  },
  {
   "cell_type": "code",
   "execution_count": 36,
   "id": "e34cb864",
   "metadata": {},
   "outputs": [
    {
     "data": {
      "text/plain": [
       "Index(['Alice', 'Jack', 'Molly', 'Sam'], dtype='object')"
      ]
     },
     "execution_count": 36,
     "metadata": {},
     "output_type": "execute_result"
    }
   ],
   "source": [
    "s.index"
   ]
  },
  {
   "cell_type": "markdown",
   "id": "05516c5c",
   "metadata": {},
   "source": [
    "items()"
   ]
  },
  {
   "cell_type": "code",
   "execution_count": 43,
   "id": "0be3b919",
   "metadata": {},
   "outputs": [
    {
     "name": "stdout",
     "output_type": "stream",
     "text": [
      "Alice tem valor Physics\n",
      "Jack tem valor Chemistry\n",
      "Molly tem valor English\n",
      "Sam tem valor History\n"
     ]
    }
   ],
   "source": [
    "for indice,value in s.items():\n",
    "    print(indice+\" tem valor \"+value)"
   ]
  },
  {
   "cell_type": "code",
   "execution_count": null,
   "id": "e266d911",
   "metadata": {},
   "outputs": [],
   "source": []
  }
 ],
 "metadata": {
  "kernelspec": {
   "display_name": "Python 3 (ipykernel)",
   "language": "python",
   "name": "python3"
  },
  "language_info": {
   "codemirror_mode": {
    "name": "ipython",
    "version": 3
   },
   "file_extension": ".py",
   "mimetype": "text/x-python",
   "name": "python",
   "nbconvert_exporter": "python",
   "pygments_lexer": "ipython3",
   "version": "3.10.8"
  }
 },
 "nbformat": 4,
 "nbformat_minor": 5
}
