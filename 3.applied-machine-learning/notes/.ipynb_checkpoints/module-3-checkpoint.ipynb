{
 "cells": [
  {
   "cell_type": "markdown",
   "id": "09b147b4-0e33-469d-bf23-1caa06f6616f",
   "metadata": {},
   "source": [
    "# Evaluation for Classification"
   ]
  },
  {
   "cell_type": "markdown",
   "id": "678448a2-8560-45c4-98a5-f031b950a597",
   "metadata": {
    "jp-MarkdownHeadingCollapsed": true
   },
   "source": [
    "## Preamble"
   ]
  },
  {
   "cell_type": "code",
   "execution_count": 1,
   "id": "d1ec2b8b-fed7-45c5-b7e7-3befb575c63a",
   "metadata": {},
   "outputs": [
    {
     "name": "stdout",
     "output_type": "stream",
     "text": [
      "0 178\n",
      "1 182\n",
      "2 177\n",
      "3 183\n",
      "4 181\n",
      "5 182\n",
      "6 181\n",
      "7 179\n",
      "8 174\n",
      "9 180\n"
     ]
    }
   ],
   "source": [
    "%matplotlib notebook\n",
    "import numpy as np\n",
    "import pandas as pd\n",
    "import seaborn as sns\n",
    "import matplotlib.pyplot as plt\n",
    "from sklearn.model_selection import train_test_split\n",
    "from sklearn.datasets import load_digits\n",
    "\n",
    "dataset=load_digits()\n",
    "X,y=dataset.data,dataset.target\n",
    "\n",
    "for class_name, class_count in zip(dataset.target_names, np.bincount(dataset.target)):\n",
    "    print(class_name,class_count)"
   ]
  },
  {
   "cell_type": "code",
   "execution_count": 2,
   "id": "02445ebb-636e-4c03-b7b5-5451334e8e2c",
   "metadata": {},
   "outputs": [
    {
     "name": "stdout",
     "output_type": "stream",
     "text": [
      "Original labels:\t [1 2 3 4 5 6 7 8 9 0 1 2 3 4 5 6 7 8 9 0 1 2 3 4 5 6 7 8 9]\n",
      "New binary labels:\t [1 0 0 0 0 0 0 0 0 0 1 0 0 0 0 0 0 0 0 0 1 0 0 0 0 0 0 0 0]\n"
     ]
    }
   ],
   "source": [
    "# Criando um dataset com imbalanced binary classes:\n",
    "# Classe negativa (0) não é o digito 1\n",
    "# Classe positiva (1) é o digito 1\n",
    "y_binary_imbalanced = y.copy()\n",
    "y_binary_imbalanced[y_binary_imbalanced != 1]=0\n",
    "\n",
    "print('Original labels:\\t', y[1:30])\n",
    "print('New binary labels:\\t', y_binary_imbalanced[1:30])"
   ]
  },
  {
   "cell_type": "code",
   "execution_count": 3,
   "id": "97e10a8e-d5ed-4fe4-9877-92c6e413aae4",
   "metadata": {},
   "outputs": [
    {
     "data": {
      "text/plain": [
       "array([1615,  182], dtype=int64)"
      ]
     },
     "execution_count": 3,
     "metadata": {},
     "output_type": "execute_result"
    }
   ],
   "source": [
    "np.bincount(y_binary_imbalanced) # Classe negativa é a classe mais frequente"
   ]
  },
  {
   "cell_type": "code",
   "execution_count": 4,
   "id": "aeeee1ac-41de-4a53-acbf-a4211dfa0b74",
   "metadata": {},
   "outputs": [
    {
     "data": {
      "text/plain": [
       "0.9955555555555555"
      ]
     },
     "execution_count": 4,
     "metadata": {},
     "output_type": "execute_result"
    }
   ],
   "source": [
    "X_train, X_test, y_train, y_test = train_test_split(X, y_binary_imbalanced, random_state=0)\n",
    "\n",
    "# Accuracy of Support Vector Machine classifier\n",
    "from sklearn.svm import SVC\n",
    "\n",
    "svm = SVC(kernel='rbf', C=1).fit(X_train, y_train)\n",
    "svm.score(X_test, y_test)"
   ]
  },
  {
   "cell_type": "markdown",
   "id": "68e926f9-4da5-4fd6-9e17-d362465e21d4",
   "metadata": {
    "jp-MarkdownHeadingCollapsed": true
   },
   "source": [
    "## Dummy Classifier"
   ]
  },
  {
   "cell_type": "markdown",
   "id": "06f964f5-616a-4ac2-9a14-1204ca15a838",
   "metadata": {},
   "source": [
    "DummyClassifier is a classifier that makes predictions using simple rules, which can be useful as a baseline for comparison against actual classifiers, especially with imbalanced classes."
   ]
  },
  {
   "cell_type": "code",
   "execution_count": 5,
   "id": "7e308fd1-9522-4e71-8574-9ace5093700d",
   "metadata": {},
   "outputs": [
    {
     "data": {
      "text/plain": [
       "array([0, 0, 0, 0, 0, 0, 0, 0, 0, 0, 0, 0, 0, 0, 0, 0, 0, 0, 0, 0, 0, 0,\n",
       "       0, 0, 0, 0, 0, 0, 0, 0, 0, 0, 0, 0, 0, 0, 0, 0, 0, 0, 0, 0, 0, 0,\n",
       "       0, 0, 0, 0, 0, 0, 0, 0, 0, 0, 0, 0, 0, 0, 0, 0, 0, 0, 0, 0, 0, 0,\n",
       "       0, 0, 0, 0, 0, 0, 0, 0, 0, 0, 0, 0, 0, 0, 0, 0, 0, 0, 0, 0, 0, 0,\n",
       "       0, 0, 0, 0, 0, 0, 0, 0, 0, 0, 0, 0, 0, 0, 0, 0, 0, 0, 0, 0, 0, 0,\n",
       "       0, 0, 0, 0, 0, 0, 0, 0, 0, 0, 0, 0, 0, 0, 0, 0, 0, 0, 0, 0, 0, 0,\n",
       "       0, 0, 0, 0, 0, 0, 0, 0, 0, 0, 0, 0, 0, 0, 0, 0, 0, 0, 0, 0, 0, 0,\n",
       "       0, 0, 0, 0, 0, 0, 0, 0, 0, 0, 0, 0, 0, 0, 0, 0, 0, 0, 0, 0, 0, 0,\n",
       "       0, 0, 0, 0, 0, 0, 0, 0, 0, 0, 0, 0, 0, 0, 0, 0, 0, 0, 0, 0, 0, 0,\n",
       "       0, 0, 0, 0, 0, 0, 0, 0, 0, 0, 0, 0, 0, 0, 0, 0, 0, 0, 0, 0, 0, 0,\n",
       "       0, 0, 0, 0, 0, 0, 0, 0, 0, 0, 0, 0, 0, 0, 0, 0, 0, 0, 0, 0, 0, 0,\n",
       "       0, 0, 0, 0, 0, 0, 0, 0, 0, 0, 0, 0, 0, 0, 0, 0, 0, 0, 0, 0, 0, 0,\n",
       "       0, 0, 0, 0, 0, 0, 0, 0, 0, 0, 0, 0, 0, 0, 0, 0, 0, 0, 0, 0, 0, 0,\n",
       "       0, 0, 0, 0, 0, 0, 0, 0, 0, 0, 0, 0, 0, 0, 0, 0, 0, 0, 0, 0, 0, 0,\n",
       "       0, 0, 0, 0, 0, 0, 0, 0, 0, 0, 0, 0, 0, 0, 0, 0, 0, 0, 0, 0, 0, 0,\n",
       "       0, 0, 0, 0, 0, 0, 0, 0, 0, 0, 0, 0, 0, 0, 0, 0, 0, 0, 0, 0, 0, 0,\n",
       "       0, 0, 0, 0, 0, 0, 0, 0, 0, 0, 0, 0, 0, 0, 0, 0, 0, 0, 0, 0, 0, 0,\n",
       "       0, 0, 0, 0, 0, 0, 0, 0, 0, 0, 0, 0, 0, 0, 0, 0, 0, 0, 0, 0, 0, 0,\n",
       "       0, 0, 0, 0, 0, 0, 0, 0, 0, 0, 0, 0, 0, 0, 0, 0, 0, 0, 0, 0, 0, 0,\n",
       "       0, 0, 0, 0, 0, 0, 0, 0, 0, 0, 0, 0, 0, 0, 0, 0, 0, 0, 0, 0, 0, 0,\n",
       "       0, 0, 0, 0, 0, 0, 0, 0, 0, 0])"
      ]
     },
     "execution_count": 5,
     "metadata": {},
     "output_type": "execute_result"
    }
   ],
   "source": [
    "from sklearn.dummy import DummyClassifier\n",
    "\n",
    "# Classe negativa (0) é a mais frequente\n",
    "dummy_majority=DummyClassifier(strategy='most_frequent').fit(X_train,y_train)\n",
    "\n",
    "# Portanto o classificador dummy 'most_frequent' sempre vai fazer a predição da classe 0\n",
    "y_dummy_predictions=dummy_majority.predict(X_test)\n",
    "\n",
    "y_dummy_predictions"
   ]
  },
  {
   "cell_type": "code",
   "execution_count": 6,
   "id": "d5a0d195-ea25-4ef2-8ccf-ee6876956daa",
   "metadata": {},
   "outputs": [
    {
     "data": {
      "text/plain": [
       "0.9044444444444445"
      ]
     },
     "execution_count": 6,
     "metadata": {},
     "output_type": "execute_result"
    }
   ],
   "source": [
    "# Podemos usar o score do classificador dummy como um baseline para nossos modelos\n",
    "dummy_majority.score(X_test,y_test)"
   ]
  },
  {
   "cell_type": "code",
   "execution_count": 7,
   "id": "29dbf069-5ba2-41d6-b56e-ea049b3ddac9",
   "metadata": {},
   "outputs": [
    {
     "data": {
      "text/plain": [
       "0.9777777777777777"
      ]
     },
     "execution_count": 7,
     "metadata": {},
     "output_type": "execute_result"
    }
   ],
   "source": [
    "# Se o score do modelo abaixo for menor do que 0.904, podemos afirmar que nosso modelo não está performando bem\n",
    "svm = SVC(kernel='linear', C=1).fit(X_train, y_train)\n",
    "svm.score(X_test, y_test)"
   ]
  },
  {
   "cell_type": "markdown",
   "id": "7a547e8e-1a0d-4128-8d49-ecd451f3c686",
   "metadata": {},
   "source": [
    "## Confusion matrices\n"
   ]
  },
  {
   "cell_type": "markdown",
   "id": "627e36d4-9a4d-41c1-b8b5-e8687cb61cf3",
   "metadata": {},
   "source": [
    "### Binary (two-class) confusion matrix"
   ]
  },
  {
   "cell_type": "code",
   "execution_count": 8,
   "id": "060aa937-fb7b-4efa-a2cf-5e79a3471d8d",
   "metadata": {},
   "outputs": [
    {
     "data": {
      "text/plain": [
       "array([[407,   0],\n",
       "       [ 43,   0]], dtype=int64)"
      ]
     },
     "execution_count": 8,
     "metadata": {},
     "output_type": "execute_result"
    }
   ],
   "source": [
    "from sklearn.metrics import confusion_matrix\n",
    "\n",
    "# Classe negativa (0) é a mais frequente\n",
    "dummy_majority = DummyClassifier(strategy = 'most_frequent').fit(X_train, y_train)\n",
    "y_majority_predicted = dummy_majority.predict(X_test)\n",
    "\n",
    "confusion = confusion_matrix(y_test, y_majority_predicted)\n",
    "confusion\n",
    "\n"
   ]
  },
  {
   "cell_type": "code",
   "execution_count": 9,
   "id": "05d15338-f6d3-4d53-ba62-6d1df86c1ac7",
   "metadata": {},
   "outputs": [
    {
     "data": {
      "text/plain": [
       "array([[367,  40],\n",
       "       [ 40,   3]], dtype=int64)"
      ]
     },
     "execution_count": 9,
     "metadata": {},
     "output_type": "execute_result"
    }
   ],
   "source": [
    "# Dummy classifier com \"strategy=stratified\" -> predições aleatórias com a mesma proporção dos dados de teste\n",
    "dummy_classprop = DummyClassifier(strategy='stratified').fit(X_train,y_train)\n",
    "y_classprop_predicted=dummy_classprop.predict(X_test)\n",
    "\n",
    "confusion_matrix(y_test,y_classprop_predicted)"
   ]
  },
  {
   "cell_type": "code",
   "execution_count": 10,
   "id": "a026caf7-d914-4dd3-843e-3d17895642b3",
   "metadata": {},
   "outputs": [
    {
     "data": {
      "text/plain": [
       "array([[402,   5],\n",
       "       [  5,  38]], dtype=int64)"
      ]
     },
     "execution_count": 10,
     "metadata": {},
     "output_type": "execute_result"
    }
   ],
   "source": [
    "# SVC kernel linear e C=1\n",
    "svm = SVC(kernel='linear', C=1).fit(X_train, y_train)\n",
    "svm_predicted = svm.predict(X_test)\n",
    "\n",
    "confusion_matrix(y_test, svm_predicted)\n"
   ]
  },
  {
   "cell_type": "markdown",
   "id": "bc3eac93-8f75-4517-b157-e1349f9014f1",
   "metadata": {},
   "source": [
    "## Evaluation metrics for binary classfication"
   ]
  },
  {
   "cell_type": "markdown",
   "id": "b860e8cf-b372-4653-b440-4c92a73368aa",
   "metadata": {},
   "source": [
    "Accuracy, Precision, Recall e F1"
   ]
  },
  {
   "cell_type": "code",
   "execution_count": 11,
   "id": "d61cc112-7baa-4f4f-96b1-048d57230b20",
   "metadata": {},
   "outputs": [],
   "source": [
    "from sklearn.tree import DecisionTreeClassifier\n",
    "\n",
    "dt = DecisionTreeClassifier(max_depth=2).fit(X_train, y_train)\n",
    "tree_predicted = dt.predict(X_test)"
   ]
  },
  {
   "cell_type": "code",
   "execution_count": 12,
   "id": "c4bd61a8-d8ec-4caf-a7f9-38e7b18d2d5b",
   "metadata": {},
   "outputs": [
    {
     "name": "stdout",
     "output_type": "stream",
     "text": [
      "Accuracy: 0.95\n",
      "Precision: 0.79\n",
      "Recall: 0.60\n",
      "F1: 0.68\n"
     ]
    }
   ],
   "source": [
    "from sklearn.metrics import accuracy_score,precision_score,recall_score,f1_score\n",
    "\n",
    "print('Accuracy: {:.2f}'.format(accuracy_score(y_test, tree_predicted)))\n",
    "print('Precision: {:.2f}'.format(precision_score(y_test, tree_predicted)))\n",
    "print('Recall: {:.2f}'.format(recall_score(y_test, tree_predicted)))\n",
    "print('F1: {:.2f}'.format(f1_score(y_test, tree_predicted)))"
   ]
  },
  {
   "cell_type": "markdown",
   "id": "305912c7-6b61-463a-8457-1970827916bf",
   "metadata": {},
   "source": [
    "Report"
   ]
  },
  {
   "cell_type": "code",
   "execution_count": 13,
   "id": "ec645018-c01d-413a-8ab1-0231fb4a9766",
   "metadata": {},
   "outputs": [
    {
     "name": "stdout",
     "output_type": "stream",
     "text": [
      "              precision    recall  f1-score   support\n",
      "\n",
      "           0       0.96      0.98      0.97       407\n",
      "           1       0.79      0.60      0.68        43\n",
      "\n",
      "    accuracy                           0.95       450\n",
      "   macro avg       0.87      0.79      0.83       450\n",
      "weighted avg       0.94      0.95      0.94       450\n",
      "\n"
     ]
    }
   ],
   "source": [
    "from sklearn.metrics import classification_report\n",
    "\n",
    "print(classification_report(y_test,tree_predicted))"
   ]
  },
  {
   "cell_type": "markdown",
   "id": "0e7d7f40-2212-4f33-8adb-f893bc4805a4",
   "metadata": {},
   "source": [
    "## Decision functions\n"
   ]
  },
  {
   "cell_type": "markdown",
   "id": "31a6fa9e-a2ca-4ca9-966f-ae4ea7f8a9f3",
   "metadata": {},
   "source": [
    "\n",
    "Uma decision function (função de decisão) é uma função matemática associada a um modelo de classificação que atribui um valor a cada instância de dados, geralmente com o objetivo de quantificar quão longe essa instância está do limite de decisão entre as classes."
   ]
  },
  {
   "cell_type": "code",
   "execution_count": 14,
   "id": "b019322c-e43d-48e0-8669-b6f79851b444",
   "metadata": {},
   "outputs": [
    {
     "name": "stderr",
     "output_type": "stream",
     "text": [
      "C:\\Users\\joao\\AppData\\Local\\Packages\\PythonSoftwareFoundation.Python.3.11_qbz5n2kfra8p0\\LocalCache\\local-packages\\Python311\\site-packages\\sklearn\\linear_model\\_logistic.py:460: ConvergenceWarning: lbfgs failed to converge (status=1):\n",
      "STOP: TOTAL NO. of ITERATIONS REACHED LIMIT.\n",
      "\n",
      "Increase the number of iterations (max_iter) or scale the data as shown in:\n",
      "    https://scikit-learn.org/stable/modules/preprocessing.html\n",
      "Please also refer to the documentation for alternative solver options:\n",
      "    https://scikit-learn.org/stable/modules/linear_model.html#logistic-regression\n",
      "  n_iter_i = _check_optimize_result(\n"
     ]
    }
   ],
   "source": [
    "from sklearn.linear_model import LogisticRegression\n",
    "\n",
    "lr = LogisticRegression().fit(X_train, y_train)\n",
    "lr_predicted = lr.predict(X_test)\n",
    "\n"
   ]
  },
  {
   "cell_type": "code",
   "execution_count": 15,
   "id": "6a06198e-3801-4c11-a124-7b6f029cb676",
   "metadata": {},
   "outputs": [
    {
     "name": "stderr",
     "output_type": "stream",
     "text": [
      "C:\\Users\\joao\\AppData\\Local\\Packages\\PythonSoftwareFoundation.Python.3.11_qbz5n2kfra8p0\\LocalCache\\local-packages\\Python311\\site-packages\\sklearn\\linear_model\\_logistic.py:460: ConvergenceWarning: lbfgs failed to converge (status=1):\n",
      "STOP: TOTAL NO. of ITERATIONS REACHED LIMIT.\n",
      "\n",
      "Increase the number of iterations (max_iter) or scale the data as shown in:\n",
      "    https://scikit-learn.org/stable/modules/preprocessing.html\n",
      "Please also refer to the documentation for alternative solver options:\n",
      "    https://scikit-learn.org/stable/modules/linear_model.html#logistic-regression\n",
      "  n_iter_i = _check_optimize_result(\n"
     ]
    },
    {
     "data": {
      "text/plain": [
       "[(0, -29.828781028380767),\n",
       " (0, -19.382868856630243),\n",
       " (0, -29.19847533967286),\n",
       " (0, -21.74627403078089),\n",
       " (0, -22.642379128160165),\n",
       " (0, -11.805939443574173),\n",
       " (1, 6.4960085163264),\n",
       " (0, -23.354612067312054),\n",
       " (0, -27.543777823664094),\n",
       " (0, -26.888212811437093),\n",
       " (0, -31.86293985394033),\n",
       " (0, -22.486086434731142),\n",
       " (0, -25.318025550038527),\n",
       " (0, -13.384523318611595),\n",
       " (0, -13.565639814007048),\n",
       " (0, -13.308357512593734),\n",
       " (1, 12.180922020864623),\n",
       " (0, -34.3624373292518),\n",
       " (0, -13.231539746537935),\n",
       " (0, -29.593977958501554)]"
      ]
     },
     "execution_count": 15,
     "metadata": {},
     "output_type": "execute_result"
    }
   ],
   "source": [
    "X_train, X_test, y_train, y_test = train_test_split(X, y_binary_imbalanced, random_state=0)\n",
    "y_scores_lr = lr.fit(X_train, y_train).decision_function(X_test)\n",
    "y_score_list = list(zip(y_test[0:20], y_scores_lr[0:20]))\n",
    "\n",
    "# show the decision_function scores for first 20 instances\n",
    "y_score_list\n"
   ]
  },
  {
   "cell_type": "code",
   "execution_count": 16,
   "id": "12be7501-9d66-4473-930c-88cf3e4b210d",
   "metadata": {},
   "outputs": [
    {
     "name": "stderr",
     "output_type": "stream",
     "text": [
      "C:\\Users\\joao\\AppData\\Local\\Packages\\PythonSoftwareFoundation.Python.3.11_qbz5n2kfra8p0\\LocalCache\\local-packages\\Python311\\site-packages\\sklearn\\linear_model\\_logistic.py:460: ConvergenceWarning: lbfgs failed to converge (status=1):\n",
      "STOP: TOTAL NO. of ITERATIONS REACHED LIMIT.\n",
      "\n",
      "Increase the number of iterations (max_iter) or scale the data as shown in:\n",
      "    https://scikit-learn.org/stable/modules/preprocessing.html\n",
      "Please also refer to the documentation for alternative solver options:\n",
      "    https://scikit-learn.org/stable/modules/linear_model.html#logistic-regression\n",
      "  n_iter_i = _check_optimize_result(\n"
     ]
    },
    {
     "data": {
      "text/plain": [
       "[(0, 1.1105164535001847e-13),\n",
       " (0, 3.820559876835676e-09),\n",
       " (0, 2.0857549358278383e-13),\n",
       " (0, 3.595118304865787e-10),\n",
       " (0, 1.4673701744234632e-10),\n",
       " (0, 7.46006147128836e-06),\n",
       " (1, 0.9984928228734625),\n",
       " (0, 7.198149330491326e-11),\n",
       " (0, 1.0911621187289014e-12),\n",
       " (0, 2.1018298122266887e-12),\n",
       " (0, 1.4524495094100888e-14),\n",
       " (0, 1.7156027816369216e-10),\n",
       " (0, 1.0104648503934301e-11),\n",
       " (0, 1.538773546227166e-06),\n",
       " (0, 1.283857811076289e-06),\n",
       " (0, 1.6605541713424422e-06),\n",
       " (1, 0.9999948726784401),\n",
       " (0, 1.1928424419990868e-15),\n",
       " (0, 1.793141336393348e-06),\n",
       " (0, 1.4044253989564118e-13)]"
      ]
     },
     "execution_count": 16,
     "metadata": {},
     "output_type": "execute_result"
    }
   ],
   "source": [
    "X_train, X_test, y_train, y_test = train_test_split(X, y_binary_imbalanced, random_state=0)\n",
    "y_proba_lr = lr.fit(X_train, y_train).predict_proba(X_test)\n",
    "y_proba_list = list(zip(y_test[0:20], y_proba_lr[0:20,1]))\n",
    "\n",
    "# show the probability of positive class for first 20 instances\n",
    "y_proba_list"
   ]
  },
  {
   "cell_type": "code",
   "execution_count": 17,
   "id": "d4198556-6c01-4852-a70b-e128b57d60ec",
   "metadata": {},
   "outputs": [
    {
     "name": "stdout",
     "output_type": "stream",
     "text": [
      "0.8536585365853658\n",
      "0.813953488372093\n"
     ]
    }
   ],
   "source": [
    "y_predict=lr.predict(X_test)\n",
    "print(precision_score(y_test,y_predict))\n",
    "print(recall_score(y_test,y_predict))"
   ]
  },
  {
   "cell_type": "code",
   "execution_count": 18,
   "id": "deb4f2b4-ee26-4e00-902f-ba45e0532394",
   "metadata": {},
   "outputs": [
    {
     "data": {
      "text/plain": [
       "array([[ 0.00000000e+00, -1.20158092e-01,  5.90089109e-02,\n",
       "        -4.26252949e-02, -9.35138653e-01,  7.52851090e-01,\n",
       "        -1.13139726e-01, -2.98984859e-01, -1.23431179e-04,\n",
       "        -2.51823737e+00, -4.00799078e-01, -4.32123969e-01,\n",
       "        -4.12353326e-04, -1.77187775e-01, -8.16090096e-01,\n",
       "        -3.76241354e-02, -7.39275684e-05,  1.00926469e+00,\n",
       "        -6.08410938e-02,  7.35252387e-01,  6.80456055e-01,\n",
       "        -3.19927915e-01,  5.14657301e-01, -3.63125372e-02,\n",
       "        -4.32255277e-01, -4.90145555e-01,  1.85230798e-02,\n",
       "         1.93017333e-01, -7.40023545e-02,  2.81039849e-01,\n",
       "        -7.07652362e-01, -3.01044312e-05,  0.00000000e+00,\n",
       "         3.80784183e-01, -6.82124338e-02, -5.93071689e-02,\n",
       "         3.09398730e-01, -1.64151140e-01, -3.98802716e-01,\n",
       "         0.00000000e+00, -1.43003927e-03, -9.56248117e-01,\n",
       "        -7.24941587e-02, -2.61063182e-01, -4.28403816e-03,\n",
       "        -3.68079808e-01, -1.93778362e-01, -2.30277730e-01,\n",
       "        -3.89782827e-02,  1.37001332e-01,  1.52238688e-01,\n",
       "         3.04992775e-01,  1.52296581e-01,  1.37300571e-01,\n",
       "        -3.46795195e-01, -1.76655278e-01, -1.29393518e-02,\n",
       "        -1.70372787e-01, -1.67326385e-01, -1.18141443e-02,\n",
       "         6.49814374e-02, -3.10391380e-02, -8.01974701e-02,\n",
       "        -1.59289922e-02]])"
      ]
     },
     "execution_count": 18,
     "metadata": {},
     "output_type": "execute_result"
    }
   ],
   "source": [
    "lr.coef_"
   ]
  },
  {
   "cell_type": "markdown",
   "id": "7aade53c-67f1-4605-8b85-7141e7f52461",
   "metadata": {},
   "source": [
    "## Precision-recall curves\n"
   ]
  },
  {
   "cell_type": "code",
   "execution_count": 20,
   "id": "d985509a-fa92-499b-864e-64ed914a7598",
   "metadata": {},
   "outputs": [
    {
     "data": {
      "text/plain": [
       "0.8372093023255814"
      ]
     },
     "execution_count": 20,
     "metadata": {},
     "output_type": "execute_result"
    }
   ],
   "source": [
    "from sklearn.metrics import precision_recall_curve\n",
    "\n",
    "precision, recall, thresholds = precision_recall_curve(y_test, y_scores_lr)\n",
    "closest_zero = np.argmin(np.abs(thresholds))\n",
    "closest_zero_p = precision[closest_zero]\n",
    "closest_zero_r = recall[closest_zero]\n",
    "closest_zero_r"
   ]
  },
  {
   "cell_type": "code",
   "execution_count": 29,
   "id": "19a2fb62-9d01-4f88-a5fd-f3ff87c24aaf",
   "metadata": {},
   "outputs": [
    {
     "data": {
      "image/png": "[encoded data removed]",
      "text/plain": [
       "<Figure size 640x480 with 1 Axes>"
      ]
     },
     "metadata": {},
     "output_type": "display_data"
    }
   ],
   "source": [
    "%matplotlib inline\n",
    "plt.figure()\n",
    "plt.xlim([0.0, 1.01])\n",
    "plt.ylim([0.0, 1.01])\n",
    "plt.plot(precision, recall, label='Precision-Recall Curve')\n",
    "plt.plot(closest_zero_p, closest_zero_r, 'o', markersize = 12, fillstyle = 'none', c='r', mew=3)\n",
    "plt.xlabel('Precision', fontsize=16)\n",
    "plt.ylabel('Recall', fontsize=16)\n",
    "# plt.axes().set_aspect('equal')\n",
    "plt.show()"
   ]
  },
  {
   "cell_type": "markdown",
   "id": "057977cc-dea5-4825-b437-03f472c592d5",
   "metadata": {},
   "source": [
    "## ROC curves, Area-Under-Curve (AUC)"
   ]
  },
  {
   "cell_type": "markdown",
   "id": "a2ae7a43-4b7e-432f-aff0-21c44f444072",
   "metadata": {},
   "source": [
    "## Evaluation measures for multi-class classification"
   ]
  },
  {
   "cell_type": "markdown",
   "id": "d22bb1a5-a11d-470d-b121-d858a12d3726",
   "metadata": {},
   "source": [
    "## Regression evaluation metrics"
   ]
  },
  {
   "cell_type": "markdown",
   "id": "a29eb121-fa68-43ea-b71c-fce9e4cbfdb8",
   "metadata": {},
   "source": [
    "## Model selection using evaluation metrics"
   ]
  },
  {
   "cell_type": "markdown",
   "id": "f32d7374-3a50-426c-be01-024098d291cb",
   "metadata": {},
   "source": [
    "## Two-feature classification example using the digits dataset"
   ]
  },
  {
   "cell_type": "code",
   "execution_count": null,
   "id": "e7e03562-d8b1-4d06-bd3a-dc9a6c64756f",
   "metadata": {},
   "outputs": [],
   "source": []
  }
 ],
 "metadata": {
  "kernelspec": {
   "display_name": "Python 3 (ipykernel)",
   "language": "python",
   "name": "python3"
  },
  "language_info": {
   "codemirror_mode": {
    "name": "ipython",
    "version": 3
   },
   "file_extension": ".py",
   "mimetype": "text/x-python",
   "name": "python",
   "nbconvert_exporter": "python",
   "pygments_lexer": "ipython3",
   "version": "3.11.8"
  }
 },
 "nbformat": 4,
 "nbformat_minor": 5
}
