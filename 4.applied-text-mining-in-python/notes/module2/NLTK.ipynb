{
 "cells": [
  {
   "cell_type": "markdown",
   "id": "6b0ccf8e-fd89-4723-bcd8-2e37e4f25817",
   "metadata": {},
   "source": [
    "# NLTK"
   ]
  },
  {
   "cell_type": "markdown",
   "id": "5da1f699-9a3a-4192-8cb4-3beab89f7d3d",
   "metadata": {},
   "source": [
    "- NLTK: Natural Language Toolkit\n",
    "- Open source library in Python\n",
    "- Has supportfor most NLP tasks\n",
    "- Also provides access to numerous text corpora"
   ]
  },
  {
   "cell_type": "markdown",
   "id": "ead90f3a-aa77-4b37-8aa0-5e07b74eec79",
   "metadata": {},
   "source": [
    "<br>"
   ]
  },
  {
   "cell_type": "code",
   "execution_count": 18,
   "id": "64eb9033-4fcf-4238-8ab1-6478e2b54c67",
   "metadata": {},
   "outputs": [],
   "source": [
    "#nltk.download()"
   ]
  },
  {
   "cell_type": "code",
   "execution_count": 19,
   "id": "799de9fb-1e75-4dcc-b94b-7cb845eb0bc9",
   "metadata": {},
   "outputs": [],
   "source": [
    "import nltk"
   ]
  },
  {
   "cell_type": "markdown",
   "id": "86458506-c4d4-46fa-99d1-b22ba5fc30bb",
   "metadata": {},
   "source": [
    "<br>"
   ]
  },
  {
   "cell_type": "markdown",
   "id": "566d1942-00a7-4207-9549-23c2c6d045c8",
   "metadata": {},
   "source": [
    "Let's get some text corpora"
   ]
  },
  {
   "cell_type": "code",
   "execution_count": 20,
   "id": "f88b654c-83fb-478d-abfd-7920e0f5ce77",
   "metadata": {},
   "outputs": [],
   "source": [
    "from nltk.book import *"
   ]
  },
  {
   "cell_type": "code",
   "execution_count": 21,
   "id": "6754061c-847e-44e5-9986-71f89f1954d1",
   "metadata": {},
   "outputs": [
    {
     "data": {
      "text/plain": [
       "<Text: Wall Street Journal>"
      ]
     },
     "execution_count": 21,
     "metadata": {},
     "output_type": "execute_result"
    }
   ],
   "source": [
    "text7"
   ]
  },
  {
   "cell_type": "code",
   "execution_count": 22,
   "id": "68343153-7caa-4fbe-8728-a5bed49bd457",
   "metadata": {},
   "outputs": [
    {
     "name": "stdout",
     "output_type": "stream",
     "text": [
      "sent1: Call me Ishmael .\n",
      "sent2: The family of Dashwood had long been settled in Sussex .\n",
      "sent3: In the beginning God created the heaven and the earth .\n",
      "sent4: Fellow - Citizens of the Senate and of the House of Representatives :\n",
      "sent5: I have a problem with people PMing me to lol JOIN\n",
      "sent6: SCENE 1 : [ wind ] [ clop clop clop ] KING ARTHUR : Whoa there !\n",
      "sent7: Pierre Vinken , 61 years old , will join the board as a nonexecutive director Nov. 29 .\n",
      "sent8: 25 SEXY MALE , seeks attrac older single lady , for discreet encounters .\n",
      "sent9: THE suburb of Saffron Park lay on the sunset side of London , as red and ragged as a cloud of sunset .\n"
     ]
    }
   ],
   "source": [
    "sents()"
   ]
  },
  {
   "cell_type": "code",
   "execution_count": 23,
   "id": "0457a090-8900-4010-b003-77476bade143",
   "metadata": {},
   "outputs": [
    {
     "data": {
      "text/plain": [
       "['Pierre',\n",
       " 'Vinken',\n",
       " ',',\n",
       " '61',\n",
       " 'years',\n",
       " 'old',\n",
       " ',',\n",
       " 'will',\n",
       " 'join',\n",
       " 'the',\n",
       " 'board',\n",
       " 'as',\n",
       " 'a',\n",
       " 'nonexecutive',\n",
       " 'director',\n",
       " 'Nov.',\n",
       " '29',\n",
       " '.']"
      ]
     },
     "execution_count": 23,
     "metadata": {},
     "output_type": "execute_result"
    }
   ],
   "source": [
    "sent7 # one sentence of text7"
   ]
  },
  {
   "cell_type": "code",
   "execution_count": 24,
   "id": "73c94f11-2458-440d-9a60-b1a68d6b16f5",
   "metadata": {},
   "outputs": [
    {
     "data": {
      "text/plain": [
       "18"
      ]
     },
     "execution_count": 24,
     "metadata": {},
     "output_type": "execute_result"
    }
   ],
   "source": [
    "len(sent7)"
   ]
  },
  {
   "cell_type": "code",
   "execution_count": 25,
   "id": "22fef98d-0ee3-4921-b527-6da68ecb361d",
   "metadata": {},
   "outputs": [
    {
     "data": {
      "text/plain": [
       "100676"
      ]
     },
     "execution_count": 25,
     "metadata": {},
     "output_type": "execute_result"
    }
   ],
   "source": [
    "len(text7)"
   ]
  },
  {
   "cell_type": "code",
   "execution_count": 26,
   "id": "41ce2d64-5533-49e9-a90f-0672bcc6f1e7",
   "metadata": {},
   "outputs": [
    {
     "data": {
      "text/plain": [
       "12408"
      ]
     },
     "execution_count": 26,
     "metadata": {},
     "output_type": "execute_result"
    }
   ],
   "source": [
    "# palavras unicas\n",
    "len(set(text7))"
   ]
  },
  {
   "cell_type": "markdown",
   "id": "23ce8bdf-f8de-41e0-a7a1-f1aaf33e4fdc",
   "metadata": {},
   "source": [
    "<br>"
   ]
  },
  {
   "cell_type": "markdown",
   "id": "5a70c9cf-4ce4-48e4-b2ba-02fd97c14471",
   "metadata": {},
   "source": [
    "- Frequency of words"
   ]
  },
  {
   "cell_type": "code",
   "execution_count": 27,
   "id": "72145509-092f-49df-9c46-ca87a64b35ce",
   "metadata": {},
   "outputs": [],
   "source": [
    "dist=FreqDist(text7)"
   ]
  },
  {
   "cell_type": "code",
   "execution_count": 28,
   "id": "c5580434-6b93-4452-95b3-3910de54f422",
   "metadata": {},
   "outputs": [
    {
     "data": {
      "text/plain": [
       "12408"
      ]
     },
     "execution_count": 28,
     "metadata": {},
     "output_type": "execute_result"
    }
   ],
   "source": [
    "len(dist)"
   ]
  },
  {
   "cell_type": "code",
   "execution_count": 29,
   "id": "4553453e-f8df-4ade-ba3f-cb9145d9d2ec",
   "metadata": {},
   "outputs": [
    {
     "data": {
      "text/plain": [
       "['Pierre', 'Vinken', ',', '61', 'years', 'old', 'will', 'join', 'the', 'board']"
      ]
     },
     "execution_count": 29,
     "metadata": {},
     "output_type": "execute_result"
    }
   ],
   "source": [
    "vocab = dist.keys()\n",
    "list(vocab)[:10]"
   ]
  },
  {
   "cell_type": "code",
   "execution_count": 30,
   "id": "4dd07d3f-cf4a-45f5-ae4a-5c8c25c6686a",
   "metadata": {},
   "outputs": [
    {
     "data": {
      "text/plain": [
       "20"
      ]
     },
     "execution_count": 30,
     "metadata": {},
     "output_type": "execute_result"
    }
   ],
   "source": [
    "dist['four']"
   ]
  },
  {
   "cell_type": "markdown",
   "id": "3ae5daf0-35f3-484d-a0a8-98421bcccec6",
   "metadata": {},
   "source": [
    "<br>"
   ]
  },
  {
   "cell_type": "markdown",
   "id": "22a24a90-e806-4f2c-9305-9942ea3897fe",
   "metadata": {},
   "source": [
    "- Frequência de palavras que possuem mais de 5 caracteres (pra evitar pontuações e algumas palavras como 'then', 'so') e possuem pelo menos 100 repetições."
   ]
  },
  {
   "cell_type": "code",
   "execution_count": 31,
   "id": "2f9cb14b-1a5f-43e0-8869-5ff4ad2f71b9",
   "metadata": {},
   "outputs": [
    {
     "data": {
      "text/plain": [
       "['billion',\n",
       " 'company',\n",
       " 'president',\n",
       " 'because',\n",
       " 'market',\n",
       " 'million',\n",
       " 'shares',\n",
       " 'trading',\n",
       " 'program']"
      ]
     },
     "execution_count": 31,
     "metadata": {},
     "output_type": "execute_result"
    }
   ],
   "source": [
    "freqwords = [w for w in dist.keys() if len(w) >5 and dist[w] > 100]\n",
    "freqwords"
   ]
  },
  {
   "cell_type": "markdown",
   "id": "e283bd32-1a41-471f-98d7-d01b1ce1936b",
   "metadata": {},
   "source": [
    "## Tokenization"
   ]
  },
  {
   "cell_type": "code",
   "execution_count": 32,
   "id": "ae6d0dd0-5ef8-45c5-87d5-73121f9e8627",
   "metadata": {},
   "outputs": [],
   "source": [
    "text = \"Children, shouldn't drink a sugary drink before bed.\""
   ]
  },
  {
   "cell_type": "code",
   "execution_count": 33,
   "id": "1ad26570-1492-415b-b1e4-23e0e42a9158",
   "metadata": {},
   "outputs": [
    {
     "data": {
      "text/plain": [
       "['Children,', \"shouldn't\", 'drink', 'a', 'sugary', 'drink', 'before', 'bed.']"
      ]
     },
     "execution_count": 33,
     "metadata": {},
     "output_type": "execute_result"
    }
   ],
   "source": [
    "# Split\n",
    "text.split(' ')"
   ]
  },
  {
   "cell_type": "code",
   "execution_count": 34,
   "id": "d3d71477-c20d-467c-94c5-096fc06e643d",
   "metadata": {},
   "outputs": [
    {
     "ename": "NameError",
     "evalue": "name 'word_tokenize' is not defined",
     "output_type": "error",
     "traceback": [
      "\u001b[1;31m---------------------------------------------------------------------------\u001b[0m",
      "\u001b[1;31mNameError\u001b[0m                                 Traceback (most recent call last)",
      "Cell \u001b[1;32mIn[34], line 2\u001b[0m\n\u001b[0;32m      1\u001b[0m \u001b[38;5;66;03m# Tokenization\u001b[39;00m\n\u001b[1;32m----> 2\u001b[0m \u001b[43mword_tokenize\u001b[49m(text)\n",
      "\u001b[1;31mNameError\u001b[0m: name 'word_tokenize' is not defined"
     ]
    }
   ],
   "source": [
    "# Tokenization\n",
    "word_tokenize(text)"
   ]
  },
  {
   "cell_type": "markdown",
   "id": "54e4d42b-2075-43e9-9d01-d28ef766b4b2",
   "metadata": {},
   "source": [
    "## Sentence Splitting (sentence tokenize)"
   ]
  },
  {
   "cell_type": "code",
   "execution_count": 35,
   "id": "196975b0-5355-439d-8cc2-2d978ad2b0f0",
   "metadata": {},
   "outputs": [],
   "source": [
    "sentence = \"This is the first sentence. Just because U.S has a dot, does not mean that the sentence is finish. Is this the third sentence? Yes, it is!\""
   ]
  },
  {
   "cell_type": "code",
   "execution_count": 36,
   "id": "31cf6497-456b-4f10-a2c1-95e7b1d3cb27",
   "metadata": {},
   "outputs": [
    {
     "data": {
      "text/plain": [
       "['This is the first sentence.',\n",
       " 'Just because U.S has a dot, does not mean that the sentence is finish.',\n",
       " 'Is this the third sentence?',\n",
       " 'Yes, it is!']"
      ]
     },
     "execution_count": 36,
     "metadata": {},
     "output_type": "execute_result"
    }
   ],
   "source": [
    "sentences = nltk.sent_tokenize(sentence)\n",
    "sentences"
   ]
  },
  {
   "cell_type": "markdown",
   "id": "4e597ed1-4c2c-4898-b3f6-cd58c2dba65f",
   "metadata": {},
   "source": [
    "## Normalizing and Stemming words"
   ]
  },
  {
   "cell_type": "markdown",
   "id": "97b75747-a31e-437b-b05d-26039382489b",
   "metadata": {},
   "source": [
    "### Normalization"
   ]
  },
  {
   "cell_type": "markdown",
   "id": "157eded4-876a-49c4-89d3-21d054be2259",
   "metadata": {},
   "source": [
    "Process of transforming text into a standard format."
   ]
  },
  {
   "cell_type": "markdown",
   "id": "3e3b93a9-ba85-464c-9ef3-41e1c020b9fc",
   "metadata": {},
   "source": [
    "- Convert to lowercase\n",
    "- Remove punctuation\n",
    "- Remove stop words\n",
    "- Lemmatization"
   ]
  },
  {
   "cell_type": "markdown",
   "id": "b4e7bf59-40da-4bdb-8e7c-8c5c98976ade",
   "metadata": {},
   "source": [
    "<br>"
   ]
  },
  {
   "cell_type": "markdown",
   "id": "b0b70f88-8701-4df7-b46b-f9cf316d59cf",
   "metadata": {},
   "source": [
    "Differents forms of the same 'word'"
   ]
  },
  {
   "cell_type": "code",
   "execution_count": null,
   "id": "604c1d70-cce6-45b0-b067-60dabf3d5573",
   "metadata": {},
   "outputs": [],
   "source": [
    "input1 = \"List is listed, lists listing listings!\""
   ]
  },
  {
   "cell_type": "markdown",
   "id": "b3907880-dd20-4d7c-9b32-946a146f7864",
   "metadata": {},
   "source": [
    "<br>"
   ]
  },
  {
   "cell_type": "markdown",
   "id": "eb9229f3-8860-42f9-8c79-d31b1ced2f45",
   "metadata": {},
   "source": [
    "Convert to lowercase"
   ]
  },
  {
   "cell_type": "code",
   "execution_count": null,
   "id": "2f0629bd-2ec4-49c6-99e5-24e408bd6719",
   "metadata": {},
   "outputs": [],
   "source": [
    "lower_case_words = input1.lower()\n",
    "lower_case_words"
   ]
  },
  {
   "cell_type": "markdown",
   "id": "9a4eae97-f9c6-4c6e-b5cc-da7262f6bd1c",
   "metadata": {},
   "source": [
    "<br>"
   ]
  },
  {
   "cell_type": "markdown",
   "id": "e28a9665-1ec9-4f5a-8f82-ebfacaea1eeb",
   "metadata": {},
   "source": [
    "Remove punctuation"
   ]
  },
  {
   "cell_type": "code",
   "execution_count": null,
   "id": "056175cc-6fdc-4fea-96b6-61a5501b1289",
   "metadata": {},
   "outputs": [],
   "source": [
    "import string\n",
    "string.punctuation"
   ]
  },
  {
   "cell_type": "code",
   "execution_count": null,
   "id": "937411e5-b9bf-41cb-8f71-db0fe2d12e43",
   "metadata": {},
   "outputs": [],
   "source": [
    "# translate aplica uma tabela de tradução para realizar multiplas substituições\n",
    "# mktrans cria uma tabela de substituição\n",
    "rm_punctuation = lower_case_words.translate(str.maketrans('', '', string.punctuation))\n",
    "rm_punctuation"
   ]
  },
  {
   "cell_type": "markdown",
   "id": "5dd7d157-193e-4525-9a0d-a86c1323f544",
   "metadata": {},
   "source": [
    "<br>"
   ]
  },
  {
   "cell_type": "markdown",
   "id": "21fed6a5-23a8-4e0a-aa99-37fbb25a7391",
   "metadata": {},
   "source": [
    "Remove stopwords"
   ]
  },
  {
   "cell_type": "code",
   "execution_count": null,
   "id": "68ba635b-9ed9-4bf8-804c-f30107188fac",
   "metadata": {
    "scrolled": true
   },
   "outputs": [],
   "source": [
    "from nltk.corpus import stopwords\n",
    "sw = set(stopwords.words('english')) # torna a busca mais eficiente transformando em set\n",
    "sw"
   ]
  },
  {
   "cell_type": "code",
   "execution_count": null,
   "id": "663af7f0-0791-4532-b5da-cf0d70380e6d",
   "metadata": {},
   "outputs": [],
   "source": [
    "# tokenizar o texto \n",
    "from nltk.tokenize import word_tokenize\n",
    "\n",
    "token_words = word_tokenize(rm_punctuation)\n",
    "token_words\n",
    "\n",
    "rm_sw = [word for word in token_words if word not in sw]\n",
    "rm_sw"
   ]
  },
  {
   "cell_type": "markdown",
   "id": "b05b4984-b956-4dd7-afb3-c01d3579f843",
   "metadata": {},
   "source": [
    "<br>"
   ]
  },
  {
   "cell_type": "markdown",
   "id": "aeed3aa7-2ede-4fe0-8166-55de3c6066b6",
   "metadata": {},
   "source": [
    "##### Lemmatization"
   ]
  },
  {
   "cell_type": "markdown",
   "id": "e76aff36-64e6-4947-8d82-3fab32acb0f2",
   "metadata": {},
   "source": [
    "`Lemmatization always returns roots with meaning (unlike stemming)`"
   ]
  },
  {
   "cell_type": "code",
   "execution_count": null,
   "id": "efe59ad1-7ece-4776-8e37-435e93666954",
   "metadata": {},
   "outputs": [],
   "source": [
    "from nltk.stem import WordNetLemmatizer"
   ]
  },
  {
   "cell_type": "code",
   "execution_count": null,
   "id": "8b4f25ff-a669-4512-bd5f-7aba2963d21f",
   "metadata": {},
   "outputs": [],
   "source": [
    "lemmatizer = WordNetLemmatizer()\n",
    "\n",
    "token_words=word_tokenize(' '.join(rm_sw)) # Sem necessidade pois ja foi feito no passo anterior\n",
    "\n",
    "lemmatize_text = [lemmatizer.lemmatize(word, pos='v') for word in token_words]\n",
    "lemmatize_text"
   ]
  },
  {
   "cell_type": "markdown",
   "id": "3556d284-1432-4792-a53d-c6bd39e92e22",
   "metadata": {},
   "source": [
    "<br>"
   ]
  },
  {
   "cell_type": "markdown",
   "id": "b9717e8d-c661-4ba4-812f-9d5a280df7ee",
   "metadata": {},
   "source": [
    "### Stemming"
   ]
  },
  {
   "cell_type": "markdown",
   "id": "cb0ac346-5dea-447a-9297-00d185b6aee1",
   "metadata": {},
   "source": [
    "Process of reducing words to their roots or radicals by removing suffixes and prefixes.  \n",
    "Unlike lemmatizaion, stemming does not consider context and can produce word forms that are not real words."
   ]
  },
  {
   "cell_type": "code",
   "execution_count": null,
   "id": "e0e36174-fe6b-4906-a158-1984dd53d78a",
   "metadata": {},
   "outputs": [],
   "source": [
    "input1\n",
    "words = input1.lower().split(' ')\n",
    "words"
   ]
  },
  {
   "cell_type": "code",
   "execution_count": null,
   "id": "1687c4c7-2b9b-4740-be43-d676456b3b04",
   "metadata": {},
   "outputs": [],
   "source": [
    "porter = nltk.PorterStemmer()\n",
    "[porter.stem(t) for t in words1]"
   ]
  },
  {
   "cell_type": "code",
   "execution_count": null,
   "id": "e5d467ee-8809-4c96-b93f-9ccb7266ab00",
   "metadata": {},
   "outputs": [],
   "source": []
  },
  {
   "cell_type": "markdown",
   "id": "e185ff21-1ab9-4eef-83cf-f7f7fb8965e3",
   "metadata": {},
   "source": [
    "## Lemmatization x Stemming"
   ]
  },
  {
   "cell_type": "code",
   "execution_count": null,
   "id": "5350a74e-d272-4384-95a2-4c75704bd20b",
   "metadata": {},
   "outputs": [],
   "source": [
    "udhr = nltk.corpus.udhr.words('English-Latin1')\n",
    "udhr[:20]"
   ]
  },
  {
   "cell_type": "code",
   "execution_count": null,
   "id": "bc2f27f0-f859-4d57-9885-b8e40a82efe2",
   "metadata": {},
   "outputs": [],
   "source": [
    "print(\"Stemming\")\n",
    "[porter.stem(t) for t in udhr[:20]]"
   ]
  },
  {
   "cell_type": "code",
   "execution_count": null,
   "id": "5d71c24d-8a0a-4a9f-baf0-6d8bae59d874",
   "metadata": {},
   "outputs": [],
   "source": [
    "print(\"Lemmatization\")\n",
    "[lemmatizer.lemmatize(t) for t in udhr[:20]]"
   ]
  }
 ],
 "metadata": {
  "kernelspec": {
   "display_name": "Python 3 (ipykernel)",
   "language": "python",
   "name": "python3"
  },
  "language_info": {
   "codemirror_mode": {
    "name": "ipython",
    "version": 3
   },
   "file_extension": ".py",
   "mimetype": "text/x-python",
   "name": "python",
   "nbconvert_exporter": "python",
   "pygments_lexer": "ipython3",
   "version": "3.10.12"
  }
 },
 "nbformat": 4,
 "nbformat_minor": 5
}
