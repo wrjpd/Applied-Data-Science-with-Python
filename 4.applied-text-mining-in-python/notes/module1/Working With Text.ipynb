{
 "cells": [
  {
   "cell_type": "markdown",
   "id": "d4b0d513-f4ee-41b5-8b58-46407e044fed",
   "metadata": {},
   "source": [
    "# Working with Text"
   ]
  },
  {
   "cell_type": "code",
   "execution_count": 1,
   "id": "f22d66ec-5642-4259-ba1d-ed0f10475627",
   "metadata": {},
   "outputs": [],
   "source": [
    "text1 = \"Ethics are built right into the ideals and objectives of the United Nations \""
   ]
  },
  {
   "cell_type": "code",
   "execution_count": 2,
   "id": "f23cfbf3-b9a2-4df0-8bea-864891bef100",
   "metadata": {},
   "outputs": [
    {
     "data": {
      "text/plain": [
       "76"
      ]
     },
     "execution_count": 2,
     "metadata": {},
     "output_type": "execute_result"
    }
   ],
   "source": [
    "# caracteres\n",
    "len(text1)"
   ]
  },
  {
   "cell_type": "code",
   "execution_count": 4,
   "id": "0104b521-b68c-4663-be1a-3c09757349e9",
   "metadata": {},
   "outputs": [
    {
     "name": "stdout",
     "output_type": "stream",
     "text": [
      "Quantidade de palavras: 14\n"
     ]
    },
    {
     "data": {
      "text/plain": [
       "['Ethics',\n",
       " 'are',\n",
       " 'built',\n",
       " 'right',\n",
       " 'into',\n",
       " 'the',\n",
       " 'ideals',\n",
       " 'and',\n",
       " 'objectives',\n",
       " 'of',\n",
       " 'the',\n",
       " 'United',\n",
       " 'Nations',\n",
       " '']"
      ]
     },
     "execution_count": 4,
     "metadata": {},
     "output_type": "execute_result"
    }
   ],
   "source": [
    "# palavras (tokenização)\n",
    "text2=text1.split(' ')\n",
    "print(f'Quantidade de palavras: {len(text2)}')\n",
    "text2"
   ]
  },
  {
   "cell_type": "markdown",
   "id": "97e0f028-5140-497b-85ad-cbf2b366aa97",
   "metadata": {},
   "source": [
    "<br>"
   ]
  },
  {
   "cell_type": "markdown",
   "id": "50f36535-e75e-417e-b5fa-bb470af6428b",
   "metadata": {},
   "source": [
    "<br>\n",
    "Long words"
   ]
  },
  {
   "cell_type": "code",
   "execution_count": 5,
   "id": "7c1c5f58-5cf1-4aa3-bfb5-2d9256a16a58",
   "metadata": {},
   "outputs": [
    {
     "data": {
      "text/plain": [
       "['Ethics',\n",
       " 'built',\n",
       " 'right',\n",
       " 'into',\n",
       " 'ideals',\n",
       " 'objectives',\n",
       " 'United',\n",
       " 'Nations']"
      ]
     },
     "execution_count": 5,
     "metadata": {},
     "output_type": "execute_result"
    }
   ],
   "source": [
    "[word for word in text2 if len(word) > 3]"
   ]
  },
  {
   "cell_type": "markdown",
   "id": "96484836-535f-4c64-8d78-dbb9a71e07a2",
   "metadata": {},
   "source": [
    "<br>\n",
    "Capitalized words"
   ]
  },
  {
   "cell_type": "code",
   "execution_count": 17,
   "id": "66d8a6b4-4d1b-43ff-8504-6a943307dd75",
   "metadata": {},
   "outputs": [
    {
     "data": {
      "text/plain": [
       "['Ethics', 'United', 'Nations']"
      ]
     },
     "execution_count": 17,
     "metadata": {},
     "output_type": "execute_result"
    }
   ],
   "source": [
    "\n",
    "[word for word in text2 if word.istitle()]"
   ]
  },
  {
   "cell_type": "markdown",
   "id": "9b5a8506-123c-493a-a79d-244ec4fdefd2",
   "metadata": {},
   "source": [
    "<br>\n",
    "Words that end with s"
   ]
  },
  {
   "cell_type": "code",
   "execution_count": 19,
   "id": "bca9a97f-34b7-44e7-886d-787ebf244bf8",
   "metadata": {},
   "outputs": [
    {
     "data": {
      "text/plain": [
       "['Ethics', 'ideals', 'objectives', 'Nations']"
      ]
     },
     "execution_count": 19,
     "metadata": {},
     "output_type": "execute_result"
    }
   ],
   "source": [
    "[word for word in text2 if word.endswith('s')]"
   ]
  },
  {
   "cell_type": "markdown",
   "id": "41aab605-a195-40a4-8095-91e5edc882f8",
   "metadata": {},
   "source": [
    "<br>\n",
    "Unique words"
   ]
  },
  {
   "cell_type": "code",
   "execution_count": 20,
   "id": "7628fa59-59a4-4b41-a1f6-2db9defc86ee",
   "metadata": {},
   "outputs": [
    {
     "data": {
      "text/plain": [
       "{'be', 'not', 'or', 'to'}"
      ]
     },
     "execution_count": 20,
     "metadata": {},
     "output_type": "execute_result"
    }
   ],
   "source": [
    "text3='To be or not to be'\n",
    "set([w.lower() for w in text3.split(' ')])"
   ]
  },
  {
   "cell_type": "markdown",
   "id": "ea9c7012-a0a3-4920-8e33-4413d1f83e40",
   "metadata": {},
   "source": [
    "## Some word comparison functions"
   ]
  },
  {
   "cell_type": "markdown",
   "id": "c14c0c81-01f0-4bb1-8df0-eddd0987b809",
   "metadata": {},
   "source": [
    "- s.startswith(t)\n",
    "- s.endswith(t)\n",
    "- t in s\n",
    "- s.isupper(), s.islower(), s.istitle()\n",
    "- s.isalpha(), s.isdigit(), s.isalnum()"
   ]
  },
  {
   "cell_type": "code",
   "execution_count": 11,
   "id": "0e46e28b-c6df-4bf3-ae2a-7ae48f54e5c2",
   "metadata": {},
   "outputs": [],
   "source": [
    "texto = \"Ethics are built right into the ideals and objectives of the United Nations\""
   ]
  },
  {
   "cell_type": "code",
   "execution_count": 8,
   "id": "150f1990-dbb2-4e5d-a3b6-534477e0252a",
   "metadata": {},
   "outputs": [
    {
     "data": {
      "text/plain": [
       "True"
      ]
     },
     "execution_count": 8,
     "metadata": {},
     "output_type": "execute_result"
    }
   ],
   "source": [
    "texto.startswith('E')"
   ]
  },
  {
   "cell_type": "code",
   "execution_count": 12,
   "id": "4d921ed1-e5d4-4d16-a467-8fa0d2b9bad6",
   "metadata": {},
   "outputs": [
    {
     "data": {
      "text/plain": [
       "True"
      ]
     },
     "execution_count": 12,
     "metadata": {},
     "output_type": "execute_result"
    }
   ],
   "source": [
    "texto.endswith('s')"
   ]
  },
  {
   "cell_type": "code",
   "execution_count": 16,
   "id": "f1f8a91d-4718-4d25-9d8a-d4fe662065ab",
   "metadata": {},
   "outputs": [
    {
     "data": {
      "text/plain": [
       "True"
      ]
     },
     "execution_count": 16,
     "metadata": {},
     "output_type": "execute_result"
    }
   ],
   "source": [
    "'are' in texto"
   ]
  },
  {
   "cell_type": "code",
   "execution_count": 23,
   "id": "3e4d83f6-fc67-4079-b0fa-f69580d49b88",
   "metadata": {},
   "outputs": [
    {
     "data": {
      "text/plain": [
       "True"
      ]
     },
     "execution_count": 23,
     "metadata": {},
     "output_type": "execute_result"
    }
   ],
   "source": [
    "'AC'.isupper()"
   ]
  },
  {
   "cell_type": "code",
   "execution_count": 24,
   "id": "67ea2990-17e9-4e0c-b7cf-7822abf4e9ec",
   "metadata": {},
   "outputs": [
    {
     "data": {
      "text/plain": [
       "True"
      ]
     },
     "execution_count": 24,
     "metadata": {},
     "output_type": "execute_result"
    }
   ],
   "source": [
    "'ac'.islower()"
   ]
  },
  {
   "cell_type": "code",
   "execution_count": 30,
   "id": "365b5736-c44e-4fec-9a8b-c1f526caed5d",
   "metadata": {},
   "outputs": [
    {
     "data": {
      "text/plain": [
       "True"
      ]
     },
     "execution_count": 30,
     "metadata": {},
     "output_type": "execute_result"
    }
   ],
   "source": [
    "'1584849abcDE'.isalnum()"
   ]
  },
  {
   "cell_type": "markdown",
   "id": "63b20972-a405-46fd-8823-06cfeb6e6a44",
   "metadata": {},
   "source": [
    "## String Operations"
   ]
  },
  {
   "cell_type": "markdown",
   "id": "79e797c4-8c19-4eea-ae63-3001404d2317",
   "metadata": {},
   "source": [
    "- s.lower(), s.upper(), s.title()\n",
    "- s.split(t)\n",
    "- s.splitlines()\n",
    "- join(t)\n",
    "- s.strip(), s.rstrip()\n",
    "- s.find(t), s.rfind(t)\n",
    "- s.replace(u,v)"
   ]
  },
  {
   "cell_type": "code",
   "execution_count": 32,
   "id": "385a78ef-3b83-495c-b2c4-42fb8c3aa8ef",
   "metadata": {},
   "outputs": [],
   "source": [
    "texto = \"ethics Nations\""
   ]
  },
  {
   "cell_type": "code",
   "execution_count": 33,
   "id": "d5cf6dc7-e651-4017-87a3-f17a428b7309",
   "metadata": {},
   "outputs": [
    {
     "data": {
      "text/plain": [
       "'ethics nations'"
      ]
     },
     "execution_count": 33,
     "metadata": {},
     "output_type": "execute_result"
    }
   ],
   "source": [
    "texto.lower()"
   ]
  },
  {
   "cell_type": "code",
   "execution_count": 34,
   "id": "438b3a70-46e5-4631-bd21-dec40c6f7059",
   "metadata": {},
   "outputs": [
    {
     "data": {
      "text/plain": [
       "'ETHICS NATIONS'"
      ]
     },
     "execution_count": 34,
     "metadata": {},
     "output_type": "execute_result"
    }
   ],
   "source": [
    "texto.upper()"
   ]
  },
  {
   "cell_type": "code",
   "execution_count": 37,
   "id": "5ac63b6c-0a85-459b-bc10-33414b416166",
   "metadata": {},
   "outputs": [
    {
     "data": {
      "text/plain": [
       "'Ethics Nations'"
      ]
     },
     "execution_count": 37,
     "metadata": {},
     "output_type": "execute_result"
    }
   ],
   "source": [
    "texto.title()"
   ]
  },
  {
   "cell_type": "code",
   "execution_count": 38,
   "id": "96a70d65-8005-4401-b929-40f2bd126872",
   "metadata": {},
   "outputs": [
    {
     "data": {
      "text/plain": [
       "['ethics', 'Nations']"
      ]
     },
     "execution_count": 38,
     "metadata": {},
     "output_type": "execute_result"
    }
   ],
   "source": [
    "texto.split()"
   ]
  },
  {
   "cell_type": "code",
   "execution_count": 40,
   "id": "2c6b8917-0efb-49dd-a319-3c3749aa7ac7",
   "metadata": {},
   "outputs": [
    {
     "data": {
      "text/plain": [
       "['ethics nations ', ' ETICHS NATIONS']"
      ]
     },
     "execution_count": 40,
     "metadata": {},
     "output_type": "execute_result"
    }
   ],
   "source": [
    "\"ethics nations \\n ETICHS NATIONS\".splitlines()"
   ]
  },
  {
   "cell_type": "code",
   "execution_count": 43,
   "id": "d187a777-54cf-4e19-9ded-355f1158667f",
   "metadata": {},
   "outputs": [
    {
     "data": {
      "text/plain": [
       "'e.t.h.i.c.s. .N.a.t.i.o.n.s'"
      ]
     },
     "execution_count": 43,
     "metadata": {},
     "output_type": "execute_result"
    }
   ],
   "source": [
    "'.'.join(texto)"
   ]
  },
  {
   "cell_type": "code",
   "execution_count": 62,
   "id": "d9ef2a22-7a2e-44bc-91c8-00d5acd8519b",
   "metadata": {},
   "outputs": [
    {
     "data": {
      "text/plain": [
       "5"
      ]
     },
     "execution_count": 62,
     "metadata": {},
     "output_type": "execute_result"
    }
   ],
   "source": [
    "texto.find('s') # index da primeira ocorrencia da string passada"
   ]
  },
  {
   "cell_type": "code",
   "execution_count": 63,
   "id": "fadbe02f-edd6-4580-bda7-84c97495bbaa",
   "metadata": {},
   "outputs": [
    {
     "data": {
      "text/plain": [
       "13"
      ]
     },
     "execution_count": 63,
     "metadata": {},
     "output_type": "execute_result"
    }
   ],
   "source": [
    "texto.rfind('s') # index da ultima ocorrencia da string passada"
   ]
  },
  {
   "cell_type": "code",
   "execution_count": 64,
   "id": "5c99700c-090b-4066-9f74-436096539333",
   "metadata": {},
   "outputs": [],
   "source": [
    "texto2= \" ethics Nations \""
   ]
  },
  {
   "cell_type": "code",
   "execution_count": 65,
   "id": "42856c16-4d55-44b3-8328-f35d54129f21",
   "metadata": {},
   "outputs": [
    {
     "data": {
      "text/plain": [
       "'ethics Nations'"
      ]
     },
     "execution_count": 65,
     "metadata": {},
     "output_type": "execute_result"
    }
   ],
   "source": [
    "texto2.strip()"
   ]
  },
  {
   "cell_type": "code",
   "execution_count": 66,
   "id": "43b6f3f0-0ceb-43aa-8090-daecb35e9792",
   "metadata": {},
   "outputs": [
    {
     "data": {
      "text/plain": [
       "' ethics Nations'"
      ]
     },
     "execution_count": 66,
     "metadata": {},
     "output_type": "execute_result"
    }
   ],
   "source": [
    "texto2.rstrip()"
   ]
  },
  {
   "cell_type": "markdown",
   "id": "91fb92d5-168f-4ab1-b937-8a1c814c759a",
   "metadata": {},
   "source": [
    "## Handling larger texts"
   ]
  },
  {
   "cell_type": "markdown",
   "id": "21781a6c-09ec-4d32-a174-dfc08fb6a8e7",
   "metadata": {},
   "source": [
    "### File Operations"
   ]
  },
  {
   "cell_type": "markdown",
   "id": "c2315a81-8114-4262-b8e9-8c8c91724754",
   "metadata": {},
   "source": [
    "- file.readline(), file.read(), f.read(n)\n",
    "- file.seek(n)\n",
    "- file.write(message)\n",
    "- file.close()\n",
    "- file.closed"
   ]
  },
  {
   "cell_type": "markdown",
   "id": "bd820244-9924-4b4a-9c30-961a349e4866",
   "metadata": {},
   "source": [
    "<br>\n",
    "Readling files line by line"
   ]
  },
  {
   "cell_type": "code",
   "execution_count": 26,
   "id": "b0e8e5b4-a272-43bc-8fdc-30720cdc2379",
   "metadata": {},
   "outputs": [
    {
     "name": "stdout",
     "output_type": "stream",
     "text": [
      "The Matrix is a 1999 science fiction action film[5][6] written and directed by the Wachowskis.[a]\n",
      "\n",
      "It is the first installment in the Matrix film series, starring Keanu Reeves, Laurence Fishburne, Carrie-Anne Moss, Hugo \n",
      "\n"
     ]
    }
   ],
   "source": [
    "with open('matrix.txt', 'r') as file:\n",
    "    linha1=file.readline()\n",
    "    print(linha1)\n",
    "    \n",
    "    linha2=file.readline()\n",
    "    print(linha2)\n",
    "    file.close()"
   ]
  },
  {
   "cell_type": "markdown",
   "id": "231547dd-9b30-43ca-a4d6-e159a73303a3",
   "metadata": {},
   "source": [
    "<br>\n",
    "Reading the fulle file"
   ]
  },
  {
   "cell_type": "code",
   "execution_count": 32,
   "id": "5d343da3-08cd-4773-95ba-49c3c9e538b3",
   "metadata": {},
   "outputs": [
    {
     "name": "stdout",
     "output_type": "stream",
     "text": [
      "O texto tem 663 caracteres e 6 linhas\n",
      "\n",
      "\n",
      "The Matrix is a 1999 science fiction action film[5][6] written and directed by the Wachowskis.[a]\n",
      "It is the first installment in the Matrix film series, starring Keanu Reeves, Laurence Fishburne, Carrie-Anne Moss, Hugo \n",
      "Weaving and Joe Pantoliano, and depicts a dystopian future in which humanity is unknowingly trapped inside the Matrix, a \n",
      "simulated reality that intelligent machines have created to distract humans while using their bodies as an energy source.[7] \n",
      "When computer programmer Thomas Anderson, under the hacker alias \"Neo\", uncovers the truth, he joins a rebellion against the \n",
      "machines along with other people who have been freed from the Matrix.\n"
     ]
    }
   ],
   "source": [
    "with open('matrix.txt','r') as file:\n",
    "    texto=file.read()\n",
    "    print(f'O texto tem {len(texto)} caracteres e {len(texto.splitlines())} linhas')\n",
    "    print('\\n')\n",
    "    print(texto)\n",
    "    file.close()"
   ]
  },
  {
   "cell_type": "code",
   "execution_count": 67,
   "id": "e8bab9fc-1163-4bfa-9de4-cfabd3fb5b35",
   "metadata": {},
   "outputs": [],
   "source": [
    "tweet = \"@nltk Text analysis is awesome! #regex #pandas #python\"\n",
    "texto=tweet.split(\" \")\n"
   ]
  },
  {
   "cell_type": "code",
   "execution_count": 68,
   "id": "debdf213-98b5-4c04-8502-3ab06bddc9ea",
   "metadata": {},
   "outputs": [
    {
     "data": {
      "text/plain": [
       "['@nltk', 'Text', 'analysis', 'is', 'awesome!', '#regex', '#pandas', '#python']"
      ]
     },
     "execution_count": 68,
     "metadata": {},
     "output_type": "execute_result"
    }
   ],
   "source": [
    "texto"
   ]
  },
  {
   "cell_type": "code",
   "execution_count": 72,
   "id": "6fd96227-38dd-4a1f-97cc-ed26d0b733d3",
   "metadata": {},
   "outputs": [],
   "source": [
    "hash_callouts=[word for word in texto if word.startswith(\"@\") or word.startswith(\"#\")]"
   ]
  },
  {
   "cell_type": "code",
   "execution_count": 73,
   "id": "927b65df-943d-44cc-ab9b-96d4bd19b0f2",
   "metadata": {},
   "outputs": [
    {
     "data": {
      "text/plain": [
       "['@nltk', '#regex', '#pandas', '#python']"
      ]
     },
     "execution_count": 73,
     "metadata": {},
     "output_type": "execute_result"
    }
   ],
   "source": [
    "hash_callouts"
   ]
  },
  {
   "cell_type": "code",
   "execution_count": null,
   "id": "936ffb0e-0efc-4f39-b5e7-f4ce926c0213",
   "metadata": {},
   "outputs": [],
   "source": []
  }
 ],
 "metadata": {
  "kernelspec": {
   "display_name": "Python 3 (ipykernel)",
   "language": "python",
   "name": "python3"
  },
  "language_info": {
   "codemirror_mode": {
    "name": "ipython",
    "version": 3
   },
   "file_extension": ".py",
   "mimetype": "text/x-python",
   "name": "python",
   "nbconvert_exporter": "python",
   "pygments_lexer": "ipython3",
   "version": "3.10.12"
  }
 },
 "nbformat": 4,
 "nbformat_minor": 5
}
