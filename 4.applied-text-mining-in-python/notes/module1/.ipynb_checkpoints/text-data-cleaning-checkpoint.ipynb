{
 "cells": [
  {
   "cell_type": "markdown",
   "id": "fd17e84e-0d79-43c3-a412-00f342afc6d7",
   "metadata": {},
   "source": [
    "# Steps for effective text data cleaning\n",
    "**1.Escaping HTML characters**  \n",
    "**2.Decoding data**  \n",
    "**3.Apostrophe Lookup**  \n",
    "**4.Removal of Stop-words**  \n",
    "**5.Removal of Punctuations**  \n",
    "**6.Removal of Expressions**  \n",
    "**7.Split Attached Words**  \n",
    "**8.Slangs lookup**  \n",
    "**9.Standardizing words**  \n",
    "**10.Removal of URLs**  "
   ]
  },
  {
   "cell_type": "code",
   "execution_count": 4,
   "id": "d8ef2968-1ab0-4d10-b197-d2e2078e82b0",
   "metadata": {},
   "outputs": [],
   "source": [
    "original_tweet = \"I luv my &lt;3 iphone &amp; you’re awsm apple. DisplayIsAwesome, sooo happppppy 🙂 http://www.apple.com\""
   ]
  },
  {
   "cell_type": "markdown",
   "id": "8e27e09e-aa6a-4004-be82-634b8247c68b",
   "metadata": {},
   "source": [
    "<br>"
   ]
  },
  {
   "cell_type": "markdown",
   "id": "8e009906-add5-4fc1-a88f-45a1ffd5bcb5",
   "metadata": {},
   "source": [
    "### Escaping HTML characters"
   ]
  },
  {
   "cell_type": "markdown",
   "id": "978288c3-27b0-492d-a11c-0180a35e7fb0",
   "metadata": {},
   "source": [
    "Dados obtidos da WEB contém um monte de entidades como: &lt, &gt, &amp.  \n",
    "Podemos usar o htmlparser para limpa-los"
   ]
  },
  {
   "cell_type": "code",
   "execution_count": 26,
   "id": "f6d3c025-1b8c-421b-9228-9230fd903f52",
   "metadata": {},
   "outputs": [
    {
     "name": "stdout",
     "output_type": "stream",
     "text": [
      "I luv my <3 iphone & you’re awsm apple. DisplayIsAwesome, sooo happppppy 🙂 http://www.apple.com\n"
     ]
    }
   ],
   "source": [
    "import html\n",
    "tweet = html.unescape(original_tweet)\n",
    "print(tweet)"
   ]
  },
  {
   "cell_type": "markdown",
   "id": "fd753365-2333-4f8e-878b-eef43d79cbb2",
   "metadata": {},
   "source": [
    "<br>"
   ]
  },
  {
   "cell_type": "markdown",
   "id": "4c5190a6-78da-4f95-b46f-2c1c9b88e19f",
   "metadata": {},
   "source": [
    "### Decoding data"
   ]
  },
  {
   "cell_type": "markdown",
   "id": "b7fe982e-b550-4c1d-ae94-e3ef83b9787d",
   "metadata": {},
   "source": [
    "Transformar simbolos complexos em um simples caracteres.  \n",
    "O texto pode estar sujeito a diferentes formas de decodificação, como \"LatiN\", \"ASCII\", \"UTF8\",etc.  \n",
    "Para uma melhor análise, é necessário manter os dados em um formato de codificação padrão. UTF-8 é amplamente aceito e recomendado."
   ]
  },
  {
   "cell_type": "code",
   "execution_count": 29,
   "id": "7aaf94bf-dca1-46ee-8d65-16b7b7d88fe4",
   "metadata": {},
   "outputs": [
    {
     "data": {
      "text/plain": [
       "'I luv my <3 iphone & you’re awsm apple. DisplayIsAwesome, sooo happppppy 🙂 http://www.apple.com'"
      ]
     },
     "execution_count": 29,
     "metadata": {},
     "output_type": "execute_result"
    }
   ],
   "source": [
    "tweet"
   ]
  },
  {
   "cell_type": "code",
   "execution_count": 27,
   "id": "2f6de8fb-1c98-4f3e-b7d9-bdea315d45e3",
   "metadata": {},
   "outputs": [
    {
     "ename": "AttributeError",
     "evalue": "'str' object has no attribute 'decode'",
     "output_type": "error",
     "traceback": [
      "\u001b[1;31m---------------------------------------------------------------------------\u001b[0m",
      "\u001b[1;31mAttributeError\u001b[0m                            Traceback (most recent call last)",
      "Cell \u001b[1;32mIn[27], line 1\u001b[0m\n\u001b[1;32m----> 1\u001b[0m tweet \u001b[38;5;241m=\u001b[39m \u001b[43mtweet\u001b[49m\u001b[38;5;241;43m.\u001b[39;49m\u001b[43mdecode\u001b[49m(\u001b[38;5;124m\"\u001b[39m\u001b[38;5;124mutf8\u001b[39m\u001b[38;5;124m\"\u001b[39m)\u001b[38;5;241m.\u001b[39mencode(\u001b[38;5;124m\"\u001b[39m\u001b[38;5;124mascii\u001b[39m\u001b[38;5;124m\"\u001b[39m,\u001b[38;5;124m\"\u001b[39m\u001b[38;5;124mignore\u001b[39m\u001b[38;5;124m\"\u001b[39m)\n\u001b[0;32m      2\u001b[0m tweet\n",
      "\u001b[1;31mAttributeError\u001b[0m: 'str' object has no attribute 'decode'"
     ]
    }
   ],
   "source": [
    "tweet = tweet.decode(\"utf8\").encode(\"ascii\",\"ignore\")"
   ]
  },
  {
   "cell_type": "markdown",
   "id": "2fce373f-2fdc-45a6-a340-d01c3d761468",
   "metadata": {},
   "source": [
    "<br>"
   ]
  },
  {
   "cell_type": "markdown",
   "id": "8cea2ccb-b2ac-4ae9-8b5d-2a24da3441e8",
   "metadata": {},
   "source": [
    "### Apostrophe Lookup"
   ]
  },
  {
   "cell_type": "markdown",
   "id": "6eb4a6a9-639b-4e50-be8c-38b272a2f9d9",
   "metadata": {},
   "source": [
    "Quando apóstrofos são usados, as chances de ambiguação aumentam.   \n",
    "Exemplo em inglês: `it’s` pode ser uma contração para *it is* ou *it has*.\n",
    "\n",
    "Todos os apóstrofos devem ser convertidos padrões léxicos.Pode se consultar uma tabela pra isso"
   ]
  },
  {
   "cell_type": "code",
   "execution_count": 87,
   "id": "381a6205-5ccb-446b-bb8a-83faf6640ffc",
   "metadata": {},
   "outputs": [
    {
     "data": {
      "text/plain": [
       "'I luv my <3 iphone & you’re awsm apple. DisplayIsAwesome, sooo happppppy 🙂 http://www.apple.com'"
      ]
     },
     "execution_count": 87,
     "metadata": {},
     "output_type": "execute_result"
    }
   ],
   "source": [
    "tweet"
   ]
  },
  {
   "cell_type": "code",
   "execution_count": null,
   "id": "268a563d-06b9-4580-a401-ad4250c764e8",
   "metadata": {},
   "outputs": [],
   "source": []
  },
  {
   "cell_type": "code",
   "execution_count": 103,
   "id": "710f4ea2-c659-4c4f-9fcc-ff7dd91f9752",
   "metadata": {},
   "outputs": [
    {
     "data": {
      "text/plain": [
       "'I luv my <3 iphone & you are awsm apple. DisplayIsAwesome, sooo happppppy 🙂 http://www.apple.com'"
      ]
     },
     "execution_count": 103,
     "metadata": {},
     "output_type": "execute_result"
    }
   ],
   "source": [
    "# Example\n",
    "APPOSTOPHES = {\"’s\" : \"is\", \"’re\" : \"are\"}\n",
    "\n",
    "words = re.split(\"(’\\w+)\",tweet)\n",
    "reformed = [APPOSTOPHES[word] if word in APPOSTOPHES else word for word in words]\n",
    "reformed = [word.strip() for word in reformed]\n",
    "reformed = \" \".join(reformed)\n",
    "reformed"
   ]
  },
  {
   "cell_type": "markdown",
   "id": "902557ef-a370-4bbb-8a0b-c7a081678a0c",
   "metadata": {},
   "source": [
    "<br>"
   ]
  },
  {
   "cell_type": "markdown",
   "id": "06de1b8c-8eb1-4956-907c-f8faea7381d6",
   "metadata": {},
   "source": [
    "### Removal of Stop-words"
   ]
  },
  {
   "cell_type": "markdown",
   "id": "a4a27b3e-01cf-4ce7-8f72-ef126514e5ca",
   "metadata": {},
   "source": [
    "Quando a análise de dados precisa ser orientada por dados ao nível das palavras, as palavras comuns (stop-words) devem ser removidas. Para isso, podemos criar uma lista ou usar bibliotecas que possuem as stop-words. \n",
    "\n",
    "Ao remover as stop-wrods, o foco da análise se concentra mais nas palavras que realmente contribuem para o contexto e o significado do texto, como substantivos, verbos e adjetivos que fornecem informações mais específicas e úteis."
   ]
  },
  {
   "cell_type": "markdown",
   "id": "77b65301-72ad-4b60-891e-e6d50011bd42",
   "metadata": {},
   "source": [
    "<br>"
   ]
  },
  {
   "cell_type": "markdown",
   "id": "24902fc8-1f96-4b46-84b1-af36d9fbc1d6",
   "metadata": {},
   "source": [
    "## Removal of Punctuations"
   ]
  },
  {
   "cell_type": "markdown",
   "id": "15146718-ccb5-444b-93fa-b15574220ceb",
   "metadata": {},
   "source": [
    "Todos os sinais de pontuação de acordo com as prioridades devem ser tratados. Por exemplo: \".\", \",\" e \"?\" devem ser mantidos para entender o texto, enquanto outras precisam ser removidas."
   ]
  },
  {
   "cell_type": "markdown",
   "id": "a1c5ba44-a3e5-4be0-a3d1-1458cb377566",
   "metadata": {},
   "source": [
    "<br>"
   ]
  },
  {
   "cell_type": "markdown",
   "id": "a95b319f-c4a7-4a65-88ed-9c5d7a2b6830",
   "metadata": {},
   "source": [
    "### Removal of Expressions"
   ]
  },
  {
   "cell_type": "markdown",
   "id": "ea02f7ca-9c32-4e2d-a5d5-5493280501c6",
   "metadata": {},
   "source": [
    "Textos (normalmente audios transcritos) podem conter expressões humanas como risada, choro, pausas. Essas expressões não são relevantes para o conteúdo e significado do texto e precisam ser removidas"
   ]
  },
  {
   "cell_type": "markdown",
   "id": "889ad97c-65cd-4be1-b787-294984d1776b",
   "metadata": {},
   "source": [
    "<br>"
   ]
  },
  {
   "cell_type": "markdown",
   "id": "a002b2aa-7ed5-4650-9b7e-321922151bd1",
   "metadata": {},
   "source": [
    "### Split Attached Words"
   ]
  },
  {
   "cell_type": "markdown",
   "id": "92b2a21c-ca6c-4181-b555-f76ec2e14d61",
   "metadata": {},
   "source": [
    "Os textos gerados nas redes sociais são completamente informais. A maioria dos tweets, por exemplo, são acompanhados por muitas palavras ligadas como \"DisplayIsAwesome\". Elas precisam ser separadas em sua forma original."
   ]
  },
  {
   "cell_type": "code",
   "execution_count": 106,
   "id": "be342355-6917-4526-ae23-bad440bcbad3",
   "metadata": {},
   "outputs": [
    {
     "data": {
      "text/plain": [
       "'I luv my <3 iphone & you are awsm apple. DisplayIsAwesome, sooo happppppy 🙂 http://www.apple.com'"
      ]
     },
     "execution_count": 106,
     "metadata": {},
     "output_type": "execute_result"
    }
   ],
   "source": [
    "reformed"
   ]
  },
  {
   "cell_type": "code",
   "execution_count": 114,
   "id": "e2bdb3e7-dab1-44e5-974e-1948542dce0c",
   "metadata": {},
   "outputs": [
    {
     "data": {
      "text/plain": [
       "'I luv my <3 iphone & you are awsm apple.  Display Is Awesome, sooo happppppy 🙂 http://www.apple.com'"
      ]
     },
     "execution_count": 114,
     "metadata": {},
     "output_type": "execute_result"
    }
   ],
   "source": [
    "cleaned = \" \".join(re.findall('[A-Z][^A-Z]*',reformed))\n",
    "cleaned"
   ]
  },
  {
   "cell_type": "markdown",
   "id": "dcef6fe7-b247-4765-a147-4098d61f0fc7",
   "metadata": {},
   "source": [
    "<br>"
   ]
  },
  {
   "cell_type": "markdown",
   "id": "309d6bc8-81bb-4110-be22-52f3e96c9eac",
   "metadata": {},
   "source": [
    "### Slangs lookup"
   ]
  },
  {
   "cell_type": "markdown",
   "id": "05d65731-b098-4614-8d37-7fd1fac163db",
   "metadata": {},
   "source": [
    "As redes sociais são compostas por muitas gírias. Essas palavras devem ser transformadas em palavras padrão para formar um texto livre. Palavras como 'luv' devem ser convertidas em 'amor', 'Helo' em 'Hello', etc.  \n",
    "A abordagem semelhante de pesquisa de apóstrofo pode ser usada para converter gírias conhecidas em palavras padrões.\n",
    "\n",
    "Existem várias fontes disponíveis na web, que fornecem todas as gírias disponíveis."
   ]
  },
  {
   "cell_type": "code",
   "execution_count": 123,
   "id": "c3b6b4f2-9092-429d-b806-e2ce7e9c41f7",
   "metadata": {},
   "outputs": [
    {
     "data": {
      "text/plain": [
       "'I love my <3 iphone & you are awesome apple. Display Is Awesome, sooo happppppy 🙂 http://www.apple.com'"
      ]
     },
     "execution_count": 123,
     "metadata": {},
     "output_type": "execute_result"
    }
   ],
   "source": [
    "# Example\n",
    "SLANGS = {\"luv\":\"love\",\"awsm\":\"awesome\"}\n",
    "\n",
    "words = cleaned.split()\n",
    "reformed_2 = [SLANGS[word] if word in SLANGS else word for word in words]\n",
    "# reformed_2 = [word.strip() for word in reformed]\n",
    "reformed_2 = \" \".join(reformed_2)\n",
    "reformed_2"
   ]
  },
  {
   "cell_type": "markdown",
   "id": "1488b356-4059-4855-9e63-e196ceb7aba7",
   "metadata": {},
   "source": [
    "<br>"
   ]
  },
  {
   "cell_type": "markdown",
   "id": "de132383-90da-4940-8a49-3d64afb84a72",
   "metadata": {},
   "source": [
    "### Standardizing words"
   ]
  },
  {
   "cell_type": "markdown",
   "id": "09a34e51-aef4-4504-aefe-6dd89c755588",
   "metadata": {},
   "source": [
    "As vezes, as palavras não estão em um formato apropriado.  \n",
    "\n",
    "Por exemplo:  \n",
    "`sooo happppppppy`"
   ]
  },
  {
   "cell_type": "code",
   "execution_count": 145,
   "id": "57a89178-e564-4161-b12a-c9035ce1767d",
   "metadata": {},
   "outputs": [],
   "source": [
    "import itertools\n",
    "tweet=''.join(''.join(s)[:2] for _, s in itertools.groupby(reformed_2))"
   ]
  },
  {
   "cell_type": "markdown",
   "id": "87964e9a-6ceb-4709-b725-2903bf88204d",
   "metadata": {},
   "source": [
    "<br>"
   ]
  },
  {
   "cell_type": "markdown",
   "id": "9b976b2c-e2bd-46fd-ad17-ce1a338a9f1b",
   "metadata": {},
   "source": [
    "### Removal of URLs"
   ]
  },
  {
   "cell_type": "markdown",
   "id": "9630651f-6d7e-422a-b36f-45565d3f10ed",
   "metadata": {},
   "source": [
    "URLs e hiperlinks em dados de texto como comentários, resenhas e tweets devem ser removidos."
   ]
  },
  {
   "cell_type": "code",
   "execution_count": 149,
   "id": "9c75717e-00ba-4dd4-a3bc-89c0ea1bd4b8",
   "metadata": {},
   "outputs": [],
   "source": [
    "clean_hyperlink=re.sub( r'https?://\\S+','',tweet)\n",
    "clean=re.sub('[\\d<>]','',clean_hyperlink)\n",
    "\n",
    "tweet_final = clean.split()\n",
    "tweet_final = [word.strip() for word in tweet_final]\n",
    "tweet_final = \" \".join(tweet_final)"
   ]
  },
  {
   "cell_type": "code",
   "execution_count": 150,
   "id": "a5fff32d-9d93-49ec-9f3d-e2346535d8e3",
   "metadata": {},
   "outputs": [
    {
     "data": {
      "text/plain": [
       "'I love my iphone & you are awesome apple. Display Is Awesome, soo happy 🙂'"
      ]
     },
     "execution_count": 150,
     "metadata": {},
     "output_type": "execute_result"
    }
   ],
   "source": [
    "tweet_final"
   ]
  }
 ],
 "metadata": {
  "kernelspec": {
   "display_name": "Python 3 (ipykernel)",
   "language": "python",
   "name": "python3"
  },
  "language_info": {
   "codemirror_mode": {
    "name": "ipython",
    "version": 3
   },
   "file_extension": ".py",
   "mimetype": "text/x-python",
   "name": "python",
   "nbconvert_exporter": "python",
   "pygments_lexer": "ipython3",
   "version": "3.11.9"
  }
 },
 "nbformat": 4,
 "nbformat_minor": 5
}
