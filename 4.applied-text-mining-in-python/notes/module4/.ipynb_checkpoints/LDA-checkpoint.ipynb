{
 "cells": [
  {
   "cell_type": "markdown",
   "id": "4a88d447-2a6b-4587-ab05-55f0c1e1c560",
   "metadata": {},
   "source": [
    "# Working with LDA"
   ]
  },
  {
   "cell_type": "markdown",
   "id": "2204de76-453a-4314-ac66-62ce12dafb17",
   "metadata": {},
   "source": [
    "- Pre-processing text\n",
    "    - Tokenize, normalize (lowercase)\n",
    "    - Stop word removal\n",
    "    - Stemming\n",
    "- Convert tokenized documents to a document - term matrix\n",
    "- Build LDA models on the doc-term matrix"
   ]
  },
  {
   "cell_type": "code",
   "execution_count": 1,
   "id": "e7d4529a-7319-4fc8-969f-070b4b150947",
   "metadata": {},
   "outputs": [],
   "source": [
    "text = \"\"\"\n",
    "In recent years, genetic testing has revolutionized the landscape of personalized medicine, offering tailored treatment strategies based on an individual's genetic makeup. This advancement allows healthcare providers to predict disease susceptibility, identify optimal drug therapies, and personalize preventive care plans.\n",
    "\n",
    "Genetic testing involves analyzing an individual's DNA to detect variations that may indicate predisposition to certain diseases or influence drug metabolism. For instance, pharmacogenomics uses genetic information to predict how patients will respond to medications, minimizing adverse reactions and optimizing efficacy.\n",
    "\n",
    "In oncology, genetic testing plays a crucial role in identifying mutations associated with cancer development, guiding treatment decisions such as targeted therapies and immunotherapies. Moreover, in reproductive medicine, genetic testing helps assess the risk of inherited disorders in embryos during in vitro fertilization (IVF), offering prospective parents valuable information to make informed decisions about family planning.\n",
    "\n",
    "Despite its benefits, ethical considerations and privacy concerns surround genetic testing. Issues such as the potential misuse of genetic information and the psychological impact of test results on patients highlight the importance of comprehensive genetic counseling and stringent privacy safeguards.\n",
    "\n",
    "Looking ahead, ongoing research in genomics promises further advancements in personalized medicine, potentially uncovering new therapeutic targets and refining diagnostic approaches. As technology continues to evolve, integrating genetic testing into routine clinical practice holds the promise of improving patient outcomes and shaping the future of healthcare delivery.\n",
    "\n",
    "This text outlines the transformative impact of genetic testing in personalized medicine, emphasizing its multifaceted applications across various medical disciplines while acknowledging the ethical implications that accompany its widespread adoption.\n",
    "\"\"\""
   ]
  },
  {
   "cell_type": "code",
   "execution_count": 18,
   "id": "da4edca2-35b9-4927-af4d-56efbfd62cfa",
   "metadata": {},
   "outputs": [],
   "source": [
    "import nltk\n",
    "import string\n",
    "from nltk.corpus import stopwords\n",
    "from sklearn.feature_extraction.text import CountVectorizer"
   ]
  },
  {
   "cell_type": "code",
   "execution_count": 44,
   "id": "1f97832e-abba-4ace-8799-7ba1a42c1ac4",
   "metadata": {
    "scrolled": true
   },
   "outputs": [],
   "source": [
    "lower_case=text.lower()\n",
    "\n",
    "rm_punctuation = lower_case.translate(str.maketrans('', '', string.punctuation))\n",
    "\n",
    "sw = set(stopwords.words('english'))\n",
    "token_words = nltk.word_tokenize(rm_punctuation)\n",
    "rm_sw = [word for word in token_words if word not in sw]\n",
    "\n",
    "porter = nltk.PorterStemmer()\n",
    "doc_text=[porter.stem(t) for t in rm_sw]\n",
    "\n",
    "doc_set=[doc_text]"
   ]
  },
  {
   "cell_type": "code",
   "execution_count": 45,
   "id": "e9c527cf-085a-4f73-ac40-245a1bfc8769",
   "metadata": {
    "scrolled": true
   },
   "outputs": [
    {
     "data": {
      "text/plain": [
       "[['recent',\n",
       "  'year',\n",
       "  'genet',\n",
       "  'test',\n",
       "  'revolution',\n",
       "  'landscap',\n",
       "  'person',\n",
       "  'medicin',\n",
       "  'offer',\n",
       "  'tailor',\n",
       "  'treatment',\n",
       "  'strategi',\n",
       "  'base',\n",
       "  'individu',\n",
       "  'genet',\n",
       "  'makeup',\n",
       "  'advanc',\n",
       "  'allow',\n",
       "  'healthcar',\n",
       "  'provid',\n",
       "  'predict',\n",
       "  'diseas',\n",
       "  'suscept',\n",
       "  'identifi',\n",
       "  'optim',\n",
       "  'drug',\n",
       "  'therapi',\n",
       "  'person',\n",
       "  'prevent',\n",
       "  'care',\n",
       "  'plan',\n",
       "  'genet',\n",
       "  'test',\n",
       "  'involv',\n",
       "  'analyz',\n",
       "  'individu',\n",
       "  'dna',\n",
       "  'detect',\n",
       "  'variat',\n",
       "  'may',\n",
       "  'indic',\n",
       "  'predisposit',\n",
       "  'certain',\n",
       "  'diseas',\n",
       "  'influenc',\n",
       "  'drug',\n",
       "  'metabol',\n",
       "  'instanc',\n",
       "  'pharmacogenom',\n",
       "  'use',\n",
       "  'genet',\n",
       "  'inform',\n",
       "  'predict',\n",
       "  'patient',\n",
       "  'respond',\n",
       "  'medic',\n",
       "  'minim',\n",
       "  'advers',\n",
       "  'reaction',\n",
       "  'optim',\n",
       "  'efficaci',\n",
       "  'oncolog',\n",
       "  'genet',\n",
       "  'test',\n",
       "  'play',\n",
       "  'crucial',\n",
       "  'role',\n",
       "  'identifi',\n",
       "  'mutat',\n",
       "  'associ',\n",
       "  'cancer',\n",
       "  'develop',\n",
       "  'guid',\n",
       "  'treatment',\n",
       "  'decis',\n",
       "  'target',\n",
       "  'therapi',\n",
       "  'immunotherapi',\n",
       "  'moreov',\n",
       "  'reproduct',\n",
       "  'medicin',\n",
       "  'genet',\n",
       "  'test',\n",
       "  'help',\n",
       "  'assess',\n",
       "  'risk',\n",
       "  'inherit',\n",
       "  'disord',\n",
       "  'embryo',\n",
       "  'vitro',\n",
       "  'fertil',\n",
       "  'ivf',\n",
       "  'offer',\n",
       "  'prospect',\n",
       "  'parent',\n",
       "  'valuabl',\n",
       "  'inform',\n",
       "  'make',\n",
       "  'inform',\n",
       "  'decis',\n",
       "  'famili',\n",
       "  'plan',\n",
       "  'despit',\n",
       "  'benefit',\n",
       "  'ethic',\n",
       "  'consider',\n",
       "  'privaci',\n",
       "  'concern',\n",
       "  'surround',\n",
       "  'genet',\n",
       "  'test',\n",
       "  'issu',\n",
       "  'potenti',\n",
       "  'misus',\n",
       "  'genet',\n",
       "  'inform',\n",
       "  'psycholog',\n",
       "  'impact',\n",
       "  'test',\n",
       "  'result',\n",
       "  'patient',\n",
       "  'highlight',\n",
       "  'import',\n",
       "  'comprehens',\n",
       "  'genet',\n",
       "  'counsel',\n",
       "  'stringent',\n",
       "  'privaci',\n",
       "  'safeguard',\n",
       "  'look',\n",
       "  'ahead',\n",
       "  'ongo',\n",
       "  'research',\n",
       "  'genom',\n",
       "  'promis',\n",
       "  'advanc',\n",
       "  'person',\n",
       "  'medicin',\n",
       "  'potenti',\n",
       "  'uncov',\n",
       "  'new',\n",
       "  'therapeut',\n",
       "  'target',\n",
       "  'refin',\n",
       "  'diagnost',\n",
       "  'approach',\n",
       "  'technolog',\n",
       "  'continu',\n",
       "  'evolv',\n",
       "  'integr',\n",
       "  'genet',\n",
       "  'test',\n",
       "  'routin',\n",
       "  'clinic',\n",
       "  'practic',\n",
       "  'hold',\n",
       "  'promis',\n",
       "  'improv',\n",
       "  'patient',\n",
       "  'outcom',\n",
       "  'shape',\n",
       "  'futur',\n",
       "  'healthcar',\n",
       "  'deliveri',\n",
       "  'text',\n",
       "  'outlin',\n",
       "  'transform',\n",
       "  'impact',\n",
       "  'genet',\n",
       "  'test',\n",
       "  'person',\n",
       "  'medicin',\n",
       "  'emphas',\n",
       "  'multifacet',\n",
       "  'applic',\n",
       "  'across',\n",
       "  'variou',\n",
       "  'medic',\n",
       "  'disciplin',\n",
       "  'acknowledg',\n",
       "  'ethic',\n",
       "  'implic',\n",
       "  'accompani',\n",
       "  'widespread',\n",
       "  'adopt']]"
      ]
     },
     "execution_count": 45,
     "metadata": {},
     "output_type": "execute_result"
    }
   ],
   "source": [
    "doc_set"
   ]
  },
  {
   "cell_type": "code",
   "execution_count": 29,
   "id": "c4e7a53b-7224-45f2-9f43-ae3fcfbca71a",
   "metadata": {},
   "outputs": [],
   "source": [
    "import gensim\n",
    "from gensim import corpora,models"
   ]
  },
  {
   "cell_type": "code",
   "execution_count": 64,
   "id": "42451ca0-a908-4162-b061-ed2c959bc4f8",
   "metadata": {},
   "outputs": [
    {
     "name": "stdout",
     "output_type": "stream",
     "text": [
      "[(0, '0.051*\"genet\" + 0.038*\"test\" + 0.019*\"person\" + 0.019*\"inform\" + 0.019*\"medicin\"'), (1, '0.007*\"risk\" + 0.007*\"role\" + 0.007*\"shape\" + 0.007*\"disord\" + 0.007*\"disciplin\"'), (2, '0.007*\"genet\" + 0.007*\"safeguard\" + 0.007*\"predisposit\" + 0.007*\"misus\" + 0.007*\"genom\"'), (3, '0.007*\"adopt\" + 0.007*\"risk\" + 0.007*\"moreov\" + 0.007*\"parent\" + 0.007*\"ongo\"')]\n"
     ]
    }
   ],
   "source": [
    "dictionary = corpora.Dictionary(doc_set)\n",
    "corpus = [dictionary.doc2bow(doc) for doc in doc_set] # tupla contendo o id e frequencia do token\n",
    "ldamodel=gensim.models.ldamodel.LdaModel(corpus,num_topics=4,id2word=dictionary,passes=50)\n",
    "print(ldamodel.print_topics(num_topics=4,num_words=5))"
   ]
  },
  {
   "cell_type": "code",
   "execution_count": 65,
   "id": "5111e263-767c-400b-8a22-799cc9fd973e",
   "metadata": {},
   "outputs": [
    {
     "name": "stdout",
     "output_type": "stream",
     "text": [
      "[(0, '0.051*\"genet\"'), (1, '0.007*\"risk\"'), (2, '0.007*\"genet\"'), (3, '0.007*\"adopt\"')]\n"
     ]
    }
   ],
   "source": [
    "print(ldamodel.print_topics(num_topics=4,num_words=1))"
   ]
  },
  {
   "cell_type": "code",
   "execution_count": null,
   "id": "3e0c3e52-8266-4451-85d4-1307355ab0d0",
   "metadata": {},
   "outputs": [],
   "source": []
  }
 ],
 "metadata": {
  "kernelspec": {
   "display_name": "Python 3 (ipykernel)",
   "language": "python",
   "name": "python3"
  },
  "language_info": {
   "codemirror_mode": {
    "name": "ipython",
    "version": 3
   },
   "file_extension": ".py",
   "mimetype": "text/x-python",
   "name": "python",
   "nbconvert_exporter": "python",
   "pygments_lexer": "ipython3",
   "version": "3.10.12"
  }
 },
 "nbformat": 4,
 "nbformat_minor": 5
}
