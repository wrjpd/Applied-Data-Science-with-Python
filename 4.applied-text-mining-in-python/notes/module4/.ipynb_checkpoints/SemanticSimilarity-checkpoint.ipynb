{
 "cells": [
  {
   "cell_type": "markdown",
   "id": "1bf008fa-e7d3-438b-b189-274ef2d091d7",
   "metadata": {},
   "source": [
    "# Semantic Similarity"
   ]
  },
  {
   "cell_type": "markdown",
   "id": "15a2dad7-52b0-4e4a-b8fa-f03a80f52915",
   "metadata": {},
   "source": [
    "# WordNet"
   ]
  },
  {
   "cell_type": "markdown",
   "id": "fa2e5910-b2b9-46eb-b12a-0cf26f817c06",
   "metadata": {},
   "source": [
    "- Semantic dictionary of (mostly) english words, interlinked by semantic relations\n",
    "- Includes rich linguistic information\n",
    "  - part of speech, word senses, synonyms, hypernyms/hyponyms, meronyms, deriationally related forms, ...\n",
    "- Machine-readable, freely availabe"
   ]
  },
  {
   "cell_type": "markdown",
   "id": "410e6153-36c5-4e25-b677-ec21889657d4",
   "metadata": {},
   "source": [
    "<br>"
   ]
  },
  {
   "cell_type": "markdown",
   "id": "e3dfe95c-5cec-40d1-80ed-3f17091ad2a1",
   "metadata": {},
   "source": [
    "## Semantic similarity using WordNet"
   ]
  },
  {
   "cell_type": "markdown",
   "id": "82eeaff6-df24-4389-9df6-1c113c06c37d",
   "metadata": {},
   "source": [
    "- WordNet organizes information in a hierarchy\n",
    "- Many similarity measures use the hierarchy in some way\n",
    "- Verbs, nouns, adjectives all have separate hierarchies"
   ]
  },
  {
   "cell_type": "markdown",
   "id": "215a0116-c095-4845-95f8-973b9ef37855",
   "metadata": {},
   "source": [
    "<br>"
   ]
  },
  {
   "cell_type": "code",
   "execution_count": 9,
   "id": "61cbd815-e0c4-4067-b1d5-dbefc79845d9",
   "metadata": {},
   "outputs": [],
   "source": [
    "import nltk\n",
    "from nltk.corpus import wordnet as wn\n",
    "\n",
    "deer = wn.synset('deer.n.01')\n",
    "elk = wn.synset('elk.n.01')\n",
    "horse = wn.synset('horse.n.01')"
   ]
  },
  {
   "cell_type": "markdown",
   "id": "352f5904-e784-4d3d-92c4-630e35febe94",
   "metadata": {},
   "source": [
    "#### Path Similarity"
   ]
  },
  {
   "cell_type": "markdown",
   "id": "fe316384-b5c9-4cc2-bfa9-25a28b016c4a",
   "metadata": {},
   "source": [
    "- Find the shortest path between the two concepts\n",
    "- Similarity measure inversely related to path distance"
   ]
  },
  {
   "cell_type": "code",
   "execution_count": 12,
   "id": "a972327c-4fde-46a7-b123-904233f6bbb5",
   "metadata": {},
   "outputs": [
    {
     "name": "stdout",
     "output_type": "stream",
     "text": [
      "0.5\n",
      "0.14285714285714285\n"
     ]
    }
   ],
   "source": [
    "print(deer.path_similarity(elk))\n",
    "print(deer.path_similarity(horse))"
   ]
  },
  {
   "cell_type": "markdown",
   "id": "3894eb61-1e82-41f1-b7d5-acaeab27732d",
   "metadata": {},
   "source": [
    "<br>"
   ]
  },
  {
   "cell_type": "markdown",
   "id": "bb49efbd-4575-40fd-9feb-5566f275dc79",
   "metadata": {},
   "source": [
    "#### Lin Similarity "
   ]
  },
  {
   "cell_type": "markdown",
   "id": "36521761-0bf7-4a0b-89cd-fc41adc7ef01",
   "metadata": {},
   "source": [
    "- Lowest common subsumer (LCS)\n",
    "    - Find the closest ancestor to both concepts\n",
    "- Lin Similarity measure based on the information contained in the LCS of the two concepts"
   ]
  },
  {
   "cell_type": "code",
   "execution_count": 18,
   "id": "da101b41-fee5-4050-8ee5-1c4b58ba0211",
   "metadata": {},
   "outputs": [
    {
     "name": "stdout",
     "output_type": "stream",
     "text": [
      "0.8623778273893673\n",
      "0.7726998936065773\n"
     ]
    }
   ],
   "source": [
    "from nltk.corpus import wordnet_ic\n",
    "brown_ic = wordnet_ic.ic('ic-brown.dat')\n",
    "\n",
    "print(deer.lin_similarity(elk,brown_ic))\n",
    "print(deer.lin_similarity(horse,brown_ic))"
   ]
  },
  {
   "cell_type": "markdown",
   "id": "ada83326-ca30-499f-b28f-d1d4688144d3",
   "metadata": {},
   "source": [
    "## Collocations and Distributional similarity"
   ]
  },
  {
   "cell_type": "markdown",
   "id": "011df288-f3cd-4911-a8ce-edd631eef512",
   "metadata": {},
   "source": [
    "- Two words that frequently appears in similar contexts are more likely to be sementically related\n",
    "- Words before, after, within a small window\n",
    "- Parts of speech of words before, after, in a small window\n",
    "- Specific syntactic relation to the target word\n",
    "- WOrds in the same sentence, same document, ...."
   ]
  },
  {
   "cell_type": "code",
   "execution_count": 19,
   "id": "cc02719d-8702-4794-8835-c7d2705a4a27",
   "metadata": {},
   "outputs": [],
   "source": [
    "import nltk\n",
    "from nltk.collocations import *"
   ]
  },
  {
   "cell_type": "code",
   "execution_count": 21,
   "id": "54c7c72d-8ae0-4d63-8a31-0b6e257da517",
   "metadata": {},
   "outputs": [
    {
     "data": {
      "text/plain": [
       "[('l', 'a'), ('o', 'l')]"
      ]
     },
     "execution_count": 21,
     "metadata": {},
     "output_type": "execute_result"
    }
   ],
   "source": [
    "bigram_measures = nltk.collocations.BigramAssocMeasures()\n",
    "finder = BigramCollocationFinder.from_words('ola')\n",
    "finder.nbest(bigram_measures.pmi,10)"
   ]
  },
  {
   "cell_type": "code",
   "execution_count": null,
   "id": "8068d971-770f-48b5-a515-d433a1e43ffd",
   "metadata": {},
   "outputs": [],
   "source": []
  }
 ],
 "metadata": {
  "kernelspec": {
   "display_name": "Python 3 (ipykernel)",
   "language": "python",
   "name": "python3"
  },
  "language_info": {
   "codemirror_mode": {
    "name": "ipython",
    "version": 3
   },
   "file_extension": ".py",
   "mimetype": "text/x-python",
   "name": "python",
   "nbconvert_exporter": "python",
   "pygments_lexer": "ipython3",
   "version": "3.10.12"
  }
 },
 "nbformat": 4,
 "nbformat_minor": 5
}
