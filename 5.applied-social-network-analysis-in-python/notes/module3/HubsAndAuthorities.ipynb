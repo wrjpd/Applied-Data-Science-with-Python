{
 "cells": [
  {
   "cell_type": "markdown",
   "id": "b2d1093d-f1a7-4c59-ab9a-068769b3e95c",
   "metadata": {},
   "source": [
    "# Hubs and Authorities"
   ]
  },
  {
   "cell_type": "markdown",
   "id": "c7ec931f-3c00-4ff3-91a3-f1bfd442b510",
   "metadata": {},
   "source": [
    "Given a query to a search engine:\n",
    "- **Root:** set of highly relevant web pages (nodes) - potential `authorities`\n",
    "- Find all pages (nodes) that link to a page in root - potential `hubs`\n",
    "- **Base:** root nodes and any node that links to a node in root."
   ]
  },
  {
   "cell_type": "markdown",
   "id": "ceff9bdd-1695-4b57-8307-a650c03bda73",
   "metadata": {},
   "source": [
    "<br>"
   ]
  },
  {
   "cell_type": "markdown",
   "id": "a215076b-1e72-4314-8205-58a14ded40a9",
   "metadata": {},
   "source": [
    "## HITS Algorithm"
   ]
  },
  {
   "cell_type": "markdown",
   "id": "75f17130-4e12-4fdd-8845-9b6cc9490683",
   "metadata": {},
   "source": [
    "Computing *k* iterations of the HITS algorithm to assign an authority score and hub score to each node.  \n",
    "**1.**  Assign each node an authority and hub score of 1.  \n",
    "**2.** Apply the **Authority Update Rule:** each node's `authority` score is the sum of hub scores of each node that points to it.  \n",
    "**3.** Apply the **Hub Update Rule:** each node's `hub` score is the sum of authority scores of each node that it points to.  \n",
    "**4.** **Normalize** Authority and Hubs scores:   \n",
    "$$\n",
    "auth(j) = \\frac{auth(j)}{\\sum_{i \\in N}{auth(i)}}\n",
    "$$\n",
    "$$\n",
    "hub(j) = \\frac{hub(j)}{\\sum_{i \\in N}{hub(i)}}\n",
    "$$"
   ]
  },
  {
   "cell_type": "markdown",
   "id": "40438bf0-1e2c-4373-beeb-c270535175c1",
   "metadata": {},
   "source": [
    "For most networks, as *k* gets larger, authority and hub scores converge to a unique value."
   ]
  },
  {
   "cell_type": "code",
   "execution_count": 3,
   "id": "5dd4f089-cb37-42ba-bde5-c7fa29060d5e",
   "metadata": {},
   "outputs": [],
   "source": [
    "import networkx as nx\n",
    "G=nx.karate_club_graph()\n"
   ]
  },
  {
   "cell_type": "markdown",
   "id": "fb9c61af-c8a9-4858-8b73-4b5d1c833ae2",
   "metadata": {},
   "source": [
    "<br>"
   ]
  },
  {
   "cell_type": "markdown",
   "id": "bc2f50e6-11b5-47c0-a95e-357231f920bd",
   "metadata": {},
   "source": [
    "**Hubs**"
   ]
  },
  {
   "cell_type": "code",
   "execution_count": 6,
   "id": "b93d9986-8db0-4e7b-89ce-caa1e64e89b0",
   "metadata": {
    "scrolled": true
   },
   "outputs": [
    {
     "data": {
      "text/plain": [
       "{0: 0.06687778780175725,\n",
       " 1: 0.06460820139870788,\n",
       " 2: 0.07720593702807278,\n",
       " 3: 0.04251538956587158,\n",
       " 4: 0.011920567930085257,\n",
       " 5: 0.014437084548291415,\n",
       " 6: 0.01422728524063945,\n",
       " 7: 0.03820430110403422,\n",
       " 8: 0.05287480008426348,\n",
       " 9: 0.010749022088966232,\n",
       " 10: 0.00981338956991206,\n",
       " 11: 0.009251077981447942,\n",
       " 12: 0.008964766141133599,\n",
       " 13: 0.05149077757366964,\n",
       " 14: 0.017029873773128715,\n",
       " 15: 0.0242189787478375,\n",
       " 16: 0.003965088094607881,\n",
       " 17: 0.00914642878231234,\n",
       " 18: 0.01046936124084876,\n",
       " 19: 0.015720024731013776,\n",
       " 20: 0.013435321285774323,\n",
       " 21: 0.012125472243659386,\n",
       " 22: 0.017344169994343128,\n",
       " 23: 0.04668552502066942,\n",
       " 24: 0.010930126255860845,\n",
       " 25: 0.026246198040701767,\n",
       " 26: 0.012553159895365179,\n",
       " 27: 0.03162054846552677,\n",
       " 28: 0.018444663444097797,\n",
       " 29: 0.029083323651041326,\n",
       " 30: 0.033896584340598744,\n",
       " 31: 0.044846896017269156,\n",
       " 32: 0.07114077395376944,\n",
       " 33: 0.07795709396472078}"
      ]
     },
     "execution_count": 6,
     "metadata": {},
     "output_type": "execute_result"
    }
   ],
   "source": [
    "nx.hits(G)[0]"
   ]
  },
  {
   "cell_type": "markdown",
   "id": "28f8af8b-837c-490c-9357-381c07ac2038",
   "metadata": {},
   "source": [
    "<br>"
   ]
  },
  {
   "cell_type": "markdown",
   "id": "d86cfcc8-79dd-406d-8b1f-ac2f3dd41634",
   "metadata": {},
   "source": [
    "**Authorities**"
   ]
  },
  {
   "cell_type": "code",
   "execution_count": 7,
   "id": "a9d31216-a9a7-4bab-a6c8-4f932cb48269",
   "metadata": {
    "scrolled": true
   },
   "outputs": [
    {
     "data": {
      "text/plain": [
       "{0: 0.0668777878017573,\n",
       " 1: 0.06460820139870795,\n",
       " 2: 0.07720593702807285,\n",
       " 3: 0.042515389565871635,\n",
       " 4: 0.011920567930085285,\n",
       " 5: 0.014437084548291445,\n",
       " 6: 0.014227285240639492,\n",
       " 7: 0.03820430110403425,\n",
       " 8: 0.05287480008426346,\n",
       " 9: 0.010749022088966224,\n",
       " 10: 0.00981338956991207,\n",
       " 11: 0.009251077981447947,\n",
       " 12: 0.008964766141133609,\n",
       " 13: 0.05149077757366969,\n",
       " 14: 0.017029873773128704,\n",
       " 15: 0.024218978747837485,\n",
       " 16: 0.003965088094607887,\n",
       " 17: 0.00914642878231237,\n",
       " 18: 0.010469361240848735,\n",
       " 19: 0.01572002473101379,\n",
       " 20: 0.01343532128577431,\n",
       " 21: 0.012125472243659407,\n",
       " 22: 0.01734416999434312,\n",
       " 23: 0.04668552502066941,\n",
       " 24: 0.010930126255860827,\n",
       " 25: 0.026246198040701767,\n",
       " 26: 0.012553159895365158,\n",
       " 27: 0.03162054846552678,\n",
       " 28: 0.01844466344409779,\n",
       " 29: 0.029083323651041323,\n",
       " 30: 0.03389658434059875,\n",
       " 31: 0.04484689601726914,\n",
       " 32: 0.0711407739537694,\n",
       " 33: 0.07795709396472077}"
      ]
     },
     "execution_count": 7,
     "metadata": {},
     "output_type": "execute_result"
    }
   ],
   "source": [
    "nx.hits(G)[1]"
   ]
  },
  {
   "cell_type": "markdown",
   "id": "9f6223f7-fe66-4507-9c81-34c05ec6e812",
   "metadata": {},
   "source": [
    "<br>"
   ]
  },
  {
   "cell_type": "markdown",
   "id": "d3808948-0f45-4d54-b5f2-77b0d1dd9a51",
   "metadata": {},
   "source": [
    "## Summary"
   ]
  },
  {
   "cell_type": "markdown",
   "id": "7e63fb0e-3d48-4ea3-a6f9-2be408494858",
   "metadata": {},
   "source": [
    "- The HITS algorithm starts by constructing a *root set* of relevant web pages and expanding it to a base set.\n",
    "- HITS then assigns an authority and hubs scores to each node in the network.\n",
    "- Nodes that have incoming edges from good hubs are good authorities, and nodes that have outgoing edges to good authorities are good hubs\n",
    "- Authority and hub scores converge for most networks.\n"
   ]
  },
  {
   "cell_type": "code",
   "execution_count": null,
   "id": "aaa69da6-4720-4967-b503-82eba1441c65",
   "metadata": {},
   "outputs": [],
   "source": []
  }
 ],
 "metadata": {
  "kernelspec": {
   "display_name": "Python 3 (ipykernel)",
   "language": "python",
   "name": "python3"
  },
  "language_info": {
   "codemirror_mode": {
    "name": "ipython",
    "version": 3
   },
   "file_extension": ".py",
   "mimetype": "text/x-python",
   "name": "python",
   "nbconvert_exporter": "python",
   "pygments_lexer": "ipython3",
   "version": "3.11.9"
  }
 },
 "nbformat": 4,
 "nbformat_minor": 5
}
