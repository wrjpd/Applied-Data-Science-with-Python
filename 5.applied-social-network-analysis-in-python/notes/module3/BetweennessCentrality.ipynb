{
 "cells": [
  {
   "cell_type": "markdown",
   "id": "5fb50909-c103-40eb-a551-fd48155f096e",
   "metadata": {},
   "source": [
    "# Betweenness Centrality"
   ]
  },
  {
   "cell_type": "markdown",
   "id": "1ba9abfd-8052-4f38-b4b2-aae0f37bb7e7",
   "metadata": {},
   "source": [
    "**Assumption:** Important nodes connect other nodes."
   ]
  },
  {
   "cell_type": "markdown",
   "id": "4c1c11dd-8550-4923-ab6c-b7c70a39b149",
   "metadata": {},
   "source": [
    "$$\n",
    "C_B(v) = \\sum_{s \\ne t \\in N} \\frac{\\sigma_{s,t}(v)}{\\sigma_{s,t}}\n",
    "$$"
   ]
  },
  {
   "cell_type": "markdown",
   "id": "3ceb854c-eb3a-4eb8-9d96-545cb18b4848",
   "metadata": {},
   "source": [
    "$$\\sigma_{s,t} = \\text{the number of shortest paths between nodes \\textit{s} and \\textit{t}.}$$\n",
    "$$\\sigma_{s,t}(v) = \\text{the number of shortest paths between nodes \\textit{s} and \\textit{t} thar pass through node \\textit{v}.}$$   "
   ]
  },
  {
   "cell_type": "markdown",
   "id": "02e41dce-e353-46f5-8b15-b07b9e6cff6e",
   "metadata": {},
   "source": [
    "<br>"
   ]
  },
  {
   "cell_type": "markdown",
   "id": "86c8e2ac-3f25-4647-872b-68c924fae9ae",
   "metadata": {},
   "source": [
    "**Endpoints:** We can either include or exclude node *v* as node *s* and *t* in computation of C_B(v)"
   ]
  },
  {
   "cell_type": "markdown",
   "id": "206ca87a-439f-4f29-93b9-89775a7c0834",
   "metadata": {},
   "source": [
    "<br>"
   ]
  },
  {
   "cell_type": "markdown",
   "id": "ea9b16e9-a08e-4dd4-af9f-58c0d4a13172",
   "metadata": {},
   "source": [
    "**What if no all nodes can reach each other?**"
   ]
  },
  {
   "cell_type": "markdown",
   "id": "3afd8bac-9b2c-47ff-9431-e2afc7d4ef98",
   "metadata": {},
   "source": [
    "Example: Node D cannot be reached by any other node.  \n",
    "So, $$\\sigma_{s,t} = 0$$, making the above definiton undefined."
   ]
  },
  {
   "cell_type": "markdown",
   "id": "14823685-e9df-4391-9cb6-528a1c5a6eae",
   "metadata": {},
   "source": [
    "So, when computing betweenness centrality, we only consider node *s*, *t* such that there is at least one path between them."
   ]
  },
  {
   "cell_type": "markdown",
   "id": "686756d1-eec0-45b1-9aca-ad489a4be357",
   "metadata": {},
   "source": [
    "<br>"
   ]
  },
  {
   "cell_type": "markdown",
   "id": "80e42d5c-056b-4c8a-9b0d-e19c8db91bf1",
   "metadata": {},
   "source": [
    "## BC - Normalization"
   ]
  },
  {
   "cell_type": "markdown",
   "id": "f84f3028-3b75-46ee-b613-f4cbbab20ee8",
   "metadata": {},
   "source": [
    "**Normalization:** betweenness centrality values will be larger in graphs with many nodes. To control for this, we divide centrality values by the number of pairs of nodes in tha graph (excluding *v*)."
   ]
  },
  {
   "cell_type": "markdown",
   "id": "c531e5c0-8f68-4bd7-90f5-a7d13456642c",
   "metadata": {},
   "source": [
    "$$\\frac{1}{2}(|N| - 1)(|N| - 2) \\text{ in undirected graphs}$$\n",
    "$$(|N| - 1)(|N| - 2) \\text{ in directed graphs}$$"
   ]
  },
  {
   "cell_type": "code",
   "execution_count": 1,
   "id": "20c78f8d-c0f0-4b55-92ed-8604e6862ae2",
   "metadata": {},
   "outputs": [],
   "source": [
    "import networkx as nx"
   ]
  },
  {
   "cell_type": "code",
   "execution_count": 2,
   "id": "da822ddd-bf5e-4ea1-9e81-284dd32d5ed7",
   "metadata": {},
   "outputs": [],
   "source": [
    "G = nx.karate_club_graph()"
   ]
  },
  {
   "cell_type": "code",
   "execution_count": 8,
   "id": "4213d442-82ff-4ba6-8e55-72379316f635",
   "metadata": {
    "scrolled": true
   },
   "outputs": [
    {
     "data": {
      "text/plain": [
       "{0: 0.43763528138528146,\n",
       " 1: 0.053936688311688304,\n",
       " 2: 0.14365680615680618,\n",
       " 3: 0.011909271284271283,\n",
       " 4: 0.0006313131313131313,\n",
       " 5: 0.02998737373737374,\n",
       " 6: 0.029987373737373736,\n",
       " 7: 0.0,\n",
       " 8: 0.05592682780182781,\n",
       " 9: 0.0008477633477633478,\n",
       " 10: 0.0006313131313131313,\n",
       " 11: 0.0,\n",
       " 12: 0.0,\n",
       " 13: 0.04586339586339586,\n",
       " 14: 0.0,\n",
       " 15: 0.0,\n",
       " 16: 0.0,\n",
       " 17: 0.0,\n",
       " 18: 0.0,\n",
       " 19: 0.03247504810004811,\n",
       " 20: 0.0,\n",
       " 21: 0.0,\n",
       " 22: 0.0,\n",
       " 23: 0.017613636363636363,\n",
       " 24: 0.0022095959595959595,\n",
       " 25: 0.0038404882154882154,\n",
       " 26: 0.0,\n",
       " 27: 0.02233345358345358,\n",
       " 28: 0.0017947330447330447,\n",
       " 29: 0.0029220779220779218,\n",
       " 30: 0.014411976911976909,\n",
       " 31: 0.13827561327561325,\n",
       " 32: 0.145247113997114,\n",
       " 33: 0.30407497594997596}"
      ]
     },
     "execution_count": 8,
     "metadata": {},
     "output_type": "execute_result"
    }
   ],
   "source": [
    "nx.betweenness_centrality(G,normalized = True, endpoints = False)"
   ]
  },
  {
   "cell_type": "markdown",
   "id": "1c3122cb-6d91-4811-a5e6-d959b0a4bc51",
   "metadata": {},
   "source": [
    "<br>"
   ]
  },
  {
   "cell_type": "markdown",
   "id": "a6db5bbc-9aff-40a2-8718-59cb93547919",
   "metadata": {},
   "source": [
    "## BC - Approximation"
   ]
  },
  {
   "cell_type": "markdown",
   "id": "19ee5965-27da-4244-b7e4-ba66fec2aa9c",
   "metadata": {},
   "source": [
    "Computing betweenness centraliy of all nodes can be very computationally expensive.  \n",
    "\n",
    "**Approximation:** Rather can computing betweenness centrality based on all pairs of nodes *s*, *t*, we can approximate it based on a sample of nodes. "
   ]
  },
  {
   "cell_type": "code",
   "execution_count": 9,
   "id": "3835d4cf-c22f-4242-807b-074c76845b8c",
   "metadata": {
    "scrolled": true
   },
   "outputs": [
    {
     "data": {
      "text/plain": [
       "{0: 0.39567264911014904,\n",
       " 1: 0.054780844155844145,\n",
       " 2: 0.15941588504088502,\n",
       " 3: 0.006314183501683502,\n",
       " 4: 0.0,\n",
       " 5: 0.014488636363636363,\n",
       " 6: 0.018781565656565656,\n",
       " 7: 0.0,\n",
       " 8: 0.046688161375661376,\n",
       " 9: 0.0006746031746031745,\n",
       " 10: 0.0010732323232323232,\n",
       " 11: 0.0,\n",
       " 12: 0.0,\n",
       " 13: 0.06834190115440114,\n",
       " 14: 0.0,\n",
       " 15: 0.0,\n",
       " 16: 0.0,\n",
       " 17: 0.0,\n",
       " 18: 0.0,\n",
       " 19: 0.04114057239057239,\n",
       " 20: 0.0,\n",
       " 21: 0.0,\n",
       " 22: 0.0,\n",
       " 23: 0.014166666666666664,\n",
       " 24: 0.004829545454545454,\n",
       " 25: 0.008174452861952862,\n",
       " 26: 0.0,\n",
       " 27: 0.020600949975949977,\n",
       " 28: 0.0017478354978354978,\n",
       " 29: 0.006577380952380952,\n",
       " 30: 0.02770472582972583,\n",
       " 31: 0.08112614237614237,\n",
       " 32: 0.15920123857623858,\n",
       " 33: 0.37209731240981236}"
      ]
     },
     "execution_count": 9,
     "metadata": {},
     "output_type": "execute_result"
    }
   ],
   "source": [
    "nx.betweenness_centrality(G,normalized=True,endpoints = False, k=10)"
   ]
  },
  {
   "cell_type": "markdown",
   "id": "5f6aa06a-61ea-4750-9c7b-c44e52a2f601",
   "metadata": {},
   "source": [
    "<br>"
   ]
  },
  {
   "cell_type": "markdown",
   "id": "cecbdff1-c3cd-4b63-8271-cb5338716e31",
   "metadata": {},
   "source": [
    "## BC - Subsets"
   ]
  },
  {
   "cell_type": "markdown",
   "id": "b1b118df-155c-4d01-a032-fc2f826667b9",
   "metadata": {},
   "source": [
    "Subset betweenness centrality measures the degree to which a node 𝑣 acts as an intermediary between nodes in subsets 𝐴 and 𝐵. If a node 𝑣 has a high subset betweenness centrality, this means that it is often on the shortest path between pairs of nodes where one node is in 𝐴 and the other is in 𝐵."
   ]
  },
  {
   "cell_type": "markdown",
   "id": "600c51af-7a37-44ba-be57-12b287c8f973",
   "metadata": {},
   "source": [
    "$$\n",
    "C_B(v) = \\sum_{s \\in A, t \\in B} \\frac{\\sigma_{s,t}(v)}{\\sigma_{s,t}}\n",
    "$$"
   ]
  },
  {
   "cell_type": "code",
   "execution_count": 13,
   "id": "30d6d137-c6a1-4efb-86aa-d9facb52d4c4",
   "metadata": {
    "scrolled": true
   },
   "outputs": [
    {
     "data": {
      "text/plain": [
       "{0: 0.04092637686387687,\n",
       " 1: 0.008074044011544013,\n",
       " 2: 0.0155738936988937,\n",
       " 3: 0.0017300986050986053,\n",
       " 4: 0.00031565656565656563,\n",
       " 5: 0.003156565656565657,\n",
       " 6: 0.003787878787878788,\n",
       " 7: 0.0,\n",
       " 8: 0.0063747594997595,\n",
       " 9: 6.764069264069264e-05,\n",
       " 10: 0.0,\n",
       " 11: 0.0,\n",
       " 12: 0.0,\n",
       " 13: 0.003666877104377104,\n",
       " 14: 0.0,\n",
       " 15: 0.0,\n",
       " 16: 0.0,\n",
       " 17: 0.0,\n",
       " 18: 0.0,\n",
       " 19: 0.003158068783068783,\n",
       " 20: 0.0,\n",
       " 21: 0.0,\n",
       " 22: 0.0,\n",
       " 23: 0.0,\n",
       " 24: 0.0,\n",
       " 25: 0.0004577020202020201,\n",
       " 26: 0.0,\n",
       " 27: 0.0012987012987012985,\n",
       " 28: 6.764069264069264e-05,\n",
       " 29: 0.0,\n",
       " 30: 0.002159992784992785,\n",
       " 31: 0.005028709716209716,\n",
       " 32: 0.005793801106301107,\n",
       " 33: 0.009157046657046657}"
      ]
     },
     "execution_count": 13,
     "metadata": {},
     "output_type": "execute_result"
    }
   ],
   "source": [
    "nx.betweenness_centrality_subset(G,[33,32,21,30,16,27,15,23,10],\n",
    "                                 [1,4,13,11,6,12,17,7],\n",
    "                                normalized=True)"
   ]
  },
  {
   "cell_type": "markdown",
   "id": "eea20962-e938-4672-9e01-4016d55da524",
   "metadata": {},
   "source": [
    "<br>"
   ]
  },
  {
   "cell_type": "markdown",
   "id": "f5ebf81e-a2f4-4785-a14e-b8cfb74861d2",
   "metadata": {},
   "source": [
    "## BC - Edges"
   ]
  },
  {
   "cell_type": "markdown",
   "id": "2bae6572-a5a9-4315-80bb-98df797b88d5",
   "metadata": {},
   "source": [
    "We can use betweenness centrality to find important edges instead of nodes:"
   ]
  },
  {
   "cell_type": "markdown",
   "id": "bfb7504d-974c-4ad3-b761-bc1955023a72",
   "metadata": {},
   "source": [
    "$$\n",
    "C_btw(e) = \\sum_{s \\ne t \\in N} \\frac{\\sigma_{s,t}(e)}{\\sigma_{s,t}}\n",
    "$$"
   ]
  },
  {
   "cell_type": "markdown",
   "id": "66d03c02-f80d-4033-8f25-247bf37dbe3e",
   "metadata": {},
   "source": [
    "$$\\sigma_{s,t} = \\text{the number of shortest paths between nodes \\textit{s} and \\textit{t}.}$$\n",
    "$$\\sigma_{s,t}(e) = \\text{the number of shortest paths between nodes \\textit{s} and \\textit{t} thar pass through edge \\textit{e}.}$$   "
   ]
  },
  {
   "cell_type": "code",
   "execution_count": 17,
   "id": "b361aa9c-aec2-42ad-8b99-36e9c3cf28a6",
   "metadata": {
    "scrolled": true
   },
   "outputs": [
    {
     "data": {
      "text/plain": [
       "{(0, 1): 0.025252525252525245,\n",
       " (0, 2): 0.0777876807288572,\n",
       " (0, 3): 0.02049910873440285,\n",
       " (0, 4): 0.0522875816993464,\n",
       " (0, 5): 0.07813428401663694,\n",
       " (0, 6): 0.07813428401663695,\n",
       " (0, 7): 0.0228206434088787,\n",
       " (0, 8): 0.07423959482783014,\n",
       " (0, 10): 0.0522875816993464,\n",
       " (0, 11): 0.058823529411764705,\n",
       " (0, 12): 0.04652406417112298,\n",
       " (0, 13): 0.04237189825425121,\n",
       " (0, 17): 0.04012392835922248,\n",
       " (0, 19): 0.045936960642843,\n",
       " (0, 21): 0.040123928359222474,\n",
       " (0, 31): 0.1272599949070537,\n",
       " (1, 2): 0.023232323232323233,\n",
       " (1, 3): 0.0077243018419489,\n",
       " (1, 7): 0.007422969187675069,\n",
       " (1, 13): 0.01240556828792123,\n",
       " (1, 17): 0.01869960105254222,\n",
       " (1, 19): 0.014633732280791102,\n",
       " (1, 21): 0.01869960105254222,\n",
       " (1, 30): 0.032280791104320514,\n",
       " (2, 3): 0.022430184194890075,\n",
       " (2, 7): 0.025214328155504617,\n",
       " (2, 8): 0.009175791528732704,\n",
       " (2, 9): 0.030803836686189627,\n",
       " (2, 13): 0.007630931160342923,\n",
       " (2, 27): 0.04119203236850296,\n",
       " (2, 28): 0.02278244631185807,\n",
       " (2, 32): 0.06898678663384543,\n",
       " (3, 7): 0.003365588659706307,\n",
       " (3, 12): 0.012299465240641705,\n",
       " (3, 13): 0.01492233256939139,\n",
       " (4, 6): 0.0047534165181224,\n",
       " (4, 10): 0.0029708853238265,\n",
       " (5, 6): 0.0029708853238265003,\n",
       " (5, 10): 0.0047534165181224,\n",
       " (5, 16): 0.029411764705882353,\n",
       " (6, 16): 0.029411764705882353,\n",
       " (8, 30): 0.00980392156862745,\n",
       " (8, 32): 0.0304416716181422,\n",
       " (8, 33): 0.04043657867187279,\n",
       " (9, 33): 0.029615482556659026,\n",
       " (13, 33): 0.06782389723566191,\n",
       " (14, 32): 0.024083977025153497,\n",
       " (14, 33): 0.03473955238661121,\n",
       " (15, 32): 0.024083977025153497,\n",
       " (15, 33): 0.03473955238661121,\n",
       " (18, 32): 0.024083977025153497,\n",
       " (18, 33): 0.03473955238661121,\n",
       " (19, 33): 0.05938233879410351,\n",
       " (20, 32): 0.024083977025153497,\n",
       " (20, 33): 0.03473955238661121,\n",
       " (22, 32): 0.024083977025153493,\n",
       " (22, 33): 0.03473955238661121,\n",
       " (23, 25): 0.019776193305605066,\n",
       " (23, 27): 0.010536739948504653,\n",
       " (23, 29): 0.00665478312537136,\n",
       " (23, 32): 0.022341057635175278,\n",
       " (23, 33): 0.03266983561101209,\n",
       " (24, 25): 0.0042186571598336305,\n",
       " (24, 27): 0.018657159833630418,\n",
       " (24, 31): 0.040106951871657755,\n",
       " (25, 31): 0.04205783323430383,\n",
       " (26, 29): 0.004532722179781003,\n",
       " (26, 33): 0.0542908072319837,\n",
       " (27, 33): 0.030477039300568713,\n",
       " (28, 31): 0.0148544266191325,\n",
       " (28, 33): 0.024564977506153975,\n",
       " (29, 32): 0.023328523328523323,\n",
       " (29, 33): 0.029807882749059215,\n",
       " (30, 32): 0.01705288175876411,\n",
       " (30, 33): 0.02681436210847975,\n",
       " (31, 32): 0.04143394731630026,\n",
       " (31, 33): 0.05339388280564752,\n",
       " (32, 33): 0.008225108225108224}"
      ]
     },
     "execution_count": 17,
     "metadata": {},
     "output_type": "execute_result"
    }
   ],
   "source": [
    "nx.edge_betweenness_centrality(G,normalized=True)"
   ]
  },
  {
   "cell_type": "markdown",
   "id": "59dcb3c5-6b16-49f5-bcfd-95d670dc84c2",
   "metadata": {},
   "source": [
    "### BC - Edges, Subsets"
   ]
  },
  {
   "cell_type": "code",
   "execution_count": 19,
   "id": "be49b6d8-51e7-4a00-bd45-b3f959b6f78d",
   "metadata": {
    "scrolled": true
   },
   "outputs": [
    {
     "data": {
      "text/plain": [
       "{(0, 1): 0.003416518122400475,\n",
       " (0, 2): 0.006410180233709645,\n",
       " (0, 3): 0.0,\n",
       " (0, 4): 0.006238859180035651,\n",
       " (0, 5): 0.00267379679144385,\n",
       " (0, 6): 0.00920974450386215,\n",
       " (0, 7): 0.0024828113063407177,\n",
       " (0, 8): 0.005516792575616104,\n",
       " (0, 10): 0.00564468211527035,\n",
       " (0, 11): 0.00802139037433155,\n",
       " (0, 12): 0.006456724103782927,\n",
       " (0, 13): 0.0048186345245168774,\n",
       " (0, 17): 0.004772515066632713,\n",
       " (0, 19): 0.002590470531647002,\n",
       " (0, 21): 0.004901960784313725,\n",
       " (0, 31): 0.003882805647511529,\n",
       " (1, 2): 0.002629233511586453,\n",
       " (1, 3): 0.00029708853238265,\n",
       " (1, 7): 0.0015278838808250573,\n",
       " (1, 13): 0.0018398268398268395,\n",
       " (1, 17): 0.0032488753076988365,\n",
       " (1, 19): 0.0009485612426788897,\n",
       " (1, 21): 0.002228163992869875,\n",
       " (1, 30): 0.007083439436380613,\n",
       " (2, 3): 0.000878886908298673,\n",
       " (2, 7): 0.003947033358798065,\n",
       " (2, 8): 6.366182836771072e-05,\n",
       " (2, 9): 6.366182836771072e-05,\n",
       " (2, 13): 0.0009549274255156607,\n",
       " (2, 27): 0.007845153212800271,\n",
       " (2, 28): 6.366182836771072e-05,\n",
       " (2, 32): 0.006656799083269671,\n",
       " (3, 7): 6.366182836771072e-05,\n",
       " (3, 12): 0.0015646662705486234,\n",
       " (3, 13): 0.00045235265823501114,\n",
       " (4, 6): 0.0011883541295306,\n",
       " (4, 10): 0.0011883541295306,\n",
       " (5, 6): 0.00029708853238265,\n",
       " (5, 10): 0.00029708853238265,\n",
       " (5, 16): 0.00267379679144385,\n",
       " (6, 16): 0.00445632798573975,\n",
       " (8, 30): 0.001633986928104575,\n",
       " (8, 32): 0.0020687264804911862,\n",
       " (8, 33): 0.001877740995388054,\n",
       " (9, 33): 6.366182836771072e-05,\n",
       " (13, 33): 0.00806574144809439,\n",
       " (14, 32): 0.0,\n",
       " (14, 33): 0.0,\n",
       " (15, 32): 0.0030501089324618735,\n",
       " (15, 33): 0.004080015844721727,\n",
       " (18, 32): 0.0,\n",
       " (18, 33): 0.0,\n",
       " (19, 33): 0.0035390317743258914,\n",
       " (20, 32): 0.0,\n",
       " (20, 33): 0.0,\n",
       " (22, 32): 0.0,\n",
       " (22, 33): 0.0,\n",
       " (23, 25): 0.0002584670231729055,\n",
       " (23, 27): 0.0010969994058229351,\n",
       " (23, 29): 0.0,\n",
       " (23, 32): 0.0019511289364230538,\n",
       " (23, 33): 0.003823529411764705,\n",
       " (24, 25): 0.0,\n",
       " (24, 27): 0.0,\n",
       " (24, 31): 0.0,\n",
       " (25, 31): 0.0002584670231729055,\n",
       " (26, 29): 0.0,\n",
       " (26, 33): 0.0,\n",
       " (27, 33): 0.0005092946269416857,\n",
       " (28, 31): 0.0,\n",
       " (28, 33): 6.366182836771072e-05,\n",
       " (29, 32): 0.0,\n",
       " (29, 33): 0.0,\n",
       " (30, 32): 0.0010843731431966726,\n",
       " (30, 33): 0.0013941940412528647,\n",
       " (31, 32): 0.0019394929689047335,\n",
       " (31, 33): 0.0016848456554338905,\n",
       " (32, 33): 0.0005092946269416857}"
      ]
     },
     "execution_count": 19,
     "metadata": {},
     "output_type": "execute_result"
    }
   ],
   "source": [
    "nx.edge_betweenness_centrality_subset(G,[33,32,21,30,16,27,15,23,10],\n",
    "                                 [1,4,13,11,6,12,17,7],\n",
    "                                normalized=True)"
   ]
  },
  {
   "cell_type": "code",
   "execution_count": null,
   "id": "06e82916-a238-46c3-8fe4-41b794489ad2",
   "metadata": {},
   "outputs": [],
   "source": []
  }
 ],
 "metadata": {
  "kernelspec": {
   "display_name": "Python 3 (ipykernel)",
   "language": "python",
   "name": "python3"
  },
  "language_info": {
   "codemirror_mode": {
    "name": "ipython",
    "version": 3
   },
   "file_extension": ".py",
   "mimetype": "text/x-python",
   "name": "python",
   "nbconvert_exporter": "python",
   "pygments_lexer": "ipython3",
   "version": "3.11.9"
  }
 },
 "nbformat": 4,
 "nbformat_minor": 5
}
