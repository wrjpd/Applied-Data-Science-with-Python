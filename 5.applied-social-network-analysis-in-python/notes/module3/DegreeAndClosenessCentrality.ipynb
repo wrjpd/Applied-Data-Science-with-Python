{
 "cells": [
  {
   "cell_type": "markdown",
   "id": "7e526c98-89a0-4b59-b465-696a5b1b9c73",
   "metadata": {},
   "source": [
    "# Network Centrality"
   ]
  },
  {
   "cell_type": "markdown",
   "id": "28137e3c-fa7b-41d7-a63a-d3a4f5bd96b8",
   "metadata": {},
   "source": [
    "Centrality measures identify the most important nodes in a network:\n",
    "\n",
    "- Influential nodes in a social network\n",
    "- Nodes that disseminate information to many nodes or prevente epidemics\n",
    "- Hubs in a transportation network\n",
    "- Important peges on the Web\n",
    "- Nodes that prevent the network from breaking up"
   ]
  },
  {
   "cell_type": "markdown",
   "id": "eb186f65-9d4f-4900-af80-e8015ca328a0",
   "metadata": {},
   "source": [
    "<br>"
   ]
  },
  {
   "cell_type": "markdown",
   "id": "e0a0e6fa-0b4e-45b7-a052-6e5d2302f13c",
   "metadata": {},
   "source": [
    "# Centrality Measures"
   ]
  },
  {
   "cell_type": "markdown",
   "id": "a18fc777-f1c7-4769-82c7-76a5077af410",
   "metadata": {},
   "source": [
    "- **Degree Centrality**\n",
    "- **Closeness Centrality**\n",
    "- Betweenness Centrality\n",
    "- Load Centrality\n",
    "- Page Rank\n",
    "- Katz Centrality\n",
    "- Percolation Centrality"
   ]
  },
  {
   "cell_type": "markdown",
   "id": "aafc5b0d-e5a7-4202-9947-9d7c8d141b70",
   "metadata": {},
   "source": [
    "<br>"
   ]
  },
  {
   "cell_type": "code",
   "execution_count": 1,
   "id": "3344af2a-6d50-4ba1-9007-ac0cdba5ef86",
   "metadata": {},
   "outputs": [],
   "source": [
    "import networkx as nx"
   ]
  },
  {
   "cell_type": "markdown",
   "id": "1896421a-695d-46aa-a9c8-aa975ebf5ab7",
   "metadata": {},
   "source": [
    "## Degree Centrality"
   ]
  },
  {
   "cell_type": "markdown",
   "id": "a837ca47-8a3b-4a7d-8152-ee0ab0fa8749",
   "metadata": {},
   "source": [
    "**Assumption:** Important nodes have many connections"
   ]
  },
  {
   "cell_type": "markdown",
   "id": "17c36288-c1c7-49b0-8073-7ee6c0fac5d2",
   "metadata": {},
   "source": [
    "$$\n",
    "C_D(v) = \\frac{\\deg(v)}{|N| - 1}\n",
    "$$"
   ]
  },
  {
   "cell_type": "markdown",
   "id": "4811d840-0e4f-4149-bc25-f496d4455885",
   "metadata": {},
   "source": [
    "#### Undirected network: use degree  "
   ]
  },
  {
   "cell_type": "code",
   "execution_count": 11,
   "id": "97db94a3-4acb-44db-8994-739fc08e8ed2",
   "metadata": {},
   "outputs": [
    {
     "data": {
      "text/plain": [
       "<networkx.classes.graph.Graph at 0x2edf07da310>"
      ]
     },
     "execution_count": 11,
     "metadata": {},
     "output_type": "execute_result"
    }
   ],
   "source": [
    "G = nx.karate_club_graph()\n",
    "nx.convert_node_labels_to_integers(G,first_label=1)"
   ]
  },
  {
   "cell_type": "code",
   "execution_count": 12,
   "id": "78c99062-8394-454e-97ce-8b3cec7569f7",
   "metadata": {
    "scrolled": true
   },
   "outputs": [
    {
     "data": {
      "text/plain": [
       "{0: 0.48484848484848486,\n",
       " 1: 0.2727272727272727,\n",
       " 2: 0.30303030303030304,\n",
       " 3: 0.18181818181818182,\n",
       " 4: 0.09090909090909091,\n",
       " 5: 0.12121212121212122,\n",
       " 6: 0.12121212121212122,\n",
       " 7: 0.12121212121212122,\n",
       " 8: 0.15151515151515152,\n",
       " 9: 0.06060606060606061,\n",
       " 10: 0.09090909090909091,\n",
       " 11: 0.030303030303030304,\n",
       " 12: 0.06060606060606061,\n",
       " 13: 0.15151515151515152,\n",
       " 14: 0.06060606060606061,\n",
       " 15: 0.06060606060606061,\n",
       " 16: 0.06060606060606061,\n",
       " 17: 0.06060606060606061,\n",
       " 18: 0.06060606060606061,\n",
       " 19: 0.09090909090909091,\n",
       " 20: 0.06060606060606061,\n",
       " 21: 0.06060606060606061,\n",
       " 22: 0.06060606060606061,\n",
       " 23: 0.15151515151515152,\n",
       " 24: 0.09090909090909091,\n",
       " 25: 0.09090909090909091,\n",
       " 26: 0.06060606060606061,\n",
       " 27: 0.12121212121212122,\n",
       " 28: 0.09090909090909091,\n",
       " 29: 0.12121212121212122,\n",
       " 30: 0.12121212121212122,\n",
       " 31: 0.18181818181818182,\n",
       " 32: 0.36363636363636365,\n",
       " 33: 0.5151515151515151}"
      ]
     },
     "execution_count": 12,
     "metadata": {},
     "output_type": "execute_result"
    }
   ],
   "source": [
    "nx.degree_centrality(G)"
   ]
  },
  {
   "cell_type": "markdown",
   "id": "b780f360-5fd8-4dfc-b65d-506f10fcbf7f",
   "metadata": {},
   "source": [
    "<br>"
   ]
  },
  {
   "cell_type": "markdown",
   "id": "fd5fb9dd-3e3f-4587-8f50-f1a8d5e9a9f9",
   "metadata": {},
   "source": [
    "#### Directed networks: use in-degree ir out-degree"
   ]
  },
  {
   "cell_type": "code",
   "execution_count": 14,
   "id": "a0609798-b21d-4856-8ddd-cb1eb7e26f76",
   "metadata": {},
   "outputs": [],
   "source": [
    "D = nx.DiGraph()\n",
    "D.add_edges_from([('A', 'K'), ('K','A'),('A', 'B'), ('A', 'C'), ('B', 'C'), ('B', 'K'), ('C', 'E'),\n",
    "                  ('C', 'F'), ('D', 'E'), ('E', 'F'), ('E', 'H'), ('F', 'G'), ('I', 'J')])"
   ]
  },
  {
   "cell_type": "code",
   "execution_count": 17,
   "id": "254029ef-9b0a-4f9c-8662-60ee39f7bd81",
   "metadata": {},
   "outputs": [
    {
     "data": {
      "text/plain": [
       "{'A': 0.1,\n",
       " 'K': 0.2,\n",
       " 'B': 0.1,\n",
       " 'C': 0.2,\n",
       " 'E': 0.2,\n",
       " 'F': 0.2,\n",
       " 'D': 0.0,\n",
       " 'H': 0.1,\n",
       " 'G': 0.1,\n",
       " 'I': 0.0,\n",
       " 'J': 0.1}"
      ]
     },
     "execution_count": 17,
     "metadata": {},
     "output_type": "execute_result"
    }
   ],
   "source": [
    "nx.in_degree_centrality(D)"
   ]
  },
  {
   "cell_type": "code",
   "execution_count": 18,
   "id": "722ed72a-45a3-4a6e-9546-afd90c415972",
   "metadata": {},
   "outputs": [
    {
     "data": {
      "text/plain": [
       "{'A': 0.30000000000000004,\n",
       " 'K': 0.1,\n",
       " 'B': 0.2,\n",
       " 'C': 0.2,\n",
       " 'E': 0.2,\n",
       " 'F': 0.1,\n",
       " 'D': 0.1,\n",
       " 'H': 0.0,\n",
       " 'G': 0.0,\n",
       " 'I': 0.1,\n",
       " 'J': 0.0}"
      ]
     },
     "execution_count": 18,
     "metadata": {},
     "output_type": "execute_result"
    }
   ],
   "source": [
    "nx.out_degree_centrality(D)"
   ]
  },
  {
   "cell_type": "markdown",
   "id": "115b462e-ea5d-4129-a82b-89caf68b5ea2",
   "metadata": {},
   "source": [
    "<br>"
   ]
  },
  {
   "cell_type": "markdown",
   "id": "64afa96f-917a-4054-8249-4bed9e22294e",
   "metadata": {},
   "source": [
    "## Closeness Centrality"
   ]
  },
  {
   "cell_type": "markdown",
   "id": "0a530171-1a98-4fab-a846-3b080a324035",
   "metadata": {},
   "source": [
    "**Assumption:** important nodes are close to other nodes"
   ]
  },
  {
   "cell_type": "markdown",
   "id": "c848ae91-72b5-40d3-80ba-0ae0f12488be",
   "metadata": {},
   "source": [
    "$$\n",
    "C_C(v) = \\frac{N - 1}{\\sum_{u \\neq v} d(v, u)}\n",
    "$$\n"
   ]
  },
  {
   "cell_type": "code",
   "execution_count": 19,
   "id": "96bc5930-3032-426c-bd03-f87cd863734f",
   "metadata": {
    "scrolled": true
   },
   "outputs": [
    {
     "data": {
      "text/plain": [
       "{0: 0.5689655172413793,\n",
       " 1: 0.4852941176470588,\n",
       " 2: 0.559322033898305,\n",
       " 3: 0.4647887323943662,\n",
       " 4: 0.3793103448275862,\n",
       " 5: 0.38372093023255816,\n",
       " 6: 0.38372093023255816,\n",
       " 7: 0.44,\n",
       " 8: 0.515625,\n",
       " 9: 0.4342105263157895,\n",
       " 10: 0.3793103448275862,\n",
       " 11: 0.36666666666666664,\n",
       " 12: 0.3707865168539326,\n",
       " 13: 0.515625,\n",
       " 14: 0.3707865168539326,\n",
       " 15: 0.3707865168539326,\n",
       " 16: 0.28448275862068967,\n",
       " 17: 0.375,\n",
       " 18: 0.3707865168539326,\n",
       " 19: 0.5,\n",
       " 20: 0.3707865168539326,\n",
       " 21: 0.375,\n",
       " 22: 0.3707865168539326,\n",
       " 23: 0.39285714285714285,\n",
       " 24: 0.375,\n",
       " 25: 0.375,\n",
       " 26: 0.3626373626373626,\n",
       " 27: 0.4583333333333333,\n",
       " 28: 0.4520547945205479,\n",
       " 29: 0.38372093023255816,\n",
       " 30: 0.4583333333333333,\n",
       " 31: 0.5409836065573771,\n",
       " 32: 0.515625,\n",
       " 33: 0.55}"
      ]
     },
     "execution_count": 19,
     "metadata": {},
     "output_type": "execute_result"
    }
   ],
   "source": [
    "nx.closeness_centrality(G)"
   ]
  },
  {
   "cell_type": "markdown",
   "id": "04782405-4df5-42a6-9eba-cc66d2bfd62e",
   "metadata": {},
   "source": [
    "<br>"
   ]
  },
  {
   "cell_type": "markdown",
   "id": "f85b2cde-75e0-4bf4-b80c-590af6a7fba6",
   "metadata": {},
   "source": [
    "### Disconnected Nodes\n"
   ]
  },
  {
   "cell_type": "markdown",
   "id": "7845d551-f036-4d27-bd0d-142f57e92a0a",
   "metadata": {},
   "source": [
    "How to measure the closeness centrality of a node when it cannot reach all other nodes?"
   ]
  },
  {
   "cell_type": "markdown",
   "id": "2cd80217-68e9-472d-9ce8-9ba1c426c2bc",
   "metadata": {},
   "source": [
    "#### Option 1: Consider only nodes that can L can reach:"
   ]
  },
  {
   "cell_type": "markdown",
   "id": "82a67268-1bd4-4bd8-82d2-7dcf3d1ac63e",
   "metadata": {},
   "source": [
    "$$\n",
    "C_C(L) = \\frac{|R(L)|}{\\sum_{u \\in R(L)} d(L, u)}\n",
    "$$\n"
   ]
  },
  {
   "cell_type": "markdown",
   "id": "cebca8f3-f5f8-4c7b-85ea-d28f7a528ae1",
   "metadata": {},
   "source": [
    "where |R(L)| is the number of nodes L can reach"
   ]
  },
  {
   "cell_type": "markdown",
   "id": "f8e92320-3bb6-4b8b-9625-64f4d44fb6eb",
   "metadata": {},
   "source": [
    "<br>"
   ]
  },
  {
   "cell_type": "markdown",
   "id": "52c0b649-0c86-4e63-a0fb-f70d2280302b",
   "metadata": {},
   "source": [
    "#### Option2: Consider only nodes that L can reach and normalize by the fraction of nodes L can reach"
   ]
  },
  {
   "cell_type": "markdown",
   "id": "eafcd860-d4ef-49cc-9acb-86baa979be0f",
   "metadata": {},
   "source": [
    "$$\n",
    "C_C(L) = \\frac{|R(L)|}{\\sum_{u \\in R(L)} d(L, u)} \\frac{|R(L)}{|N-1|}\n",
    "$$\n"
   ]
  },
  {
   "cell_type": "code",
   "execution_count": 27,
   "id": "5537a0dc-b624-4317-9e63-0a9f33fd7142",
   "metadata": {},
   "outputs": [
    {
     "data": {
      "text/plain": [
       "{'A': 0.13333333333333333,\n",
       " 'K': 0.2,\n",
       " 'B': 0.13333333333333333,\n",
       " 'C': 0.22499999999999998,\n",
       " 'E': 0.2777777777777778,\n",
       " 'F': 0.3272727272727272,\n",
       " 'D': 0.0,\n",
       " 'H': 0.24,\n",
       " 'G': 0.2722222222222222,\n",
       " 'I': 0.0,\n",
       " 'J': 0.1}"
      ]
     },
     "execution_count": 27,
     "metadata": {},
     "output_type": "execute_result"
    }
   ],
   "source": [
    "nx.closeness_centrality(D)"
   ]
  }
 ],
 "metadata": {
  "kernelspec": {
   "display_name": "Python 3 (ipykernel)",
   "language": "python",
   "name": "python3"
  },
  "language_info": {
   "codemirror_mode": {
    "name": "ipython",
    "version": 3
   },
   "file_extension": ".py",
   "mimetype": "text/x-python",
   "name": "python",
   "nbconvert_exporter": "python",
   "pygments_lexer": "ipython3",
   "version": "3.11.9"
  }
 },
 "nbformat": 4,
 "nbformat_minor": 5
}
