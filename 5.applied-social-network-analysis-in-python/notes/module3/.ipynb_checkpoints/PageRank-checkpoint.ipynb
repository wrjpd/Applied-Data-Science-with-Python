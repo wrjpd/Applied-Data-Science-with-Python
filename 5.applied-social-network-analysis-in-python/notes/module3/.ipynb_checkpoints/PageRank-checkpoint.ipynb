{
 "cells": [
  {
   "cell_type": "markdown",
   "id": "ae8a22ac-8b65-4489-956a-5a746a013ce7",
   "metadata": {},
   "source": [
    "# Page Rank"
   ]
  },
  {
   "cell_type": "markdown",
   "id": "d32f5d8b-2816-4ff5-9384-6982cedabe89",
   "metadata": {},
   "source": [
    "Developed by Google founders to measure the importance of webpages from the hyperlink network structure."
   ]
  },
  {
   "cell_type": "markdown",
   "id": "ff876ce3-c46e-4341-b724-5fda2e202852",
   "metadata": {},
   "source": [
    "PageRank assigns a score of importance to each node. Important nodes are those with many in-links from important pages."
   ]
  },
  {
   "cell_type": "markdown",
   "id": "b6676e3b-d271-4fcf-8808-c98e845d643a",
   "metadata": {},
   "source": [
    "PageRank can be used for any type of network, but it is mainly useful for directed networks."
   ]
  },
  {
   "cell_type": "markdown",
   "id": "77931beb-39ab-40eb-967e-7df2918f16c3",
   "metadata": {},
   "source": [
    "A node's PageRank depends on the PageRank of other nodes."
   ]
  },
  {
   "cell_type": "markdown",
   "id": "49c8dfa2-64b1-41c6-b160-8ab7f26fd600",
   "metadata": {},
   "source": [
    "PageRank is traditionally associated with directed graphs."
   ]
  },
  {
   "cell_type": "markdown",
   "id": "87bb865d-b8cf-46b5-b716-214253c3ac63",
   "metadata": {},
   "source": [
    "<br>"
   ]
  },
  {
   "cell_type": "markdown",
   "id": "e70f8787-b857-46f6-bc30-a9100f284d54",
   "metadata": {},
   "source": [
    "n = number of nodes in the network  \n",
    "k = number of steps  \n",
    "\n",
    "**I.** Assign all nodes a PageRank of 1/n.   \n",
    "**II.** Perform the Basic PageRank Update Rule k times.\n",
    "\n",
    "The new PageRank of each node is the sum of all the PageRank it received from other nodes."
   ]
  },
  {
   "cell_type": "code",
   "execution_count": 1,
   "id": "0bf60506-c51a-44d1-802f-54907027b7cb",
   "metadata": {},
   "outputs": [],
   "source": [
    "import networkx as nx"
   ]
  },
  {
   "cell_type": "code",
   "execution_count": 2,
   "id": "7ad21845-634d-461e-baf9-757e72d0f968",
   "metadata": {},
   "outputs": [],
   "source": [
    "G = nx.karate_club_graph()"
   ]
  },
  {
   "cell_type": "code",
   "execution_count": 5,
   "id": "ad4eb8c8-f97b-4c63-afea-d8982686e776",
   "metadata": {},
   "outputs": [
    {
     "data": {
      "text/plain": [
       "False"
      ]
     },
     "execution_count": 5,
     "metadata": {},
     "output_type": "execute_result"
    }
   ],
   "source": [
    "G.is_directed()"
   ]
  },
  {
   "cell_type": "code",
   "execution_count": 4,
   "id": "5593b343-2e6d-42f2-accd-37d6062d5e56",
   "metadata": {
    "scrolled": true
   },
   "outputs": [
    {
     "data": {
      "text/plain": [
       "{0: 0.08850807396280012,\n",
       " 1: 0.057414840497110056,\n",
       " 2: 0.06276686454603017,\n",
       " 3: 0.03721208153631377,\n",
       " 4: 0.020503977347501652,\n",
       " 5: 0.03381044255357727,\n",
       " 6: 0.03152901134345504,\n",
       " 7: 0.026464618678806107,\n",
       " 8: 0.03338155566846444,\n",
       " 9: 0.009463219565799959,\n",
       " 10: 0.020689016083505596,\n",
       " 11: 0.009785686547904305,\n",
       " 12: 0.011474872305945287,\n",
       " 13: 0.033474187085322404,\n",
       " 14: 0.012941600888556285,\n",
       " 15: 0.01637633262359366,\n",
       " 16: 0.016755401561857987,\n",
       " 17: 0.009677265915396801,\n",
       " 18: 0.009544864590131914,\n",
       " 19: 0.013077518431081969,\n",
       " 20: 0.011224235021037596,\n",
       " 21: 0.01136015256356328,\n",
       " 22: 0.01296059860686279,\n",
       " 23: 0.04114596964602211,\n",
       " 24: 0.01663437445025268,\n",
       " 25: 0.028672962013730707,\n",
       " 26: 0.015240392773380823,\n",
       " 27: 0.027235358397633882,\n",
       " 28: 0.01447852177427162,\n",
       " 29: 0.028271813832825125,\n",
       " 30: 0.02303184425091186,\n",
       " 31: 0.04198548926127872,\n",
       " 32: 0.07592643687005646,\n",
       " 33: 0.09698041880501741}"
      ]
     },
     "execution_count": 4,
     "metadata": {},
     "output_type": "execute_result"
    }
   ],
   "source": [
    "nx.pagerank(G)"
   ]
  },
  {
   "cell_type": "markdown",
   "id": "029a6acc-7959-403b-a351-67fcfebd0e44",
   "metadata": {},
   "source": [
    "<br>"
   ]
  },
  {
   "cell_type": "markdown",
   "id": "3e7d3440-c40c-4066-840b-0dc8ec73fd24",
   "metadata": {},
   "source": [
    "## Interpreting PageRank"
   ]
  },
  {
   "cell_type": "markdown",
   "id": "f65e02a9-f81c-4f81-80f4-8d85dade2084",
   "metadata": {},
   "source": [
    "The PageRank of a node at step *k* is the probability that a **random walker** lands on the node after taking k steps."
   ]
  },
  {
   "cell_type": "markdown",
   "id": "313c92b3-c2c3-48ab-88cd-f1748bcee65f",
   "metadata": {},
   "source": [
    "However, the random walker can be stuck at node G and S (example) if these nodes do not have an edge pointing to other nodes, only a edge pointing to themselves. (G -> S , S -> G)"
   ]
  },
  {
   "cell_type": "markdown",
   "id": "ad59be20-185f-46b5-b8ec-0ad2c7270755",
   "metadata": {},
   "source": [
    "In this example, for large *k*, G and S each have PageRank of 1/2 and all other nodes have PageRank 0."
   ]
  },
  {
   "cell_type": "markdown",
   "id": "f68bb3a8-6b65-48c2-b32e-c2ee81b08a2b",
   "metadata": {},
   "source": [
    "<br>"
   ]
  },
  {
   "cell_type": "markdown",
   "id": "deb8c2e7-c6cc-4178-bf42-c0f89e782e47",
   "metadata": {},
   "source": [
    "### Damping Parameter alfa"
   ]
  },
  {
   "cell_type": "markdown",
   "id": "b8cde162-90eb-42c9-8f74-03e809fbfc7c",
   "metadata": {},
   "source": [
    "To fix this, we introduce a \"damping parameter\" **alfa**."
   ]
  },
  {
   "cell_type": "markdown",
   "id": "e3e10011-ff60-43b9-9a2d-9365847018ec",
   "metadata": {},
   "source": [
    "**Random walk of k steps with damping parameters alfa:** Start on a random node. Then:  \n",
    "- With probability **alfa**: Choose an outgoing edge at random and follow it to the next node.\n",
    "- With probability **1 - alfa**: Choose a node at random and got to it."
   ]
  },
  {
   "cell_type": "markdown",
   "id": "db0922c2-429b-4ade-8cb1-d4b4bd17ffe8",
   "metadata": {},
   "source": [
    "The random walk is no longer stuck on nodes G and S."
   ]
  },
  {
   "cell_type": "markdown",
   "id": "026dbbfd-b3eb-44b9-b4b1-d27603acbe58",
   "metadata": {},
   "source": [
    "*Typically we use alfa between 0.8 and 0.9*"
   ]
  },
  {
   "cell_type": "code",
   "execution_count": 6,
   "id": "409212bc-b211-46d8-90e3-9f710e412027",
   "metadata": {
    "scrolled": true
   },
   "outputs": [
    {
     "data": {
      "text/plain": [
       "{0: 0.08681447719172829,\n",
       " 1: 0.05576990180502326,\n",
       " 2: 0.06022609788477227,\n",
       " 3: 0.03670727111555245,\n",
       " 4: 0.021184995124117666,\n",
       " 5: 0.034116513708762286,\n",
       " 6: 0.031875010542794575,\n",
       " 7: 0.026078126588955267,\n",
       " 8: 0.032504029578824645,\n",
       " 9: 0.01050443442853472,\n",
       " 10: 0.021394066044403352,\n",
       " 11: 0.010843321085063444,\n",
       " 12: 0.012430356457194331,\n",
       " 13: 0.03255335020695045,\n",
       " 14: 0.013723097706681172,\n",
       " 15: 0.016885155427766807,\n",
       " 16: 0.017615950148322918,\n",
       " 17: 0.010728169791778151,\n",
       " 18: 0.010603973010401791,\n",
       " 19: 0.013847703406997999,\n",
       " 20: 0.012142068846138356,\n",
       " 21: 0.012266674546455183,\n",
       " 22: 0.013744564219084298,\n",
       " 23: 0.04005234377538896,\n",
       " 24: 0.017273255096315228,\n",
       " 25: 0.02841630372234375,\n",
       " 26: 0.016038313813914594,\n",
       " 27: 0.027151493976771628,\n",
       " 28: 0.015095117409551478,\n",
       " 29: 0.028413382290443677,\n",
       " 30: 0.02296983977569958,\n",
       " 31: 0.041092418400124585,\n",
       " 32: 0.07407774615757656,\n",
       " 33: 0.09486047671556612}"
      ]
     },
     "execution_count": 6,
     "metadata": {},
     "output_type": "execute_result"
    }
   ],
   "source": [
    "nx.pagerank(G,alpha=0.8)"
   ]
  },
  {
   "cell_type": "code",
   "execution_count": null,
   "id": "75b359bd-3b03-48cc-af50-00ce30add542",
   "metadata": {},
   "outputs": [],
   "source": []
  }
 ],
 "metadata": {
  "kernelspec": {
   "display_name": "Python 3 (ipykernel)",
   "language": "python",
   "name": "python3"
  },
  "language_info": {
   "codemirror_mode": {
    "name": "ipython",
    "version": 3
   },
   "file_extension": ".py",
   "mimetype": "text/x-python",
   "name": "python",
   "nbconvert_exporter": "python",
   "pygments_lexer": "ipython3",
   "version": "3.11.9"
  }
 },
 "nbformat": 4,
 "nbformat_minor": 5
}
