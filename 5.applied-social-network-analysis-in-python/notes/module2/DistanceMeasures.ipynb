{
 "cells": [
  {
   "cell_type": "markdown",
   "id": "2a5e520c-8fc9-4d63-bea0-a81ea88ae642",
   "metadata": {},
   "source": [
    "# Distance"
   ]
  },
  {
   "cell_type": "markdown",
   "id": "d90c14d3-898a-4a06-98cf-119eb4697018",
   "metadata": {},
   "source": [
    "How \"far\" is node A from node H?  \n",
    "Are nodes far away or close to each other in a network?  \n",
    "Which nodes are \"closest\" and \"farthest\" to other nodes?"
   ]
  },
  {
   "cell_type": "markdown",
   "id": "46b26e9c-3298-4232-bd24-23432fad6f15",
   "metadata": {},
   "source": [
    "We need a sense of distance between nodes to answer these questions"
   ]
  },
  {
   "cell_type": "code",
   "execution_count": 16,
   "id": "8823f8ae-6d70-4304-91bc-b8a2cdc07a5c",
   "metadata": {},
   "outputs": [],
   "source": [
    "import networkx as nx"
   ]
  },
  {
   "cell_type": "code",
   "execution_count": 17,
   "id": "fdf73e50-a10a-431c-9033-589bd6e9fd94",
   "metadata": {},
   "outputs": [],
   "source": [
    "G = nx.Graph()\n",
    "G.add_edges_from([('A', 'K'), ('A', 'B'), ('A', 'C'), ('B', 'C'), ('B', 'K'), ('C', 'E'),\n",
    "                  ('C', 'F'), ('D', 'E'), ('E', 'F'), ('E', 'H'), ('F', 'G'), ('I', 'J'),('E','I')])"
   ]
  },
  {
   "cell_type": "markdown",
   "id": "1c946c67-2488-48a9-88e6-9f7ff856a216",
   "metadata": {},
   "source": [
    "<br>"
   ]
  },
  {
   "cell_type": "markdown",
   "id": "c04f1766-3e42-424e-8c6e-6da070f846d6",
   "metadata": {},
   "source": [
    "**Distance between two nodes:** the length of the sortest path between them."
   ]
  },
  {
   "cell_type": "code",
   "execution_count": 18,
   "id": "3238f448-a99a-409d-bddf-a705c8e79353",
   "metadata": {
    "scrolled": true
   },
   "outputs": [
    {
     "data": {
      "text/plain": [
       "{'A': {'A': ['A'],\n",
       "  'K': ['A', 'K'],\n",
       "  'B': ['A', 'B'],\n",
       "  'C': ['A', 'C'],\n",
       "  'E': ['A', 'C', 'E'],\n",
       "  'F': ['A', 'C', 'F'],\n",
       "  'D': ['A', 'C', 'E', 'D'],\n",
       "  'H': ['A', 'C', 'E', 'H'],\n",
       "  'I': ['A', 'C', 'E', 'I'],\n",
       "  'G': ['A', 'C', 'F', 'G'],\n",
       "  'J': ['A', 'C', 'E', 'I', 'J']},\n",
       " 'K': {'K': ['K'],\n",
       "  'A': ['K', 'A'],\n",
       "  'B': ['K', 'B'],\n",
       "  'C': ['K', 'A', 'C'],\n",
       "  'E': ['K', 'A', 'C', 'E'],\n",
       "  'F': ['K', 'A', 'C', 'F'],\n",
       "  'D': ['K', 'A', 'C', 'E', 'D'],\n",
       "  'H': ['K', 'A', 'C', 'E', 'H'],\n",
       "  'I': ['K', 'A', 'C', 'E', 'I'],\n",
       "  'G': ['K', 'A', 'C', 'F', 'G'],\n",
       "  'J': ['K', 'A', 'C', 'E', 'I', 'J']},\n",
       " 'B': {'B': ['B'],\n",
       "  'A': ['B', 'A'],\n",
       "  'C': ['B', 'C'],\n",
       "  'K': ['B', 'K'],\n",
       "  'E': ['B', 'C', 'E'],\n",
       "  'F': ['B', 'C', 'F'],\n",
       "  'D': ['B', 'C', 'E', 'D'],\n",
       "  'H': ['B', 'C', 'E', 'H'],\n",
       "  'I': ['B', 'C', 'E', 'I'],\n",
       "  'G': ['B', 'C', 'F', 'G'],\n",
       "  'J': ['B', 'C', 'E', 'I', 'J']},\n",
       " 'C': {'C': ['C'],\n",
       "  'A': ['C', 'A'],\n",
       "  'B': ['C', 'B'],\n",
       "  'E': ['C', 'E'],\n",
       "  'F': ['C', 'F'],\n",
       "  'K': ['C', 'A', 'K'],\n",
       "  'D': ['C', 'E', 'D'],\n",
       "  'H': ['C', 'E', 'H'],\n",
       "  'I': ['C', 'E', 'I'],\n",
       "  'G': ['C', 'F', 'G'],\n",
       "  'J': ['C', 'E', 'I', 'J']},\n",
       " 'E': {'E': ['E'],\n",
       "  'C': ['E', 'C'],\n",
       "  'D': ['E', 'D'],\n",
       "  'F': ['E', 'F'],\n",
       "  'H': ['E', 'H'],\n",
       "  'I': ['E', 'I'],\n",
       "  'A': ['E', 'C', 'A'],\n",
       "  'B': ['E', 'C', 'B'],\n",
       "  'G': ['E', 'F', 'G'],\n",
       "  'J': ['E', 'I', 'J'],\n",
       "  'K': ['E', 'C', 'A', 'K']},\n",
       " 'F': {'F': ['F'],\n",
       "  'C': ['F', 'C'],\n",
       "  'E': ['F', 'E'],\n",
       "  'G': ['F', 'G'],\n",
       "  'A': ['F', 'C', 'A'],\n",
       "  'B': ['F', 'C', 'B'],\n",
       "  'D': ['F', 'E', 'D'],\n",
       "  'H': ['F', 'E', 'H'],\n",
       "  'I': ['F', 'E', 'I'],\n",
       "  'K': ['F', 'C', 'A', 'K'],\n",
       "  'J': ['F', 'E', 'I', 'J']},\n",
       " 'D': {'D': ['D'],\n",
       "  'E': ['D', 'E'],\n",
       "  'C': ['D', 'E', 'C'],\n",
       "  'F': ['D', 'E', 'F'],\n",
       "  'H': ['D', 'E', 'H'],\n",
       "  'I': ['D', 'E', 'I'],\n",
       "  'A': ['D', 'E', 'C', 'A'],\n",
       "  'B': ['D', 'E', 'C', 'B'],\n",
       "  'G': ['D', 'E', 'F', 'G'],\n",
       "  'J': ['D', 'E', 'I', 'J'],\n",
       "  'K': ['D', 'E', 'C', 'A', 'K']},\n",
       " 'H': {'H': ['H'],\n",
       "  'E': ['H', 'E'],\n",
       "  'C': ['H', 'E', 'C'],\n",
       "  'D': ['H', 'E', 'D'],\n",
       "  'F': ['H', 'E', 'F'],\n",
       "  'I': ['H', 'E', 'I'],\n",
       "  'A': ['H', 'E', 'C', 'A'],\n",
       "  'B': ['H', 'E', 'C', 'B'],\n",
       "  'G': ['H', 'E', 'F', 'G'],\n",
       "  'J': ['H', 'E', 'I', 'J'],\n",
       "  'K': ['H', 'E', 'C', 'A', 'K']},\n",
       " 'G': {'G': ['G'],\n",
       "  'F': ['G', 'F'],\n",
       "  'C': ['G', 'F', 'C'],\n",
       "  'E': ['G', 'F', 'E'],\n",
       "  'A': ['G', 'F', 'C', 'A'],\n",
       "  'B': ['G', 'F', 'C', 'B'],\n",
       "  'D': ['G', 'F', 'E', 'D'],\n",
       "  'H': ['G', 'F', 'E', 'H'],\n",
       "  'I': ['G', 'F', 'E', 'I'],\n",
       "  'K': ['G', 'F', 'C', 'A', 'K'],\n",
       "  'J': ['G', 'F', 'E', 'I', 'J']},\n",
       " 'I': {'I': ['I'],\n",
       "  'J': ['I', 'J'],\n",
       "  'E': ['I', 'E'],\n",
       "  'C': ['I', 'E', 'C'],\n",
       "  'D': ['I', 'E', 'D'],\n",
       "  'F': ['I', 'E', 'F'],\n",
       "  'H': ['I', 'E', 'H'],\n",
       "  'A': ['I', 'E', 'C', 'A'],\n",
       "  'B': ['I', 'E', 'C', 'B'],\n",
       "  'G': ['I', 'E', 'F', 'G'],\n",
       "  'K': ['I', 'E', 'C', 'A', 'K']},\n",
       " 'J': {'J': ['J'],\n",
       "  'I': ['J', 'I'],\n",
       "  'E': ['J', 'I', 'E'],\n",
       "  'C': ['J', 'I', 'E', 'C'],\n",
       "  'D': ['J', 'I', 'E', 'D'],\n",
       "  'F': ['J', 'I', 'E', 'F'],\n",
       "  'H': ['J', 'I', 'E', 'H'],\n",
       "  'A': ['J', 'I', 'E', 'C', 'A'],\n",
       "  'B': ['J', 'I', 'E', 'C', 'B'],\n",
       "  'G': ['J', 'I', 'E', 'F', 'G'],\n",
       "  'K': ['J', 'I', 'E', 'C', 'A', 'K']}}"
      ]
     },
     "execution_count": 18,
     "metadata": {},
     "output_type": "execute_result"
    }
   ],
   "source": [
    "nx.shortest_path(G)"
   ]
  },
  {
   "cell_type": "code",
   "execution_count": 19,
   "id": "bc4afbec-0c29-4bce-a5ca-d095f5e2a193",
   "metadata": {},
   "outputs": [
    {
     "data": {
      "text/plain": [
       "['A', 'C', 'E', 'H']"
      ]
     },
     "execution_count": 19,
     "metadata": {},
     "output_type": "execute_result"
    }
   ],
   "source": [
    "nx.shortest_path(G,'A','H')"
   ]
  },
  {
   "cell_type": "code",
   "execution_count": 20,
   "id": "a600d174-5f05-46eb-8e7d-e4842ea2eb05",
   "metadata": {},
   "outputs": [
    {
     "data": {
      "text/plain": [
       "3"
      ]
     },
     "execution_count": 20,
     "metadata": {},
     "output_type": "execute_result"
    }
   ],
   "source": [
    "nx.shortest_path_length(G,'A','H')"
   ]
  },
  {
   "cell_type": "markdown",
   "id": "283199b8-ebd0-4017-8baf-b4390ea13aff",
   "metadata": {},
   "source": [
    "<br>"
   ]
  },
  {
   "cell_type": "markdown",
   "id": "22d35349-3cec-4214-bd21-9534ffa343df",
   "metadata": {},
   "source": [
    "**Breadth-first search:** A systematic and efficient procedure for computing distances from a node to all other in a large network by 'discovering' nodes in layers."
   ]
  },
  {
   "cell_type": "code",
   "execution_count": 21,
   "id": "dd832a2b-8d8f-4393-813c-46d43fc15793",
   "metadata": {},
   "outputs": [
    {
     "data": {
      "text/plain": [
       "OutEdgeView([('A', 'K'), ('A', 'B'), ('A', 'C'), ('C', 'E'), ('C', 'F'), ('E', 'D'), ('E', 'H'), ('E', 'I'), ('F', 'G'), ('I', 'J')])"
      ]
     },
     "execution_count": 21,
     "metadata": {},
     "output_type": "execute_result"
    }
   ],
   "source": [
    "T = nx.bfs_tree(G,'A')\n",
    "T.edges()"
   ]
  },
  {
   "cell_type": "markdown",
   "id": "d82a727b-6a6f-47a6-8be9-de9d4713af4d",
   "metadata": {},
   "source": [
    "<br>"
   ]
  },
  {
   "cell_type": "markdown",
   "id": "767fd52f-292f-4bb9-9781-370787e5792e",
   "metadata": {},
   "source": [
    "## Distances Measures of a Network"
   ]
  },
  {
   "cell_type": "markdown",
   "id": "d4f8b22b-6509-49b6-86c1-1efa5c61b3ec",
   "metadata": {},
   "source": [
    "**Average distance:** Average distance between every pair of nodes."
   ]
  },
  {
   "cell_type": "code",
   "execution_count": 24,
   "id": "d13ef7e3-1f8e-478d-ac5c-7de7a401d18f",
   "metadata": {
    "scrolled": true
   },
   "outputs": [
    {
     "data": {
      "text/plain": [
       "2.381818181818182"
      ]
     },
     "execution_count": 24,
     "metadata": {},
     "output_type": "execute_result"
    }
   ],
   "source": [
    "nx.average_shortest_path_length(G)"
   ]
  },
  {
   "cell_type": "markdown",
   "id": "8b275392-2465-468b-9890-d0e9717cf8d3",
   "metadata": {},
   "source": [
    "<br>"
   ]
  },
  {
   "cell_type": "markdown",
   "id": "14e3b0fc-5454-47ff-ad83-bf56ba28d192",
   "metadata": {},
   "source": [
    "**Diameter:** Maximum distance between any pair of nodes."
   ]
  },
  {
   "cell_type": "code",
   "execution_count": 25,
   "id": "942bcf67-adba-4967-9e62-2a6abf5dbccd",
   "metadata": {},
   "outputs": [
    {
     "data": {
      "text/plain": [
       "5"
      ]
     },
     "execution_count": 25,
     "metadata": {},
     "output_type": "execute_result"
    }
   ],
   "source": [
    "nx.diameter(G)"
   ]
  },
  {
   "cell_type": "markdown",
   "id": "6eec3644-74fa-4a15-b81d-498a0785dbb9",
   "metadata": {},
   "source": [
    "<br>"
   ]
  },
  {
   "cell_type": "markdown",
   "id": "1d4a3568-5507-4d76-b6fd-bcd6e72fc72e",
   "metadata": {},
   "source": [
    "**Eccentricity:** The largest distance between the node and all other nodes."
   ]
  },
  {
   "cell_type": "code",
   "execution_count": 27,
   "id": "a2cd6516-ed42-421b-89f1-eaa2356b431c",
   "metadata": {},
   "outputs": [
    {
     "data": {
      "text/plain": [
       "{'A': 4,\n",
       " 'K': 5,\n",
       " 'B': 4,\n",
       " 'C': 3,\n",
       " 'E': 3,\n",
       " 'F': 3,\n",
       " 'D': 4,\n",
       " 'H': 4,\n",
       " 'G': 4,\n",
       " 'I': 4,\n",
       " 'J': 5}"
      ]
     },
     "execution_count": 27,
     "metadata": {},
     "output_type": "execute_result"
    }
   ],
   "source": [
    "nx.eccentricity(G)"
   ]
  },
  {
   "cell_type": "code",
   "execution_count": 26,
   "id": "710f494b-3ba0-4eb9-9fd7-8b545423cad3",
   "metadata": {},
   "outputs": [
    {
     "data": {
      "text/plain": [
       "4"
      ]
     },
     "execution_count": 26,
     "metadata": {},
     "output_type": "execute_result"
    }
   ],
   "source": [
    "nx.eccentricity(G,'A')"
   ]
  },
  {
   "cell_type": "markdown",
   "id": "21103631-f1ec-45a3-a6b6-ebc07197fe7a",
   "metadata": {},
   "source": [
    "<br>"
   ]
  },
  {
   "cell_type": "markdown",
   "id": "c2925959-efee-4639-a25b-b6ec2a434d10",
   "metadata": {},
   "source": [
    "**Radius:** Minimum eccentricity"
   ]
  },
  {
   "cell_type": "code",
   "execution_count": 30,
   "id": "57c9f7ed-6615-472f-859f-12d633f53e5e",
   "metadata": {},
   "outputs": [
    {
     "data": {
      "text/plain": [
       "3"
      ]
     },
     "execution_count": 30,
     "metadata": {},
     "output_type": "execute_result"
    }
   ],
   "source": [
    "nx.radius(G)"
   ]
  },
  {
   "cell_type": "markdown",
   "id": "1df62c09-5f0c-43e2-a2b6-4f0aa364761f",
   "metadata": {},
   "source": [
    "<br>"
   ]
  },
  {
   "cell_type": "markdown",
   "id": "249b7cc5-8d44-42f1-9457-7acc53cbcfd3",
   "metadata": {},
   "source": [
    "**Periphery:** Set of nodes that have eccentricity equal to diameter."
   ]
  },
  {
   "cell_type": "code",
   "execution_count": 33,
   "id": "239d64c6-ab2b-43d0-8ea9-94b854394648",
   "metadata": {},
   "outputs": [
    {
     "data": {
      "text/plain": [
       "['K', 'J']"
      ]
     },
     "execution_count": 33,
     "metadata": {},
     "output_type": "execute_result"
    }
   ],
   "source": [
    "nx.periphery(G)"
   ]
  },
  {
   "cell_type": "markdown",
   "id": "5077392c-7589-4521-99d4-47cc64dbd91f",
   "metadata": {},
   "source": [
    "<br>"
   ]
  },
  {
   "cell_type": "markdown",
   "id": "71df1753-1a4d-47f5-91c8-664fc2e48ac9",
   "metadata": {},
   "source": [
    "**Center:** Set of nodes that have eccentricity equal to the radius."
   ]
  },
  {
   "cell_type": "code",
   "execution_count": 34,
   "id": "ab67bdf0-d86d-4253-827c-1c7df188a294",
   "metadata": {},
   "outputs": [
    {
     "data": {
      "text/plain": [
       "['C', 'E', 'F']"
      ]
     },
     "execution_count": 34,
     "metadata": {},
     "output_type": "execute_result"
    }
   ],
   "source": [
    "nx.center(G)"
   ]
  }
 ],
 "metadata": {
  "kernelspec": {
   "display_name": "Python 3 (ipykernel)",
   "language": "python",
   "name": "python3"
  },
  "language_info": {
   "codemirror_mode": {
    "name": "ipython",
    "version": 3
   },
   "file_extension": ".py",
   "mimetype": "text/x-python",
   "name": "python",
   "nbconvert_exporter": "python",
   "pygments_lexer": "ipython3",
   "version": "3.11.9"
  }
 },
 "nbformat": 4,
 "nbformat_minor": 5
}
