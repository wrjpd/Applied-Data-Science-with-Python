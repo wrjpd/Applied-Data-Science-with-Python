{
 "cells": [
  {
   "cell_type": "markdown",
   "id": "18acc38c-8f09-4848-aac4-9109b7328eaa",
   "metadata": {},
   "source": [
    "# Connected Components"
   ]
  },
  {
   "cell_type": "markdown",
   "id": "dcead3ca-1f1d-4f2c-9539-1a356f72d804",
   "metadata": {},
   "source": [
    "## Connectivity in Undirected Graph"
   ]
  },
  {
   "cell_type": "markdown",
   "id": "6c92f044-55cb-4cf5-a9e2-1b4d91b4c727",
   "metadata": {},
   "source": [
    "An undirected graph is **connected** if, for every pair nodes, there is a path between them."
   ]
  },
  {
   "cell_type": "code",
   "execution_count": 26,
   "id": "581f7050-22f4-4940-a653-c87f0a466ed3",
   "metadata": {},
   "outputs": [],
   "source": [
    "import networkx as nx\n",
    "G = nx.Graph()\n",
    "G.add_edges_from([('A', 'K'), ('A', 'B'), ('A', 'C'), ('B', 'C'), ('B', 'K'), ('C', 'E'),\n",
    "                  ('C', 'F'), ('D', 'E'), ('E', 'F'), ('E', 'H'), ('F', 'G'), ('I', 'J')])"
   ]
  },
  {
   "cell_type": "code",
   "execution_count": 3,
   "id": "5263126b-a30d-4ea8-8eae-acfb8f0cd11b",
   "metadata": {},
   "outputs": [
    {
     "data": {
      "image/png": "[encoded data removed]",
      "text/plain": [
       "<Figure size 640x480 with 1 Axes>"
      ]
     },
     "metadata": {},
     "output_type": "display_data"
    }
   ],
   "source": [
    "nx.draw_networkx(G)"
   ]
  },
  {
   "cell_type": "code",
   "execution_count": 2,
   "id": "c39949db-2f58-4ff1-891f-87ea3ca08ac7",
   "metadata": {},
   "outputs": [
    {
     "data": {
      "text/plain": [
       "False"
      ]
     },
     "execution_count": 2,
     "metadata": {},
     "output_type": "execute_result"
    }
   ],
   "source": [
    "nx.is_connected(G)"
   ]
  },
  {
   "cell_type": "markdown",
   "id": "d946b322-09dd-4b2e-8837-d1777643d3df",
   "metadata": {},
   "source": [
    "### Connected Component:"
   ]
  },
  {
   "cell_type": "markdown",
   "id": "74ff30b8-00c4-4310-bc47-45f80523e516",
   "metadata": {},
   "source": [
    "**connected component** is a subset of node such as:  \n",
    "- Every node in the subset has a path to every other node.\n",
    "- No other node has a path to any node in the subset"
   ]
  },
  {
   "cell_type": "markdown",
   "id": "ea3ad115-98f3-4c42-9388-a10508a18902",
   "metadata": {},
   "source": [
    "<br>"
   ]
  },
  {
   "cell_type": "markdown",
   "id": "5d3dd156-108e-42bc-9970-ed84b6200b9d",
   "metadata": {},
   "source": [
    "\\# of connected components"
   ]
  },
  {
   "cell_type": "code",
   "execution_count": 4,
   "id": "b09efd2d-8dc8-493a-a3cf-386fa8f01d65",
   "metadata": {},
   "outputs": [
    {
     "data": {
      "text/plain": [
       "2"
      ]
     },
     "execution_count": 4,
     "metadata": {},
     "output_type": "execute_result"
    }
   ],
   "source": [
    "nx.number_connected_components(G)"
   ]
  },
  {
   "cell_type": "markdown",
   "id": "98aa8605-6334-49d4-a69e-9f7e89492662",
   "metadata": {},
   "source": [
    "<br>"
   ]
  },
  {
   "cell_type": "markdown",
   "id": "194a482b-67bf-447c-a17b-6fe85858a5f5",
   "metadata": {},
   "source": [
    "list all connected components"
   ]
  },
  {
   "cell_type": "code",
   "execution_count": 6,
   "id": "6a460eb8-35d8-4c88-9702-1f8ea43903be",
   "metadata": {},
   "outputs": [
    {
     "data": {
      "text/plain": [
       "[{'A', 'B', 'C', 'D', 'E', 'F', 'G', 'H', 'K'}, {'I', 'J'}]"
      ]
     },
     "execution_count": 6,
     "metadata": {},
     "output_type": "execute_result"
    }
   ],
   "source": [
    "list(nx.connected_components(G))"
   ]
  },
  {
   "cell_type": "markdown",
   "id": "14d1ffde-b589-4e92-ac3e-c33a6d60c2a3",
   "metadata": {},
   "source": [
    "<br>"
   ]
  },
  {
   "cell_type": "markdown",
   "id": "987433ca-3152-4c5f-b922-83eee6519218",
   "metadata": {},
   "source": [
    "check which connected component the node belongs to"
   ]
  },
  {
   "cell_type": "code",
   "execution_count": 8,
   "id": "8392dacf-0308-4cdf-86b3-0461465acab1",
   "metadata": {},
   "outputs": [
    {
     "data": {
      "text/plain": [
       "{'I', 'J'}"
      ]
     },
     "execution_count": 8,
     "metadata": {},
     "output_type": "execute_result"
    }
   ],
   "source": [
    "nx.node_connected_component(G,'I')"
   ]
  },
  {
   "cell_type": "markdown",
   "id": "933dfac0-94d4-4d5b-9085-527560928c29",
   "metadata": {},
   "source": [
    "<br>"
   ]
  },
  {
   "cell_type": "markdown",
   "id": "10fe56de-a2ad-4331-abb8-e119c61df6ea",
   "metadata": {},
   "source": [
    "## Connectivitty in Directed Graphs"
   ]
  },
  {
   "cell_type": "markdown",
   "id": "2a655ea0-bba3-4ae1-b1e6-80b09cbd582b",
   "metadata": {},
   "source": [
    "### Strongly Connected"
   ]
  },
  {
   "cell_type": "markdown",
   "id": "cc7c440e-570d-4961-9ba9-420c56899114",
   "metadata": {},
   "source": [
    "A directed graph is strongly connected if, for every pair of nodes *u* and *v*, there is a directed path form *u* to *v* and a directed path from *v* to *u*."
   ]
  },
  {
   "cell_type": "code",
   "execution_count": 22,
   "id": "df57d08c-ce41-45cf-b7f2-b1d68912dcf6",
   "metadata": {},
   "outputs": [],
   "source": [
    "import networkx as nx\n",
    "D = nx.DiGraph()\n",
    "D.add_edges_from([('A', 'K'), ('K','A'),('A', 'B'), ('A', 'C'), ('B', 'C'), ('B', 'K'), ('C', 'E'),\n",
    "                  ('C', 'F'), ('D', 'E'), ('E', 'F'), ('E', 'H'), ('F', 'G'), ('I', 'J')])"
   ]
  },
  {
   "cell_type": "code",
   "execution_count": 23,
   "id": "007b05f5-30c1-4c67-af50-97b6200b652a",
   "metadata": {},
   "outputs": [
    {
     "data": {
      "text/plain": [
       "False"
      ]
     },
     "execution_count": 23,
     "metadata": {},
     "output_type": "execute_result"
    }
   ],
   "source": [
    "nx.is_strongly_connected(D)"
   ]
  },
  {
   "cell_type": "markdown",
   "id": "67e06d41-a418-4702-a458-f87ddcf195db",
   "metadata": {},
   "source": [
    "<br>"
   ]
  },
  {
   "cell_type": "markdown",
   "id": "960983f7-6a2d-4fcb-bdb7-5a189e8a596f",
   "metadata": {},
   "source": [
    "#### Strongly Connected Component"
   ]
  },
  {
   "cell_type": "markdown",
   "id": "8ed2a66b-3887-42fa-a17a-f8811bceb5ca",
   "metadata": {},
   "source": [
    "**Strongly Connected Component** is a subset of nodes such as:\n",
    "- Every node in the subset has a directed path to every other node\n",
    "- No other node has a directed path to and from every node in the subset"
   ]
  },
  {
   "cell_type": "code",
   "execution_count": 24,
   "id": "00e4f32c-5c4c-4568-82a9-420635498d0e",
   "metadata": {},
   "outputs": [
    {
     "data": {
      "text/plain": [
       "[{'G'}, {'F'}, {'H'}, {'E'}, {'C'}, {'A', 'B', 'K'}, {'D'}, {'J'}, {'I'}]"
      ]
     },
     "execution_count": 24,
     "metadata": {},
     "output_type": "execute_result"
    }
   ],
   "source": [
    "list(nx.strongly_connected_components(D))"
   ]
  },
  {
   "cell_type": "markdown",
   "id": "c8763c7f-9b06-4582-983f-f4bf7710401c",
   "metadata": {},
   "source": [
    "<br>"
   ]
  },
  {
   "cell_type": "markdown",
   "id": "7ceefb2f-9a87-42e3-a105-a5a544e15f93",
   "metadata": {},
   "source": [
    "### Weakly Connected"
   ]
  },
  {
   "cell_type": "markdown",
   "id": "666ddedd-435f-4b50-974e-644806ea1831",
   "metadata": {},
   "source": [
    "A direct graph is weakly connected if replacing all directed edges with undirected edges produces a connected undirected graph."
   ]
  },
  {
   "cell_type": "code",
   "execution_count": 27,
   "id": "e172cfab-1e46-426e-9aa7-5de5af315604",
   "metadata": {},
   "outputs": [
    {
     "data": {
      "text/plain": [
       "False"
      ]
     },
     "execution_count": 27,
     "metadata": {},
     "output_type": "execute_result"
    }
   ],
   "source": [
    "nx.is_weakly_connected(D)"
   ]
  },
  {
   "cell_type": "markdown",
   "id": "5bcc58ca-0939-426c-9025-11edaf10f22c",
   "metadata": {},
   "source": [
    "<br>"
   ]
  },
  {
   "cell_type": "markdown",
   "id": "917cea21-eef6-4082-b04a-82b745378c8e",
   "metadata": {},
   "source": [
    "#### Weakly Connected Component"
   ]
  },
  {
   "cell_type": "markdown",
   "id": "60874745-af66-42c2-bc31-d52cc7548868",
   "metadata": {},
   "source": [
    "The `connected components` of the graph after replacing all directed edges with undirected edges."
   ]
  },
  {
   "cell_type": "code",
   "execution_count": 30,
   "id": "5908b5ba-dfbc-478b-adc1-1dbba487802a",
   "metadata": {},
   "outputs": [
    {
     "data": {
      "text/plain": [
       "[{'A', 'B', 'C', 'D', 'E', 'F', 'G', 'H', 'K'}, {'I', 'J'}]"
      ]
     },
     "execution_count": 30,
     "metadata": {},
     "output_type": "execute_result"
    }
   ],
   "source": [
    "list(nx.connected_components(G))"
   ]
  },
  {
   "cell_type": "code",
   "execution_count": 32,
   "id": "d86d7fad-95fd-4623-9fb5-4de713cfad4b",
   "metadata": {},
   "outputs": [
    {
     "data": {
      "text/plain": [
       "[{'A', 'B', 'C', 'D', 'E', 'F', 'G', 'H', 'K'}, {'I', 'J'}]"
      ]
     },
     "execution_count": 32,
     "metadata": {},
     "output_type": "execute_result"
    }
   ],
   "source": [
    "list(nx.weakly_connected_components(D))"
   ]
  },
  {
   "cell_type": "code",
   "execution_count": null,
   "id": "d490acb4-371b-479b-b6fd-e49233dd47bd",
   "metadata": {},
   "outputs": [],
   "source": []
  }
 ],
 "metadata": {
  "kernelspec": {
   "display_name": "Python 3 (ipykernel)",
   "language": "python",
   "name": "python3"
  },
  "language_info": {
   "codemirror_mode": {
    "name": "ipython",
    "version": 3
   },
   "file_extension": ".py",
   "mimetype": "text/x-python",
   "name": "python",
   "nbconvert_exporter": "python",
   "pygments_lexer": "ipython3",
   "version": "3.11.9"
  }
 },
 "nbformat": 4,
 "nbformat_minor": 5
}
