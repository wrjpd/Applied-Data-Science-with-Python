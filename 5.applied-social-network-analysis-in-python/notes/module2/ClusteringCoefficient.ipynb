{
 "cells": [
  {
   "cell_type": "markdown",
   "id": "c2fbf490-6525-4b66-a99f-f3684f6ecfdd",
   "metadata": {},
   "source": [
    "# Clustering Coefficient"
   ]
  },
  {
   "cell_type": "markdown",
   "id": "e25766e7-bf78-4a6c-a744-cb215c78af70",
   "metadata": {},
   "source": [
    "**Triadic Closure:** The tendency for people who share connections in a social network to become connected."
   ]
  },
  {
   "cell_type": "markdown",
   "id": "847118d5-8e91-4901-a9e7-700422f5eb76",
   "metadata": {},
   "source": [
    "**Clustering Coefficient** measures the degree to which nodes in a network tend to 'cluster' or form triangles."
   ]
  },
  {
   "cell_type": "markdown",
   "id": "5c9c75ff-1e58-48a8-bb1f-396a25c65f2e",
   "metadata": {},
   "source": [
    "<br>"
   ]
  },
  {
   "cell_type": "markdown",
   "id": "cc285d8a-eb5b-4eec-9ee9-92e5f97b0313",
   "metadata": {},
   "source": [
    "How  can we measure the prevalence of triadic closure in a network?"
   ]
  },
  {
   "cell_type": "markdown",
   "id": "c4eda948-eb12-464d-a811-35e08175f48a",
   "metadata": {},
   "source": [
    "<br>"
   ]
  },
  {
   "cell_type": "code",
   "execution_count": 19,
   "id": "399ead20-aaec-4179-9052-178f83497aed",
   "metadata": {},
   "outputs": [],
   "source": [
    "import networkx as nx"
   ]
  },
  {
   "cell_type": "code",
   "execution_count": 20,
   "id": "006f3238-f2a7-4ba9-8afd-f13aecb3799c",
   "metadata": {},
   "outputs": [],
   "source": [
    "G = nx.Graph()\n",
    "G.add_edges_from([('A', 'K'), ('A', 'B'), ('A', 'C'), ('B', 'C'), ('B', 'K'), ('C', 'E'),\n",
    "                  ('C', 'F'), ('D', 'E'), ('E', 'F'), ('E', 'H'), ('F', 'G'), ('I', 'J')])"
   ]
  },
  {
   "cell_type": "markdown",
   "id": "e41b0b9e-504f-47dc-be17-815f1cc2ca54",
   "metadata": {},
   "source": [
    "## Local Clustering Coefficient"
   ]
  },
  {
   "cell_type": "markdown",
   "id": "30b6373b-329c-4c43-b2d2-dc2d4e9c1683",
   "metadata": {},
   "source": [
    "**Local clustering coefficient of a node (LCC) :** Fraction of pairs of the node's friend that are friends with each other."
   ]
  },
  {
   "cell_type": "markdown",
   "id": "fcc3c5ff-9625-4560-adba-b3b7ea35d6c7",
   "metadata": {},
   "source": [
    "$$C_i = \\frac{\\text{\\# of pairs of C's friends who are friends}}{\\text{\\# of pairs of C's friends}}$$\n"
   ]
  },
  {
   "cell_type": "markdown",
   "id": "37282b47-6714-40b8-a1e6-5c7d76409674",
   "metadata": {},
   "source": [
    "$$d = \\text{\\# C's friends}$$\n",
    "$$\\text{\\# of pairs of C's friends} = \\frac{d(d-1)}{2}$$\n"
   ]
  },
  {
   "cell_type": "markdown",
   "id": "1879d9db-9758-45e3-9ee6-2c2659d60641",
   "metadata": {},
   "source": [
    "*We will assume that the **LCC** of a node of degree less than 2 to be 0*"
   ]
  },
  {
   "cell_type": "code",
   "execution_count": 21,
   "id": "eada5742-19bd-416d-8830-a55275464981",
   "metadata": {},
   "outputs": [
    {
     "data": {
      "text/plain": [
       "{'A': 0.6666666666666666,\n",
       " 'K': 1.0,\n",
       " 'B': 0.6666666666666666,\n",
       " 'C': 0.3333333333333333,\n",
       " 'E': 0.16666666666666666,\n",
       " 'F': 0.3333333333333333,\n",
       " 'D': 0,\n",
       " 'H': 0,\n",
       " 'G': 0,\n",
       " 'I': 0,\n",
       " 'J': 0}"
      ]
     },
     "execution_count": 21,
     "metadata": {},
     "output_type": "execute_result"
    }
   ],
   "source": [
    "nx.clustering(G)"
   ]
  },
  {
   "cell_type": "code",
   "execution_count": 22,
   "id": "5eec507b-d266-4ff1-b203-dd7e8c3f3c80",
   "metadata": {},
   "outputs": [
    {
     "data": {
      "text/plain": [
       "0.3333333333333333"
      ]
     },
     "execution_count": 22,
     "metadata": {},
     "output_type": "execute_result"
    }
   ],
   "source": [
    "nx.clustering(G,'F')"
   ]
  },
  {
   "cell_type": "markdown",
   "id": "4df04949-29dc-4244-b700-89263ab309ed",
   "metadata": {},
   "source": [
    "<br>"
   ]
  },
  {
   "cell_type": "markdown",
   "id": "0c5b3552-fe71-4105-8641-90e687d31ebc",
   "metadata": {},
   "source": [
    "## Global Clustering Coefficient"
   ]
  },
  {
   "cell_type": "markdown",
   "id": "aef8ef19-b3f5-4a06-aeff-ef269e6ec8d1",
   "metadata": {},
   "source": [
    "Measuring clustering on the whole network."
   ]
  },
  {
   "cell_type": "markdown",
   "id": "de052e73-1284-4eb1-b48e-7081089ca80d",
   "metadata": {},
   "source": [
    "<br>"
   ]
  },
  {
   "cell_type": "markdown",
   "id": "d51daf6f-2dc5-4913-a5bd-36cf119a3105",
   "metadata": {},
   "source": [
    "### Average Clustering Coefficient"
   ]
  },
  {
   "cell_type": "markdown",
   "id": "f0dce59d-0271-469f-9cdc-f6067600585b",
   "metadata": {},
   "source": [
    " \n",
    "Average of all LCC of a network."
   ]
  },
  {
   "cell_type": "code",
   "execution_count": 23,
   "id": "0821763b-4a9c-444b-8d7c-ae5419fe6bb2",
   "metadata": {},
   "outputs": [
    {
     "data": {
      "text/plain": [
       "0.28787878787878785"
      ]
     },
     "execution_count": 23,
     "metadata": {},
     "output_type": "execute_result"
    }
   ],
   "source": [
    "nx.average_clustering(G)"
   ]
  },
  {
   "cell_type": "markdown",
   "id": "bc8c173d-d1d9-4aa0-8a91-affd2879eab9",
   "metadata": {},
   "source": [
    "<br>"
   ]
  },
  {
   "cell_type": "markdown",
   "id": "d0bab602-2b4a-47ac-9915-ed8bac7fbb2e",
   "metadata": {},
   "source": [
    "### Transitivity"
   ]
  },
  {
   "cell_type": "markdown",
   "id": "47798905-8cfa-4041-b8b8-34959296e7e1",
   "metadata": {},
   "source": [
    "Percentage of \"open triads\" that are triangles in a network."
   ]
  },
  {
   "cell_type": "markdown",
   "id": "389cb4cf-b9e6-4c7e-a6a5-4be356517b9a",
   "metadata": {},
   "source": [
    "$$Transitivity = \\frac{3*\\text{Number of closed triads (triangulos)}}{\\text{Number of open triads}}$$\n"
   ]
  },
  {
   "cell_type": "code",
   "execution_count": 24,
   "id": "b223b40e-836f-45e6-ab36-f2558799877c",
   "metadata": {},
   "outputs": [
    {
     "data": {
      "text/plain": [
       "0.4090909090909091"
      ]
     },
     "execution_count": 24,
     "metadata": {},
     "output_type": "execute_result"
    }
   ],
   "source": [
    "nx.transitivity(G)"
   ]
  },
  {
   "cell_type": "markdown",
   "id": "5299f2b6-a608-4d07-bd90-e12f1f310639",
   "metadata": {},
   "source": [
    "<br>"
   ]
  },
  {
   "cell_type": "markdown",
   "id": "0ecb4eb9-85f2-496e-b6d4-267899c0259f",
   "metadata": {},
   "source": [
    "### Average Clustering Coefficient x Transitivity"
   ]
  },
  {
   "cell_type": "markdown",
   "id": "12bb5969-e8ab-4554-b7ed-fbd9381c46c7",
   "metadata": {},
   "source": [
    "*Both measure the tendency for edges to form triangles.*  \n",
    "*`Transitivity` weights nodes wiuth large degree higher*"
   ]
  },
  {
   "cell_type": "markdown",
   "id": "07396743-8549-4379-a597-0907ecad9a26",
   "metadata": {},
   "source": [
    "![Texto Alternativo](graph1.jpeg)\n"
   ]
  },
  {
   "cell_type": "code",
   "execution_count": null,
   "id": "22d1658f-9d8d-4e86-94c6-a46877d3c8b6",
   "metadata": {},
   "outputs": [],
   "source": []
  }
 ],
 "metadata": {
  "kernelspec": {
   "display_name": "Python 3 (ipykernel)",
   "language": "python",
   "name": "python3"
  },
  "language_info": {
   "codemirror_mode": {
    "name": "ipython",
    "version": 3
   },
   "file_extension": ".py",
   "mimetype": "text/x-python",
   "name": "python",
   "nbconvert_exporter": "python",
   "pygments_lexer": "ipython3",
   "version": "3.11.9"
  }
 },
 "nbformat": 4,
 "nbformat_minor": 5
}
