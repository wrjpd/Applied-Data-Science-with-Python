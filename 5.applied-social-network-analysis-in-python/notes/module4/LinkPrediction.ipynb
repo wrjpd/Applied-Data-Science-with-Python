{
 "cells": [
  {
   "cell_type": "markdown",
   "id": "0c83e956-33a9-4683-9709-ef647c3e7425",
   "metadata": {},
   "source": [
    "# Link Prediction"
   ]
  },
  {
   "cell_type": "code",
   "execution_count": 23,
   "id": "c2bef9df-187f-4083-8f30-176e788df382",
   "metadata": {},
   "outputs": [],
   "source": [
    "import networkx as nx"
   ]
  },
  {
   "cell_type": "code",
   "execution_count": 24,
   "id": "da966070-3537-4cd1-8448-7427c853a2ab",
   "metadata": {},
   "outputs": [],
   "source": [
    "G =  nx.Graph()\n",
    "G.add_edges_from([('A','B'),('A','D'),('B','D'),('B','C'),\n",
    "                 ('C','D'),('A','E'),('C','F'),('E','F'),\n",
    "                 ('E','G'),('F','G'),('G','H'),('H','I')])"
   ]
  },
  {
   "cell_type": "code",
   "execution_count": 25,
   "id": "2c63eec9-9085-4ddf-a7cf-7ca2ee98928b",
   "metadata": {},
   "outputs": [
    {
     "data": {
      "image/png": "[encoded data removed]",
      "text/plain": [
       "<Figure size 640x480 with 1 Axes>"
      ]
     },
     "metadata": {},
     "output_type": "display_data"
    }
   ],
   "source": [
    "nx.draw_networkx(G)"
   ]
  },
  {
   "cell_type": "markdown",
   "id": "d1fd044c-f5c7-49d2-b7b1-fac7fd9ce144",
   "metadata": {},
   "source": [
    "`What new edges are likely to form in this network`"
   ]
  },
  {
   "cell_type": "markdown",
   "id": "d3617830-9dd9-4429-9324-4f8b352860ac",
   "metadata": {},
   "source": [
    "Given a pair of nodes, how to assess whether they are likely to connect?"
   ]
  },
  {
   "cell_type": "markdown",
   "id": "3fc75c63-82f6-41ca-b4e0-70ffc52d96ad",
   "metadata": {},
   "source": [
    "- **Number of Commong Neighbors**\n",
    "- **Jaccard Coefficient**\n",
    "- **Resource Allocation Index**\n",
    "- **Adamic-Adar Index**\n",
    "- **Preferential Attachment Score**\n",
    "- **Community Common Neighbors**\n",
    "- **Community Resource Allocation**"
   ]
  },
  {
   "cell_type": "markdown",
   "id": "c6337637-425e-4c6a-8aa2-d5575e64bc21",
   "metadata": {},
   "source": [
    "<br>"
   ]
  },
  {
   "cell_type": "markdown",
   "id": "ae4d0f9d-6301-4a80-809f-18c7ee27f58b",
   "metadata": {},
   "source": [
    "## Measure I: Common Neighbors"
   ]
  },
  {
   "cell_type": "markdown",
   "id": "46952a94-f6cd-4c60-805a-fe447a979218",
   "metadata": {},
   "source": [
    "The number of common neighbors of nodes *X* and *Y* is\n",
    "$$\n",
    "comm\\_neigh(X,Y) = |N(X) \\cap N(Y)|\n",
    "$$\n",
    "\n",
    "where N(X) is the set of neighbors of node *X*"
   ]
  },
  {
   "cell_type": "code",
   "execution_count": 26,
   "id": "3a82590c-0002-40a4-afc2-8a56a33383d8",
   "metadata": {},
   "outputs": [
    {
     "data": {
      "text/plain": [
       "[('C', 'A', 2),\n",
       " ('C', 'G', 1),\n",
       " ('C', 'E', 1),\n",
       " ('I', 'G', 1),\n",
       " ('D', 'F', 1),\n",
       " ('D', 'E', 1),\n",
       " ('G', 'A', 1),\n",
       " ('H', 'F', 1),\n",
       " ('H', 'E', 1),\n",
       " ('A', 'F', 1),\n",
       " ('E', 'B', 1),\n",
       " ('F', 'B', 1),\n",
       " ('C', 'I', 0),\n",
       " ('C', 'H', 0),\n",
       " ('I', 'D', 0),\n",
       " ('I', 'A', 0),\n",
       " ('I', 'E', 0),\n",
       " ('I', 'F', 0),\n",
       " ('I', 'B', 0),\n",
       " ('D', 'H', 0),\n",
       " ('D', 'G', 0),\n",
       " ('G', 'B', 0),\n",
       " ('H', 'B', 0),\n",
       " ('H', 'A', 0)]"
      ]
     },
     "execution_count": 26,
     "metadata": {},
     "output_type": "execute_result"
    }
   ],
   "source": [
    "common_neigh = [(e[0],e[1], len(list(nx.common_neighbors(G,e[0],e[1])))) for e in nx.non_edges(G)]\n",
    "sorted(common_neigh,key = lambda x:x[2],reverse=True)"
   ]
  },
  {
   "cell_type": "markdown",
   "id": "68a52f63-98fa-4f7d-831e-534434ffa5e3",
   "metadata": {},
   "source": [
    "<br>"
   ]
  },
  {
   "cell_type": "markdown",
   "id": "ee639b1d-6486-4984-a9f4-a79277ec73fd",
   "metadata": {},
   "source": [
    "## Measure II: Jaccard Coefficient"
   ]
  },
  {
   "cell_type": "markdown",
   "id": "35dcb63d-e585-4ada-ab37-ece943b6a3d9",
   "metadata": {},
   "source": [
    "Number of common neighbors normalized byt the total number of neighbors."
   ]
  },
  {
   "cell_type": "markdown",
   "id": "f0e31d69-871c-4571-be19-c63325890972",
   "metadata": {},
   "source": [
    "The Jaccard coefficient of nodes *X* and *Y* is\n",
    "$$\n",
    "jacc\\_coeff(X,Y) = \\frac{|N(X) \\bigcap N(Y)|}{|N(X)\\bigcup N(Y)|}\n",
    "$$"
   ]
  },
  {
   "cell_type": "code",
   "execution_count": 27,
   "id": "dc31ed7c-ddea-4dc9-bfb5-06f03ca8b72d",
   "metadata": {},
   "outputs": [
    {
     "data": {
      "text/plain": [
       "[('C', 'A', 0.5),\n",
       " ('I', 'G', 0.3333333333333333),\n",
       " ('H', 'F', 0.25),\n",
       " ('H', 'E', 0.25),\n",
       " ('C', 'G', 0.2),\n",
       " ('C', 'E', 0.2),\n",
       " ('D', 'F', 0.2),\n",
       " ('D', 'E', 0.2),\n",
       " ('G', 'A', 0.2),\n",
       " ('A', 'F', 0.2),\n",
       " ('E', 'B', 0.2),\n",
       " ('F', 'B', 0.2),\n",
       " ('C', 'I', 0.0),\n",
       " ('C', 'H', 0.0),\n",
       " ('I', 'D', 0.0),\n",
       " ('I', 'A', 0.0),\n",
       " ('I', 'E', 0.0),\n",
       " ('I', 'F', 0.0),\n",
       " ('I', 'B', 0.0),\n",
       " ('D', 'H', 0.0),\n",
       " ('D', 'G', 0.0),\n",
       " ('G', 'B', 0.0),\n",
       " ('H', 'B', 0.0),\n",
       " ('H', 'A', 0.0)]"
      ]
     },
     "execution_count": 27,
     "metadata": {},
     "output_type": "execute_result"
    }
   ],
   "source": [
    "jc=nx.jaccard_coefficient(G)\n",
    "sorted(jc,reverse=True,key=lambda x:x[2])"
   ]
  },
  {
   "cell_type": "markdown",
   "id": "0328ed28-fb97-4025-a282-0fc8c04d2a07",
   "metadata": {},
   "source": [
    "<br>"
   ]
  },
  {
   "cell_type": "markdown",
   "id": "99d44aa2-fa20-4733-8cf4-7009c215e449",
   "metadata": {},
   "source": [
    "## Measure III: Resource Allocation"
   ]
  },
  {
   "cell_type": "markdown",
   "id": "6d994651-5260-45b9-85ea-0c516ab60b4d",
   "metadata": {},
   "source": [
    "Fraction of a \"resource\" that a node can send to another through their common neighbors."
   ]
  },
  {
   "cell_type": "markdown",
   "id": "1a3fe1a4-100a-41af-9197-a1c1076b396a",
   "metadata": {},
   "source": [
    "The Resource Allocation index of nodes *X* and *Y* is\n",
    "$$\n",
    "res\\_alloc(X,Y)=\\sum_{u \\in N(X) \\cap N(Y)}{\\frac{1}{|N(u)|}}\n",
    "$$\n",
    "\n",
    "where |N(u)| is the degree of node u."
   ]
  },
  {
   "cell_type": "code",
   "execution_count": 28,
   "id": "73c9a7b5-2a62-470a-a970-a76da19f676c",
   "metadata": {},
   "outputs": [
    {
     "data": {
      "text/plain": [
       "[('C', 'A', 0.6666666666666666),\n",
       " ('I', 'G', 0.5),\n",
       " ('C', 'G', 0.3333333333333333),\n",
       " ('C', 'E', 0.3333333333333333),\n",
       " ('D', 'F', 0.3333333333333333),\n",
       " ('D', 'E', 0.3333333333333333),\n",
       " ('G', 'A', 0.3333333333333333),\n",
       " ('H', 'F', 0.3333333333333333),\n",
       " ('H', 'E', 0.3333333333333333),\n",
       " ('A', 'F', 0.3333333333333333),\n",
       " ('E', 'B', 0.3333333333333333),\n",
       " ('F', 'B', 0.3333333333333333),\n",
       " ('C', 'I', 0),\n",
       " ('C', 'H', 0),\n",
       " ('I', 'D', 0),\n",
       " ('I', 'A', 0),\n",
       " ('I', 'E', 0),\n",
       " ('I', 'F', 0),\n",
       " ('I', 'B', 0),\n",
       " ('D', 'H', 0),\n",
       " ('D', 'G', 0),\n",
       " ('G', 'B', 0),\n",
       " ('H', 'B', 0),\n",
       " ('H', 'A', 0)]"
      ]
     },
     "execution_count": 28,
     "metadata": {},
     "output_type": "execute_result"
    }
   ],
   "source": [
    "ra = nx.resource_allocation_index(G)\n",
    "sorted(ra,reverse=True,key=lambda x :x[2])"
   ]
  },
  {
   "cell_type": "markdown",
   "id": "434076d0-e3af-4c3e-a0c0-bb0aafbc6ae2",
   "metadata": {},
   "source": [
    "<br>"
   ]
  },
  {
   "cell_type": "markdown",
   "id": "89119a2e-88da-4640-af33-30d92bdfcc3a",
   "metadata": {},
   "source": [
    "## Measure IV: Adamic-Adar Index"
   ]
  },
  {
   "cell_type": "markdown",
   "id": "49ec8c10-8d1e-457d-8fda-ac77f51e1218",
   "metadata": {},
   "source": [
    "Similar to resource allocation index, but with log in the denominator."
   ]
  },
  {
   "cell_type": "markdown",
   "id": "5616477a-6926-4b3d-8aa4-9809c2f2eac5",
   "metadata": {},
   "source": [
    "The Adamic-Adar index of nodes *X* and *Y* is\n",
    "$$\n",
    "adamic\\_addar(X,Y)=\\sum_{u \\in N(X) \\cap N(Y)}{\\frac{1}{log(|N(u)|)}}\n",
    "$$"
   ]
  },
  {
   "cell_type": "markdown",
   "id": "4ca015dd-7238-45c3-9ccc-096450364f40",
   "metadata": {},
   "source": [
    "<br>"
   ]
  },
  {
   "cell_type": "markdown",
   "id": "233be04f-8450-4b8e-809d-fce8c109ca36",
   "metadata": {},
   "source": [
    "## Measure V: Preferential Attachment"
   ]
  },
  {
   "cell_type": "markdown",
   "id": "b3a112fd-9af4-4631-957f-9753ace0ad46",
   "metadata": {},
   "source": [
    "In the preferential attachment model, nodes with high degree get more neighbors."
   ]
  },
  {
   "cell_type": "markdown",
   "id": "9a859a39-6512-462d-b3e8-ef27f26cea8f",
   "metadata": {},
   "source": [
    "The preferential attachment score of nodes *X* and *Y* is the product of node's degree\n",
    "$$\n",
    "pref\\_attach(X,Y) = |N(X)||N(Y)|\n",
    "$$"
   ]
  },
  {
   "cell_type": "code",
   "execution_count": 29,
   "id": "1c2634d3-070d-42b1-8865-687d9b876592",
   "metadata": {},
   "outputs": [
    {
     "data": {
      "text/plain": [
       "[('C', 'G', 9),\n",
       " ('C', 'A', 9),\n",
       " ('C', 'E', 9),\n",
       " ('D', 'F', 9),\n",
       " ('D', 'E', 9),\n",
       " ('D', 'G', 9),\n",
       " ('G', 'B', 9),\n",
       " ('G', 'A', 9),\n",
       " ('A', 'F', 9),\n",
       " ('E', 'B', 9),\n",
       " ('F', 'B', 9),\n",
       " ('C', 'H', 6),\n",
       " ('D', 'H', 6),\n",
       " ('H', 'F', 6),\n",
       " ('H', 'E', 6),\n",
       " ('H', 'B', 6),\n",
       " ('H', 'A', 6),\n",
       " ('C', 'I', 3),\n",
       " ('I', 'D', 3),\n",
       " ('I', 'G', 3),\n",
       " ('I', 'A', 3),\n",
       " ('I', 'E', 3),\n",
       " ('I', 'F', 3),\n",
       " ('I', 'B', 3)]"
      ]
     },
     "execution_count": 29,
     "metadata": {},
     "output_type": "execute_result"
    }
   ],
   "source": [
    "pa = nx.preferential_attachment(G)\n",
    "sorted(pa,reverse=True,key=lambda x:x[2])"
   ]
  },
  {
   "cell_type": "markdown",
   "id": "fdb2b592-bad5-4ac1-b5c7-e517b9b3bbfe",
   "metadata": {},
   "source": [
    "<br>"
   ]
  },
  {
   "cell_type": "markdown",
   "id": "5d79773a-6a20-448a-aa38-030ba6091d8b",
   "metadata": {},
   "source": [
    "## Community Structure"
   ]
  },
  {
   "cell_type": "markdown",
   "id": "551ad7a5-955b-4d69-9263-783ba8443062",
   "metadata": {},
   "source": [
    "Some measures consider the community structure of the network for link prediction.  \n",
    "Assumt he nodes in this network belong to different communities (set of nodes)."
   ]
  },
  {
   "cell_type": "markdown",
   "id": "f9160c4b-35a0-4339-94c4-b19c5b08ff40",
   "metadata": {},
   "source": [
    "A,B,C,D belongs to community1  \n",
    "E,F,G,H,I belongs to community 2"
   ]
  },
  {
   "cell_type": "markdown",
   "id": "4a325b31-7850-42bc-9883-45b64a6cdf0b",
   "metadata": {},
   "source": [
    "Pairs of nodes who belongs to the same community and have many common neighbors in their community are likely to form an edge."
   ]
  },
  {
   "cell_type": "code",
   "execution_count": 30,
   "id": "2f7d060c-478a-4db8-bc2b-3dab74958617",
   "metadata": {},
   "outputs": [],
   "source": [
    "G.nodes['A']['community'] = 0\n",
    "G.nodes['B']['community'] = 0\n",
    "G.nodes['C']['community'] = 0\n",
    "G.nodes['D']['community'] = 0\n",
    "G.nodes['E']['community'] = 1\n",
    "G.nodes['F']['community'] = 1\n",
    "G.nodes['G']['community'] = 1\n",
    "G.nodes['H']['community'] = 1\n",
    "G.nodes['I']['community'] = 1"
   ]
  },
  {
   "cell_type": "markdown",
   "id": "133691ba-57e1-4ee9-b5dc-22ac9c329290",
   "metadata": {},
   "source": [
    "<br>"
   ]
  },
  {
   "cell_type": "markdown",
   "id": "b5c98539-f151-4fa0-a554-bff3ed8ce7af",
   "metadata": {},
   "source": [
    "## Measure VI: Community Common Neighbors"
   ]
  },
  {
   "cell_type": "markdown",
   "id": "a6018c1b-f07d-4466-9e68-d2494f5ffaba",
   "metadata": {},
   "source": [
    "Number of common neighbors with bonus for neighbors in same community."
   ]
  },
  {
   "cell_type": "markdown",
   "id": "601d26a8-1239-4380-b345-619e9e3cf508",
   "metadata": {},
   "source": [
    "The Common Neighbor Soundarajan-Hopcroft score of nodes *X* and *Y* is\n",
    "$$\n",
    "cn\\_soundarajan\\_hopcroft(X,Y) = |N(X) \\cap N(Y)| + \\sum_{u \\in N(X)\\cup N(Y)}{f(u)}\n",
    "$$\n",
    "\n",
    "where\n",
    "\n",
    "$$\n",
    "f(u) = \\begin{cases}\n",
    "1 & \\text{, u in same community as X and Y } \\\\\n",
    "0 & \\text{otherwise}\n",
    "\\end{cases}\n",
    "$$"
   ]
  },
  {
   "cell_type": "code",
   "execution_count": 31,
   "id": "6750c0dc-f385-4c95-aef8-8e2f544c94de",
   "metadata": {},
   "outputs": [],
   "source": [
    "L = list(nx.cn_soundarajan_hopcroft(G))"
   ]
  },
  {
   "cell_type": "code",
   "execution_count": 32,
   "id": "f5942644-771c-4d47-89a6-0bca41ff3956",
   "metadata": {},
   "outputs": [
    {
     "data": {
      "text/plain": [
       "[('C', 'A', 4),\n",
       " ('I', 'G', 2),\n",
       " ('H', 'F', 2),\n",
       " ('H', 'E', 2),\n",
       " ('C', 'G', 1),\n",
       " ('C', 'E', 1),\n",
       " ('D', 'F', 1),\n",
       " ('D', 'E', 1),\n",
       " ('G', 'A', 1),\n",
       " ('A', 'F', 1),\n",
       " ('E', 'B', 1),\n",
       " ('F', 'B', 1),\n",
       " ('C', 'I', 0),\n",
       " ('C', 'H', 0),\n",
       " ('I', 'D', 0),\n",
       " ('I', 'A', 0),\n",
       " ('I', 'E', 0),\n",
       " ('I', 'F', 0),\n",
       " ('I', 'B', 0),\n",
       " ('D', 'H', 0),\n",
       " ('D', 'G', 0),\n",
       " ('G', 'B', 0),\n",
       " ('H', 'B', 0),\n",
       " ('H', 'A', 0)]"
      ]
     },
     "execution_count": 32,
     "metadata": {},
     "output_type": "execute_result"
    }
   ],
   "source": [
    "sorted(L,key=lambda x:x[2],reverse=True)"
   ]
  },
  {
   "cell_type": "markdown",
   "id": "cbaa6f19-5fab-40aa-b5a8-724ecf308014",
   "metadata": {},
   "source": [
    "<br>"
   ]
  },
  {
   "cell_type": "markdown",
   "id": "c9d60eef-8181-4806-9c3d-9d47e0fb3c33",
   "metadata": {},
   "source": [
    "## Measure VII: Community Resource Allocation"
   ]
  },
  {
   "cell_type": "markdown",
   "id": "60c314bf-ef48-4cba-ae2c-925531ec2d92",
   "metadata": {},
   "source": [
    "Similar to resource allocation index, but only considering nodes in the same community."
   ]
  },
  {
   "cell_type": "markdown",
   "id": "44edd542-d6fc-4967-a6c7-593e183c503e",
   "metadata": {},
   "source": [
    "The Resource Allocation Soundarajan-Hopcroft score of node *X* and *Y* is\n",
    "$$\n",
    "ra\\_soundarajan\\_hopcroft(X,Y)=\\sum_{u \\in N(X) \\cap N(Y)}{\\frac{f(u)}{|N(u)|}}\n",
    "$$\n",
    "where\n",
    "\n",
    "$$\n",
    "f(u) = \\begin{cases}\n",
    "1 & \\text{, u in same community as X and Y } \\\\\n",
    "0 & \\text{otherwise}\n",
    "\\end{cases}\n",
    "$$"
   ]
  },
  {
   "cell_type": "code",
   "execution_count": 33,
   "id": "b0aa0c6b-b753-4d38-8fbd-3e800215e906",
   "metadata": {},
   "outputs": [
    {
     "data": {
      "text/plain": [
       "[('C', 'A', 0.6666666666666666),\n",
       " ('I', 'G', 0.5),\n",
       " ('H', 'F', 0.3333333333333333),\n",
       " ('H', 'E', 0.3333333333333333),\n",
       " ('C', 'I', 0),\n",
       " ('C', 'G', 0),\n",
       " ('C', 'E', 0),\n",
       " ('C', 'H', 0),\n",
       " ('I', 'D', 0),\n",
       " ('I', 'A', 0),\n",
       " ('I', 'E', 0),\n",
       " ('I', 'F', 0),\n",
       " ('I', 'B', 0),\n",
       " ('D', 'F', 0),\n",
       " ('D', 'E', 0),\n",
       " ('D', 'H', 0),\n",
       " ('D', 'G', 0),\n",
       " ('G', 'B', 0),\n",
       " ('G', 'A', 0),\n",
       " ('H', 'B', 0),\n",
       " ('H', 'A', 0),\n",
       " ('A', 'F', 0),\n",
       " ('E', 'B', 0),\n",
       " ('F', 'B', 0)]"
      ]
     },
     "execution_count": 33,
     "metadata": {},
     "output_type": "execute_result"
    }
   ],
   "source": [
    "cra = nx.ra_index_soundarajan_hopcroft(G)\n",
    "sorted(cra,key=lambda x:x[2],reverse=True)"
   ]
  },
  {
   "cell_type": "code",
   "execution_count": null,
   "id": "4ae2ccfb-17db-48d8-b691-fee32fa29010",
   "metadata": {},
   "outputs": [],
   "source": []
  },
  {
   "cell_type": "code",
   "execution_count": 46,
   "id": "5de11b58-442c-4066-ac80-63255fc79bc3",
   "metadata": {},
   "outputs": [],
   "source": [
    "G=nx.Graph()\n",
    "G.add_edges_from([('A','F'),('F','E'),('E','D'),('D','B'),('B','A'),\n",
    "                     ('C','A'),('C','F'),('C','E'),('C','B'),('B','E')])\n"
   ]
  },
  {
   "cell_type": "code",
   "execution_count": 44,
   "id": "610880c7-c697-4824-96c7-64f46d33415f",
   "metadata": {},
   "outputs": [
    {
     "data": {
      "text/plain": [
       "[('C', 'D', 0.8333333333333333),\n",
       " ('G', 'A', 0.7),\n",
       " ('E', 'F', 0.3333333333333333),\n",
       " ('G', 'B', 0.2),\n",
       " ('A', 'B', 0.2),\n",
       " ('C', 'H', 0),\n",
       " ('C', 'E', 0),\n",
       " ('C', 'F', 0),\n",
       " ('C', 'B', 0),\n",
       " ('D', 'F', 0),\n",
       " ('G', 'H', 0),\n",
       " ('G', 'E', 0),\n",
       " ('G', 'F', 0),\n",
       " ('H', 'B', 0),\n",
       " ('H', 'A', 0),\n",
       " ('A', 'F', 0),\n",
       " ('E', 'B', 0),\n",
       " ('F', 'B', 0)]"
      ]
     },
     "execution_count": 44,
     "metadata": {},
     "output_type": "execute_result"
    }
   ],
   "source": [
    "sorted(nx.ra_index_soundarajan_hopcroft(G),key=lambda x:x[2],reverse=True)"
   ]
  },
  {
   "cell_type": "code",
   "execution_count": 43,
   "id": "91794404-e61c-4b3f-a5f2-8a479162fe7d",
   "metadata": {},
   "outputs": [
    {
     "data": {
      "text/plain": [
       "[('C', 'D', 4),\n",
       " ('G', 'A', 4),\n",
       " ('G', 'B', 2),\n",
       " ('H', 'A', 2),\n",
       " ('A', 'B', 2),\n",
       " ('E', 'F', 2),\n",
       " ('C', 'E', 1),\n",
       " ('D', 'F', 1),\n",
       " ('G', 'H', 1),\n",
       " ('G', 'E', 1),\n",
       " ('H', 'B', 1),\n",
       " ('E', 'B', 1),\n",
       " ('C', 'H', 0),\n",
       " ('C', 'F', 0),\n",
       " ('C', 'B', 0),\n",
       " ('G', 'F', 0),\n",
       " ('A', 'F', 0),\n",
       " ('F', 'B', 0)]"
      ]
     },
     "execution_count": 43,
     "metadata": {},
     "output_type": "execute_result"
    }
   ],
   "source": [
    "sorted(nx.cn_soundarajan_hopcroft(G),key=lambda x:x[2],reverse=True)"
   ]
  },
  {
   "cell_type": "code",
   "execution_count": null,
   "id": "b717077f-f0c8-4d1e-9c52-ee2ffb999ac9",
   "metadata": {},
   "outputs": [],
   "source": []
  }
 ],
 "metadata": {
  "kernelspec": {
   "display_name": "Python 3 (ipykernel)",
   "language": "python",
   "name": "python3"
  },
  "language_info": {
   "codemirror_mode": {
    "name": "ipython",
    "version": 3
   },
   "file_extension": ".py",
   "mimetype": "text/x-python",
   "name": "python",
   "nbconvert_exporter": "python",
   "pygments_lexer": "ipython3",
   "version": "3.11.9"
  }
 },
 "nbformat": 4,
 "nbformat_minor": 5
}
