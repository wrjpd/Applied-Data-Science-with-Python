{
 "cells": [
  {
   "cell_type": "markdown",
   "id": "a2564aa2-e36f-4127-8ec4-356bfa63c81b",
   "metadata": {},
   "source": [
    "# Small World Networks"
   ]
  },
  {
   "cell_type": "markdown",
   "id": "7c89f2ed-37c0-47e3-ac93-dc166fb80cda",
   "metadata": {},
   "source": [
    "Set up:  \n",
    "\n",
    "- 296 randomly chosen \"starters\" asked to forward a letter to a target person.\n",
    "- Target was a stockbroker in Boston.\n",
    "- Instructions for starter:\n",
    "    - Send letter to target if you know him on a first name basis.\n",
    "    - If you dot know target, send letter (and instructions) to someone you know on a first name basis who is more likely to know the target."
   ]
  },
  {
   "cell_type": "markdown",
   "id": "c6cadd88-264f-4d2b-a9ee-399ff5e1204f",
   "metadata": {},
   "source": [
    "Results:\n",
    "- 64 out of the 296 letters reached the target\n",
    "- Median chain length was 6 (consistent with the phrase \"six degrees of separation\")"
   ]
  },
  {
   "cell_type": "markdown",
   "id": "93b59ecd-d1a6-4ba4-b572-a5cf9985182b",
   "metadata": {},
   "source": [
    "<br>"
   ]
  },
  {
   "cell_type": "markdown",
   "id": "5caab952-031a-4236-8335-1a3c3d8ccba1",
   "metadata": {},
   "source": [
    "## Path Lenght and Clustering"
   ]
  },
  {
   "cell_type": "markdown",
   "id": "e22c64eb-2e39-47ae-9a45-54249be8ad14",
   "metadata": {},
   "source": [
    "Social networks tend to have `high clustering coefficient` and `small average path length.`"
   ]
  },
  {
   "cell_type": "markdown",
   "id": "be420fa4-f13a-4d65-9b96-0b46d8d29b29",
   "metadata": {},
   "source": [
    "<br>"
   ]
  },
  {
   "cell_type": "markdown",
   "id": "ff978bcb-432e-4c2d-bb4c-792a7fb1d9d6",
   "metadata": {},
   "source": [
    "## Small World Model"
   ]
  },
  {
   "cell_type": "markdown",
   "id": "54956940-9e93-4223-a842-c5ecc992d8ea",
   "metadata": {},
   "source": [
    "**Motivation:** Real networks exhibit clustering coefficient and small average shortest paths. Can we think of a model that achieves both os these properties?"
   ]
  },
  {
   "cell_type": "markdown",
   "id": "9df2aa2c-9144-4c1d-a444-d6a1f1f67583",
   "metadata": {},
   "source": [
    "Small world model:\n",
    "\n",
    "- Start with a ring of *n* nodes, where each node is connected to its *k* neighbors.\n",
    "- Fix a parameter *p* $\\in$ [0,1]\n",
    "- Consider each edge (*u*,*v*). With probability *p*, select a node *w* at random and rewire the edge (*u*,*v*) so it becomes (*u*,*w*)."
   ]
  },
  {
   "cell_type": "markdown",
   "id": "130e987e-2920-4ebd-8f00-7f717ef7633a",
   "metadata": {},
   "source": [
    "**Regular Lattice (p=0):** no edge is rewired.  \n",
    "**Random Network (p=1):** all edges are rewired.  \n",
    "**Small World Network (0 < p < 1):** Some edges are rewired. Network conserves some local structure but has some randomness."
   ]
  },
  {
   "cell_type": "markdown",
   "id": "ff34008b-926c-4420-ab96-7ff8355015db",
   "metadata": {},
   "source": [
    "As *p* increases from 0 to 0.1:\n",
    "- average shortest path decreases rapidly.\n",
    "- average clustering coefficient decreases slowly"
   ]
  },
  {
   "cell_type": "markdown",
   "id": "23a28083-1941-4783-89bb-094131fb4ed5",
   "metadata": {},
   "source": [
    "<br>"
   ]
  },
  {
   "cell_type": "markdown",
   "id": "e91e785c-2923-4699-b2c3-1c9bdfcb302a",
   "metadata": {},
   "source": [
    "watts_strogatz_graph(n,k,p) returns a small world network with *n* nodes, starting with a ring lattice with each node connected to its *k* nearest neighbors, and rewiring probability *p*."
   ]
  },
  {
   "cell_type": "code",
   "execution_count": 4,
   "id": "fe6b0a7f-32c1-46c4-b82c-9db0222eb89f",
   "metadata": {},
   "outputs": [],
   "source": [
    "import networkx as nx"
   ]
  },
  {
   "cell_type": "code",
   "execution_count": 6,
   "id": "74c6005f-65ce-40d1-b2ac-c7f59c1dea12",
   "metadata": {},
   "outputs": [],
   "source": [
    "S = nx.watts_strogatz_graph(1000,6,0.04)"
   ]
  },
  {
   "cell_type": "markdown",
   "id": "a64aca33-4ddb-4180-a031-4ab18949cdd4",
   "metadata": {},
   "source": [
    "<br>"
   ]
  },
  {
   "cell_type": "markdown",
   "id": "f65ea938-86df-48b5-9abb-e560345f236b",
   "metadata": {},
   "source": [
    "`Degree Distribution of Small world model doesn't follow a Power Law`"
   ]
  },
  {
   "cell_type": "code",
   "execution_count": 7,
   "id": "435ff37c-4fd1-45ac-b080-e90b50261004",
   "metadata": {},
   "outputs": [
    {
     "data": {
      "image/png": "[encoded data removed]",
      "text/plain": [
       "<Figure size 640x480 with 1 Axes>"
      ]
     },
     "metadata": {},
     "output_type": "display_data"
    }
   ],
   "source": [
    "degrees = dict(S.degree())\n",
    "degree_values = sorted(set(degrees.values()))\n",
    "\n",
    "histogram = [list(degrees.values()).count(i)/float(nx.number_of_nodes(S)) for i in degree_values]\n",
    "\n",
    "import matplotlib.pyplot as plt\n",
    "plt.bar(degree_values,histogram)\n",
    "plt.xlabel('Degree')\n",
    "plt.ylabel('Fraction of Nodes')\n",
    "plt.show()"
   ]
  },
  {
   "cell_type": "markdown",
   "id": "6747f490-93ce-4953-af26-293443b278de",
   "metadata": {},
   "source": [
    "<br>"
   ]
  },
  {
   "cell_type": "code",
   "execution_count": null,
   "id": "afe9f048-b12c-4af9-8294-f87f10fea77f",
   "metadata": {},
   "outputs": [],
   "source": []
  }
 ],
 "metadata": {
  "kernelspec": {
   "display_name": "Python 3 (ipykernel)",
   "language": "python",
   "name": "python3"
  },
  "language_info": {
   "codemirror_mode": {
    "name": "ipython",
    "version": 3
   },
   "file_extension": ".py",
   "mimetype": "text/x-python",
   "name": "python",
   "nbconvert_exporter": "python",
   "pygments_lexer": "ipython3",
   "version": "3.11.9"
  }
 },
 "nbformat": 4,
 "nbformat_minor": 5
}
