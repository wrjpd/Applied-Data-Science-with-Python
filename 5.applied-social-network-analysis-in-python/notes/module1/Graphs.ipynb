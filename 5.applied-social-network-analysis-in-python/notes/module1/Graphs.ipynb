{
 "cells": [
  {
   "cell_type": "markdown",
   "id": "8564605f-a078-4b03-9abc-444d18676748",
   "metadata": {},
   "source": [
    "# Network Definition and Vocabulary"
   ]
  },
  {
   "cell_type": "markdown",
   "id": "bd9ecbfe-8adb-4b5b-8d30-ec8f54fefda9",
   "metadata": {},
   "source": [
    "Netowrk (or Graph) is a representation of connections among a set of items.  \n",
    "- Items are called **nodes** (or vertices)\n",
    "- Connections are called **edges** (or links or ties)"
   ]
  },
  {
   "cell_type": "markdown",
   "id": "3bf709fc-031a-4b19-92e1-74fe33b06b65",
   "metadata": {},
   "source": [
    "Example:\n",
    "- **Nodes:** People\n",
    "- **Edges:** Friendship, marital, or familys ties"
   ]
  },
  {
   "cell_type": "code",
   "execution_count": 8,
   "id": "3dba7028-1a26-4a3c-a951-5cb1c11c945d",
   "metadata": {},
   "outputs": [],
   "source": [
    "import networkx as nx"
   ]
  },
  {
   "cell_type": "markdown",
   "id": "5f9e77c8-a7f0-48b2-b6e3-f9f5cf44c7ee",
   "metadata": {},
   "source": [
    "<br>"
   ]
  },
  {
   "cell_type": "markdown",
   "id": "af94ac17-7179-410d-9ff7-fbdc38dacdc7",
   "metadata": {},
   "source": [
    "## Network (Graph)"
   ]
  },
  {
   "cell_type": "markdown",
   "id": "d5bca0e2-c9eb-47b4-8530-5a1ca55556b1",
   "metadata": {},
   "source": [
    "### Undirected Network"
   ]
  },
  {
   "cell_type": "markdown",
   "id": "0197ba02-9a2a-4764-a253-e48f6efcf316",
   "metadata": {},
   "source": [
    "- Edges have no direction (symmmetric relations)"
   ]
  },
  {
   "cell_type": "code",
   "execution_count": 12,
   "id": "272a7cec-f0ea-4575-b62d-240d624a63e3",
   "metadata": {},
   "outputs": [],
   "source": [
    "G = nx.Graph()\n",
    "G.add_edge('A','B')\n",
    "G.add_edge('B','C')"
   ]
  },
  {
   "cell_type": "markdown",
   "id": "e140fbc4-e920-4a8c-8b93-c56e15b8bb3c",
   "metadata": {},
   "source": [
    "\n",
    "### Directed Network"
   ]
  },
  {
   "cell_type": "markdown",
   "id": "44572e76-b058-46ac-97ed-0593739e2e70",
   "metadata": {},
   "source": [
    "- Edges have direction (assymmetric relations)"
   ]
  },
  {
   "cell_type": "code",
   "execution_count": 13,
   "id": "89a39e40-6027-4a62-81a4-31d82278822c",
   "metadata": {},
   "outputs": [],
   "source": [
    "G = nx.DiGraph()\n",
    "G.add_edge('B','A') # A ordem importa"
   ]
  },
  {
   "cell_type": "markdown",
   "id": "27592fc2-64a5-4ce1-afa7-b57bbd345aee",
   "metadata": {},
   "source": [
    "### Weighted Networks"
   ]
  },
  {
   "cell_type": "markdown",
   "id": "1eba4397-9015-4576-91b0-275f8d3818f8",
   "metadata": {},
   "source": [
    "- Not all relationships are equal\n",
    "- Some edges cary higher weight than others."
   ]
  },
  {
   "cell_type": "code",
   "execution_count": 15,
   "id": "9d5748f8-0e9f-4edf-8362-3b199ada6a04",
   "metadata": {},
   "outputs": [],
   "source": [
    "G = nx.Graph()\n",
    "G.add_edge('A','B',weight=6)\n",
    "G.add_edge('B','C',weight=13)"
   ]
  },
  {
   "cell_type": "markdown",
   "id": "9ef00b12-489a-49c4-ba2c-3c5e4ef15419",
   "metadata": {},
   "source": [
    "### Signed Networks"
   ]
  },
  {
   "cell_type": "markdown",
   "id": "9cd7c9f0-8e5b-43bd-9558-ad8171dd219a",
   "metadata": {},
   "source": [
    "- A network where edges are assigned positive or negative sign.\n",
    "- Some networks can carry information about friendship and antagonism based on conflict or disagreement.\n"
   ]
  },
  {
   "cell_type": "code",
   "execution_count": 17,
   "id": "e7cba857-7ac4-4403-9fc7-2de46336fc26",
   "metadata": {},
   "outputs": [],
   "source": [
    "G =nx.Graph()\n",
    "G.add_edge('A','B',sign='+')\n",
    "G.add_edge('B','C',sign='-')"
   ]
  },
  {
   "cell_type": "markdown",
   "id": "4c0eb934-8347-437b-85a3-c0c7d872602d",
   "metadata": {},
   "source": [
    "### Other Edge Attributes"
   ]
  },
  {
   "cell_type": "markdown",
   "id": "a3f6eee1-a0e6-4935-975e-1c809bb86958",
   "metadata": {},
   "source": [
    "- Edges can carry many other labels or attributes"
   ]
  },
  {
   "cell_type": "code",
   "execution_count": 19,
   "id": "89134ded-724c-4955-98d3-f120193f82cd",
   "metadata": {},
   "outputs": [],
   "source": [
    "G = nx.Graph()\n",
    "G.add_edge('A','B',relation='friend')\n",
    "G.add_edge('B','C',relation='coworker')\n",
    "G.add_edge('D','E',relation='family')"
   ]
  },
  {
   "cell_type": "markdown",
   "id": "872b2491-640a-495a-bf4b-81eb1a0099c7",
   "metadata": {},
   "source": [
    "<br>"
   ]
  },
  {
   "cell_type": "markdown",
   "id": "6eae7795-2ad2-4102-a3bc-3b5c097fcd0f",
   "metadata": {},
   "source": [
    "## Multigraphs"
   ]
  },
  {
   "cell_type": "markdown",
   "id": "9f904033-08cc-4987-aa82-36f1728258e4",
   "metadata": {},
   "source": [
    "A pair of nodes can have different types of relationships simultaneously.  \n",
    "**Multigraph:** A network where multiples edges can connect the same nodes (parallel edges)."
   ]
  },
  {
   "cell_type": "markdown",
   "id": "eafe00e5-3b98-4c72-b9f2-fa53e6e50667",
   "metadata": {},
   "source": [
    "### Undirected MultiGraphs"
   ]
  },
  {
   "cell_type": "code",
   "execution_count": 22,
   "id": "dfc6521f-fc10-4b82-8da9-bd25d89948ca",
   "metadata": {},
   "outputs": [
    {
     "data": {
      "text/plain": [
       "1"
      ]
     },
     "execution_count": 22,
     "metadata": {},
     "output_type": "execute_result"
    }
   ],
   "source": [
    "G = nx.MultiGraph()\n",
    "G.add_edge('A','B',relation='friend')\n",
    "G.add_edge('A','B',relation='neighbor')"
   ]
  },
  {
   "cell_type": "markdown",
   "id": "68dbc37d-5391-43df-b3ac-fb650a7b41b1",
   "metadata": {},
   "source": [
    "<br>\n"
   ]
  },
  {
   "cell_type": "markdown",
   "id": "8cb047bb-876b-4263-9191-0d8867331170",
   "metadata": {},
   "source": [
    "### Directed MultiGraph"
   ]
  },
  {
   "cell_type": "code",
   "execution_count": 23,
   "id": "5a659b11-cb4f-4c0e-bf8e-3eebd00ecf9b",
   "metadata": {},
   "outputs": [
    {
     "data": {
      "text/plain": [
       "0"
      ]
     },
     "execution_count": 23,
     "metadata": {},
     "output_type": "execute_result"
    }
   ],
   "source": [
    "G = nx.MultiDiGraph()\n",
    "G.add_edge('A','B',weight = 6,realtion='family')\n",
    "G.add_edge('A','B',weight = 18,realtion='friend')\n",
    "G.add_edge('C','B',weight = 13,realtion='friend')"
   ]
  },
  {
   "cell_type": "code",
   "execution_count": null,
   "id": "e5e88863-b7f2-45ab-a974-19fd34547977",
   "metadata": {},
   "outputs": [],
   "source": []
  }
 ],
 "metadata": {
  "kernelspec": {
   "display_name": "Python 3 (ipykernel)",
   "language": "python",
   "name": "python3"
  },
  "language_info": {
   "codemirror_mode": {
    "name": "ipython",
    "version": 3
   },
   "file_extension": ".py",
   "mimetype": "text/x-python",
   "name": "python",
   "nbconvert_exporter": "python",
   "pygments_lexer": "ipython3",
   "version": "3.11.9"
  }
 },
 "nbformat": 4,
 "nbformat_minor": 5
}
