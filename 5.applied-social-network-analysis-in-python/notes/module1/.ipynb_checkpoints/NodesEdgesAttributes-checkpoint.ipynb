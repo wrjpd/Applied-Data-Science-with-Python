{
 "cells": [
  {
   "cell_type": "markdown",
   "id": "ad013736-8984-4300-90a9-4a51d59b667e",
   "metadata": {},
   "source": [
    "# Nodes and Edges Attributes"
   ]
  },
  {
   "cell_type": "markdown",
   "id": "2b4ba961-5845-44c3-babf-2cefd57acd31",
   "metadata": {},
   "source": [
    "## Edges Attributes"
   ]
  },
  {
   "cell_type": "code",
   "execution_count": 3,
   "id": "9ee121be-cc21-450a-bbe7-bc9775c560ab",
   "metadata": {},
   "outputs": [],
   "source": [
    "import networkx as nx"
   ]
  },
  {
   "cell_type": "code",
   "execution_count": 4,
   "id": "71871266-bf4b-40be-a407-4651beb1d19d",
   "metadata": {},
   "outputs": [],
   "source": [
    "G = nx.Graph()\n",
    "G.add_edge('A','B',weight=6,relation='family')\n",
    "G.add_edge('B','C',weight=13,relation='friend')"
   ]
  },
  {
   "cell_type": "markdown",
   "id": "de385e2e-25c6-40a0-8d1a-af99d1432b2f",
   "metadata": {},
   "source": [
    "<bt>"
   ]
  },
  {
   "cell_type": "markdown",
   "id": "323b7801-544c-45f3-bc50-969f080a2e4d",
   "metadata": {},
   "source": [
    "list of all edges"
   ]
  },
  {
   "cell_type": "code",
   "execution_count": 5,
   "id": "b6e1b3dd-d756-474d-8797-6f804b4e3565",
   "metadata": {},
   "outputs": [
    {
     "data": {
      "text/plain": [
       "[('A', 'B'), ('B', 'C')]"
      ]
     },
     "execution_count": 5,
     "metadata": {},
     "output_type": "execute_result"
    }
   ],
   "source": [
    "list(G.edges())"
   ]
  },
  {
   "cell_type": "markdown",
   "id": "751f7d4f-cabd-48d1-84b0-ad9bcfd18bb8",
   "metadata": {},
   "source": [
    "<br>"
   ]
  },
  {
   "cell_type": "markdown",
   "id": "5eff8aab-6d6a-4933-9f54-58502d364ab2",
   "metadata": {},
   "source": [
    "list of all edges attributes"
   ]
  },
  {
   "cell_type": "code",
   "execution_count": 6,
   "id": "886755bd-f93a-4d9d-942b-ce04434b4d44",
   "metadata": {},
   "outputs": [
    {
     "data": {
      "text/plain": [
       "[('A', 'B', {'weight': 6, 'relation': 'family'}),\n",
       " ('B', 'C', {'weight': 13, 'relation': 'friend'})]"
      ]
     },
     "execution_count": 6,
     "metadata": {},
     "output_type": "execute_result"
    }
   ],
   "source": [
    "list(G.edges(data=True))"
   ]
  },
  {
   "cell_type": "markdown",
   "id": "63f29139-3018-43f4-a98a-e7c5421bd4c3",
   "metadata": {},
   "source": [
    "<br>"
   ]
  },
  {
   "cell_type": "markdown",
   "id": "f17ac315-d6d4-4ea4-b64f-4caf87281fb8",
   "metadata": {},
   "source": [
    "list of all edges with attributes `relation`"
   ]
  },
  {
   "cell_type": "code",
   "execution_count": 7,
   "id": "c6e06980-8f76-4d42-9359-7a87baa8b153",
   "metadata": {},
   "outputs": [
    {
     "data": {
      "text/plain": [
       "[('A', 'B', 'family'), ('B', 'C', 'friend')]"
      ]
     },
     "execution_count": 7,
     "metadata": {},
     "output_type": "execute_result"
    }
   ],
   "source": [
    "list(G.edges(data='relation'))"
   ]
  },
  {
   "cell_type": "markdown",
   "id": "7da7edee-73aa-4070-a923-e7e594779621",
   "metadata": {},
   "source": [
    "<br>"
   ]
  },
  {
   "cell_type": "markdown",
   "id": "92744d63-be98-4925-bf2e-826b38d17c5a",
   "metadata": {},
   "source": [
    "### Acessing attributes of a specific edge:"
   ]
  },
  {
   "cell_type": "markdown",
   "id": "2ffc23a5-f5e9-4a19-8fd8-007815d2538a",
   "metadata": {},
   "source": [
    "#### Graph"
   ]
  },
  {
   "cell_type": "markdown",
   "id": "a50bb979-1319-4545-8be3-899640955fc8",
   "metadata": {},
   "source": [
    "dictionary of attributes (A,B)"
   ]
  },
  {
   "cell_type": "code",
   "execution_count": 8,
   "id": "af73dd87-b704-4133-b7c9-460abfdbe50e",
   "metadata": {},
   "outputs": [
    {
     "data": {
      "text/plain": [
       "{'weight': 6, 'relation': 'family'}"
      ]
     },
     "execution_count": 8,
     "metadata": {},
     "output_type": "execute_result"
    }
   ],
   "source": [
    "G.edges['A','B']"
   ]
  },
  {
   "cell_type": "markdown",
   "id": "71ac6355-87ba-41e1-889b-c17155fd1ad3",
   "metadata": {},
   "source": [
    "<br>"
   ]
  },
  {
   "cell_type": "markdown",
   "id": "36869470-1524-49c2-b74a-3a583d708f97",
   "metadata": {},
   "source": [
    "Acessing specific attributes of a specific edge"
   ]
  },
  {
   "cell_type": "code",
   "execution_count": 9,
   "id": "8b3bfc76-1dd4-42cb-a4b5-71fb0d00781b",
   "metadata": {},
   "outputs": [
    {
     "data": {
      "text/plain": [
       "6"
      ]
     },
     "execution_count": 9,
     "metadata": {},
     "output_type": "execute_result"
    }
   ],
   "source": [
    "G.edges['A','B']['weight']"
   ]
  },
  {
   "cell_type": "markdown",
   "id": "88d64d44-d0e2-4aba-8fb9-aa0739c6cafb",
   "metadata": {},
   "source": [
    "<br>"
   ]
  },
  {
   "cell_type": "markdown",
   "id": "5ca3fadc-8086-4a89-8c0b-c0d8552414e7",
   "metadata": {},
   "source": [
    "undirected graph, order does not matter"
   ]
  },
  {
   "cell_type": "code",
   "execution_count": 10,
   "id": "fbc94285-0696-4d20-a7d3-da5c20d83c36",
   "metadata": {},
   "outputs": [
    {
     "data": {
      "text/plain": [
       "13"
      ]
     },
     "execution_count": 10,
     "metadata": {},
     "output_type": "execute_result"
    }
   ],
   "source": [
    "G.edges['B','C']['weight']"
   ]
  },
  {
   "cell_type": "code",
   "execution_count": 11,
   "id": "c8b6fca7-532f-4a6b-bcd2-bb8829c3d680",
   "metadata": {},
   "outputs": [
    {
     "data": {
      "text/plain": [
       "13"
      ]
     },
     "execution_count": 11,
     "metadata": {},
     "output_type": "execute_result"
    }
   ],
   "source": [
    "G.edges['C','B']['weight']"
   ]
  },
  {
   "cell_type": "markdown",
   "id": "b14c2647-2df9-4a91-bcd1-be432d535839",
   "metadata": {},
   "source": [
    "<br>"
   ]
  },
  {
   "cell_type": "markdown",
   "id": "2e35fe7a-7244-4073-a52a-e713364a45aa",
   "metadata": {},
   "source": [
    "directed, weighted network; order matter"
   ]
  },
  {
   "cell_type": "code",
   "execution_count": 27,
   "id": "eda9fd53-ad68-45ee-8f0b-fe124875e356",
   "metadata": {},
   "outputs": [],
   "source": [
    "G = nx.DiGraph()\n",
    "G.add_edge('A','B',weight=6,relation='family')\n",
    "G.add_edge('C','B',weight=13,relation='friend')"
   ]
  },
  {
   "cell_type": "code",
   "execution_count": 28,
   "id": "c48f3754-843a-40ed-a12d-2b263258393f",
   "metadata": {},
   "outputs": [
    {
     "data": {
      "text/plain": [
       "13"
      ]
     },
     "execution_count": 28,
     "metadata": {},
     "output_type": "execute_result"
    }
   ],
   "source": [
    "G.edges['C','B']['weight']\n",
    "# G.edges['B','C']['weight'] KeyError"
   ]
  },
  {
   "cell_type": "markdown",
   "id": "fe1f26d4-4ec0-4500-8a39-71e768d3950f",
   "metadata": {},
   "source": [
    "<br>"
   ]
  },
  {
   "cell_type": "markdown",
   "id": "236ffed5-9338-4ff7-acf6-64991d543588",
   "metadata": {},
   "source": [
    "<br>"
   ]
  },
  {
   "cell_type": "markdown",
   "id": "4f642ab6-f9ae-4dde-9924-0a1398e8e90a",
   "metadata": {},
   "source": [
    "#### MultiGraph"
   ]
  },
  {
   "cell_type": "code",
   "execution_count": 21,
   "id": "1707a84d-9ccf-4672-8a74-badf734c4545",
   "metadata": {},
   "outputs": [
    {
     "data": {
      "text/plain": [
       "0"
      ]
     },
     "execution_count": 21,
     "metadata": {},
     "output_type": "execute_result"
    }
   ],
   "source": [
    "G = nx.MultiGraph()\n",
    "G.add_edge('A','B',weight=6,relation='family')\n",
    "G.add_edge('A','B',weight=18,relation='friend')\n",
    "G.add_edge('C','B',weight=13,relation='friend')"
   ]
  },
  {
   "cell_type": "markdown",
   "id": "20b8320d-9110-4f87-a503-b6978b104f69",
   "metadata": {},
   "source": [
    "Acessing edge attributes"
   ]
  },
  {
   "cell_type": "code",
   "execution_count": 31,
   "id": "028e5655-0ddf-497b-93eb-e681bf1506eb",
   "metadata": {},
   "outputs": [
    {
     "data": {
      "text/plain": [
       "{'weight': 6, 'relation': 'family'}"
      ]
     },
     "execution_count": 31,
     "metadata": {},
     "output_type": "execute_result"
    }
   ],
   "source": [
    "dict(G['A']['B'])"
   ]
  },
  {
   "cell_type": "markdown",
   "id": "e2135885-b2f9-4972-b634-db4b8b841a6f",
   "metadata": {},
   "source": [
    "<br>"
   ]
  },
  {
   "cell_type": "markdown",
   "id": "ec97087a-3e1b-4a4c-8a35-adc34b65f396",
   "metadata": {},
   "source": [
    "Undirected graph, order does not matter"
   ]
  },
  {
   "cell_type": "code",
   "execution_count": 29,
   "id": "af38fbc8-9e52-439c-aabc-6ca3d4a4f02a",
   "metadata": {},
   "outputs": [
    {
     "data": {
      "text/plain": [
       "6"
      ]
     },
     "execution_count": 29,
     "metadata": {},
     "output_type": "execute_result"
    }
   ],
   "source": [
    "G['A']['B']['weight']"
   ]
  },
  {
   "cell_type": "markdown",
   "id": "0548f9b5-13c0-4b6a-93b1-987501632dbe",
   "metadata": {},
   "source": [
    "<br>"
   ]
  },
  {
   "cell_type": "markdown",
   "id": "88eb9a4b-4960-413d-be82-027a959b4c6e",
   "metadata": {},
   "source": [
    "Directed graph, order matters"
   ]
  },
  {
   "cell_type": "code",
   "execution_count": 34,
   "id": "f4e646bc-2b68-431f-ad6e-1675503fbb41",
   "metadata": {},
   "outputs": [
    {
     "data": {
      "text/plain": [
       "0"
      ]
     },
     "execution_count": 34,
     "metadata": {},
     "output_type": "execute_result"
    }
   ],
   "source": [
    "G = nx.MultiDiGraph()\n",
    "G.add_edge('A','B',weight = 6,realtion='family')\n",
    "G.add_edge('A','B',weight = 18,realtion='friend')\n",
    "G.add_edge('C','B',weight = 13,realtion='friend')"
   ]
  },
  {
   "cell_type": "code",
   "execution_count": 42,
   "id": "f77c7911-145e-4eaf-a008-f37f0ce9b0cf",
   "metadata": {},
   "outputs": [
    {
     "data": {
      "text/plain": [
       "6"
      ]
     },
     "execution_count": 42,
     "metadata": {},
     "output_type": "execute_result"
    }
   ],
   "source": [
    "G['A']['B'][0]['weight']\n",
    "# G['A']['B'][0]['weight'] KeyError"
   ]
  },
  {
   "cell_type": "markdown",
   "id": "6b9ffac2-5ad8-42ad-a484-8d9ebf2c0138",
   "metadata": {},
   "source": [
    "<br>"
   ]
  },
  {
   "cell_type": "markdown",
   "id": "94353e09-c2c4-4a8c-9481-d6a31688b3d3",
   "metadata": {},
   "source": [
    "## Node Attributes"
   ]
  },
  {
   "cell_type": "code",
   "execution_count": 52,
   "id": "70b0f1a9-e8c4-4219-bd3a-44019b004a3c",
   "metadata": {},
   "outputs": [],
   "source": [
    "G = nx.Graph()\n",
    "G.add_edge('A','B',weight=6,relation='family')\n",
    "G.add_edge('B','C',weight=13,relation='friend')"
   ]
  },
  {
   "cell_type": "markdown",
   "id": "ff43fad5-ddcf-48dd-a23c-b46bb3261780",
   "metadata": {},
   "source": [
    "Adding node attributes"
   ]
  },
  {
   "cell_type": "code",
   "execution_count": 53,
   "id": "faa152b5-44ee-4308-aa8c-0689f54dd596",
   "metadata": {},
   "outputs": [],
   "source": [
    "G.add_node('A',role='trader')\n",
    "G.add_node('B',role='trader')\n",
    "G.add_node('C',role='manager')"
   ]
  },
  {
   "cell_type": "markdown",
   "id": "3c16d785-905e-4440-a889-c40ab1525ad3",
   "metadata": {},
   "source": [
    "<br>"
   ]
  },
  {
   "cell_type": "markdown",
   "id": "bda65bb2-61d3-4e9d-8407-3a9f97dfd0c7",
   "metadata": {},
   "source": [
    "list of all nodes"
   ]
  },
  {
   "cell_type": "code",
   "execution_count": 50,
   "id": "df6b756b-9216-4836-b2e5-0691a50ff91c",
   "metadata": {},
   "outputs": [
    {
     "data": {
      "text/plain": [
       "['A', 'B', 'C']"
      ]
     },
     "execution_count": 50,
     "metadata": {},
     "output_type": "execute_result"
    }
   ],
   "source": [
    "list(G.nodes())"
   ]
  },
  {
   "cell_type": "markdown",
   "id": "2a62c919-af15-4d3e-abbc-197023dd444d",
   "metadata": {},
   "source": [
    "<br>"
   ]
  },
  {
   "cell_type": "markdown",
   "id": "c3701358-2215-415a-955f-9125e5e14a08",
   "metadata": {},
   "source": [
    "list of nodes with attributes"
   ]
  },
  {
   "cell_type": "code",
   "execution_count": 54,
   "id": "1bfe2af1-f506-449f-b29d-003bf40e4a53",
   "metadata": {},
   "outputs": [
    {
     "data": {
      "text/plain": [
       "[('A', {'role': 'trader'}),\n",
       " ('B', {'role': 'trader'}),\n",
       " ('C', {'role': 'manager'})]"
      ]
     },
     "execution_count": 54,
     "metadata": {},
     "output_type": "execute_result"
    }
   ],
   "source": [
    "list(G.nodes(data=True))"
   ]
  },
  {
   "cell_type": "code",
   "execution_count": null,
   "id": "b137e24c-9081-462d-88ae-a998cb423365",
   "metadata": {},
   "outputs": [],
   "source": []
  }
 ],
 "metadata": {
  "kernelspec": {
   "display_name": "Python 3 (ipykernel)",
   "language": "python",
   "name": "python3"
  },
  "language_info": {
   "codemirror_mode": {
    "name": "ipython",
    "version": 3
   },
   "file_extension": ".py",
   "mimetype": "text/x-python",
   "name": "python",
   "nbconvert_exporter": "python",
   "pygments_lexer": "ipython3",
   "version": "3.10.12"
  }
 },
 "nbformat": 4,
 "nbformat_minor": 5
}
