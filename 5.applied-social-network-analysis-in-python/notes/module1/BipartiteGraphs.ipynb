{
 "cells": [
  {
   "cell_type": "markdown",
   "id": "39d1e712-3bd1-429b-8f01-8684f975947b",
   "metadata": {},
   "source": [
    "# Bipartite Graphs"
   ]
  },
  {
   "cell_type": "markdown",
   "id": "059c8405-23c3-4648-a93d-2d7f53d50578",
   "metadata": {},
   "source": [
    "A graph whose nodes can be split into two sets L and R and every edge connects an node in L with a node in R.  \n",
    "There is no edge connections like L - L and R - R."
   ]
  },
  {
   "cell_type": "code",
   "execution_count": 28,
   "id": "4119a668-03c1-411a-a462-499bc1862163",
   "metadata": {},
   "outputs": [],
   "source": [
    "import networkx as nx\n",
    "from networkx import bipartite\n",
    "\n",
    "B = nx.Graph()\n",
    "\n",
    "B.add_nodes_from(['A','B','C','D','E'],bipartite=0)\n",
    "B.add_nodes_from([1,2,3,4],bipartite=1)\n",
    "\n",
    "B.add_edges_from([('A',1),('B',1),('C',1),('C',3),('D',2),('E',3),('E',4)])\n"
   ]
  },
  {
   "cell_type": "code",
   "execution_count": 45,
   "id": "714b022b-9eb2-47cf-abcb-21bf0904855e",
   "metadata": {},
   "outputs": [
    {
     "data": {
      "image/png": "[encoded data removed]",
      "text/plain": [
       "<Figure size 432x288 with 1 Axes>"
      ]
     },
     "metadata": {},
     "output_type": "display_data"
    }
   ],
   "source": [
    "nx.draw_networkx(B)"
   ]
  },
  {
   "cell_type": "markdown",
   "id": "2a729b37-f2a7-414b-bd60-68cfefa0ab41",
   "metadata": {},
   "source": [
    "<br>"
   ]
  },
  {
   "cell_type": "markdown",
   "id": "82c97179-93cc-496a-a56d-1e040b5bb4bc",
   "metadata": {},
   "source": [
    "Checking is a graph is bipartite"
   ]
  },
  {
   "cell_type": "code",
   "execution_count": 16,
   "id": "bd2c5457-26dc-4faf-9457-abe22a2a74b7",
   "metadata": {},
   "outputs": [
    {
     "data": {
      "text/plain": [
       "True"
      ]
     },
     "execution_count": 16,
     "metadata": {},
     "output_type": "execute_result"
    }
   ],
   "source": [
    "bipartite.is_bipartite(B)"
   ]
  },
  {
   "cell_type": "markdown",
   "id": "89ca635c-ad29-4931-aaf5-1b4dada2ac0a",
   "metadata": {},
   "source": [
    "<br>"
   ]
  },
  {
   "cell_type": "code",
   "execution_count": 8,
   "id": "fc9d4512-15e7-4953-b40e-86e2e4ec3e5f",
   "metadata": {},
   "outputs": [
    {
     "name": "stdout",
     "output_type": "stream",
     "text": [
      "False\n"
     ]
    }
   ],
   "source": [
    "B.add_edge('A','B') # no more bipartite graph\n",
    "print(bipartite.is_bipartite(B))\n",
    "\n",
    "B.remove_edge('A','B')"
   ]
  },
  {
   "cell_type": "markdown",
   "id": "723f7913-4216-4b52-9cc5-232571f1ae34",
   "metadata": {},
   "source": [
    "<br>\n"
   ]
  },
  {
   "cell_type": "markdown",
   "id": "2ded7892-2946-4f11-af0d-627a96abdde0",
   "metadata": {},
   "source": [
    "Checking if a set of nodes is a bipartition of graph"
   ]
  },
  {
   "cell_type": "code",
   "execution_count": 22,
   "id": "3f57abe9-c008-4aee-aab0-939de510dd72",
   "metadata": {},
   "outputs": [
    {
     "data": {
      "text/plain": [
       "True"
      ]
     },
     "execution_count": 22,
     "metadata": {},
     "output_type": "execute_result"
    }
   ],
   "source": [
    "X = set([1,2,3,4])\n",
    "bipartite.is_bipartite_node_set(B,X)"
   ]
  },
  {
   "cell_type": "code",
   "execution_count": 14,
   "id": "127533fc-cb79-47a8-9151-13ce85589fef",
   "metadata": {},
   "outputs": [
    {
     "data": {
      "text/plain": [
       "True"
      ]
     },
     "execution_count": 14,
     "metadata": {},
     "output_type": "execute_result"
    }
   ],
   "source": [
    "X = set(['A','B','C','D','E'])\n",
    "bipartite.is_bipartite_node_set(B,X)"
   ]
  },
  {
   "cell_type": "markdown",
   "id": "dbb20013-e467-4b47-8b7e-40d9091eef2b",
   "metadata": {},
   "source": [
    "<br>\n"
   ]
  },
  {
   "cell_type": "markdown",
   "id": "6a0f0dcf-8999-449a-87df-641bee9e8f80",
   "metadata": {},
   "source": [
    "Getting each set of nodes of a bipartite graph"
   ]
  },
  {
   "cell_type": "code",
   "execution_count": 19,
   "id": "83fb95ec-597b-4e74-9c70-cd95e80f368c",
   "metadata": {},
   "outputs": [
    {
     "ename": "AmbiguousSolution",
     "evalue": "Disconnected graph: Ambiguous solution for bipartite sets.",
     "output_type": "error",
     "traceback": [
      "\u001b[0;31m---------------------------------------------------------------------------\u001b[0m",
      "\u001b[0;31mAmbiguousSolution\u001b[0m                         Traceback (most recent call last)",
      "\u001b[0;32m/tmp/ipykernel_53519/2077849315.py\u001b[0m in \u001b[0;36m<module>\u001b[0;34m\u001b[0m\n\u001b[0;32m----> 1\u001b[0;31m \u001b[0mbipartite\u001b[0m\u001b[0;34m.\u001b[0m\u001b[0msets\u001b[0m\u001b[0;34m(\u001b[0m\u001b[0mB\u001b[0m\u001b[0;34m)\u001b[0m\u001b[0;34m\u001b[0m\u001b[0;34m\u001b[0m\u001b[0m\n\u001b[0m",
      "\u001b[0;32m~/.local/lib/python3.10/site-packages/networkx/utils/decorators.py\u001b[0m in \u001b[0;36margmap_sets_22\u001b[0;34m(G, top_nodes, backend, **backend_kwargs)\u001b[0m\n\u001b[1;32m      1\u001b[0m \u001b[0;32mimport\u001b[0m \u001b[0mbz2\u001b[0m\u001b[0;34m\u001b[0m\u001b[0;34m\u001b[0m\u001b[0m\n\u001b[1;32m      2\u001b[0m \u001b[0;32mimport\u001b[0m \u001b[0mcollections\u001b[0m\u001b[0;34m\u001b[0m\u001b[0;34m\u001b[0m\u001b[0m\n\u001b[0;32m----> 3\u001b[0;31m \u001b[0;32mimport\u001b[0m \u001b[0mgzip\u001b[0m\u001b[0;34m\u001b[0m\u001b[0;34m\u001b[0m\u001b[0m\n\u001b[0m\u001b[1;32m      4\u001b[0m \u001b[0;32mimport\u001b[0m \u001b[0minspect\u001b[0m\u001b[0;34m\u001b[0m\u001b[0;34m\u001b[0m\u001b[0m\n\u001b[1;32m      5\u001b[0m \u001b[0;32mimport\u001b[0m \u001b[0mitertools\u001b[0m\u001b[0;34m\u001b[0m\u001b[0;34m\u001b[0m\u001b[0m\n",
      "\u001b[0;32m~/.local/lib/python3.10/site-packages/networkx/utils/backends.py\u001b[0m in \u001b[0;36m__call__\u001b[0;34m(self, backend, *args, **kwargs)\u001b[0m\n\u001b[1;32m    631\u001b[0m         \u001b[0;32mif\u001b[0m \u001b[0;32mnot\u001b[0m \u001b[0mbackends\u001b[0m\u001b[0;34m:\u001b[0m\u001b[0;34m\u001b[0m\u001b[0;34m\u001b[0m\u001b[0m\n\u001b[1;32m    632\u001b[0m             \u001b[0;31m# Fast path if no backends are installed\u001b[0m\u001b[0;34m\u001b[0m\u001b[0;34m\u001b[0m\u001b[0m\n\u001b[0;32m--> 633\u001b[0;31m             \u001b[0;32mreturn\u001b[0m \u001b[0mself\u001b[0m\u001b[0;34m.\u001b[0m\u001b[0morig_func\u001b[0m\u001b[0;34m(\u001b[0m\u001b[0;34m*\u001b[0m\u001b[0margs\u001b[0m\u001b[0;34m,\u001b[0m \u001b[0;34m**\u001b[0m\u001b[0mkwargs\u001b[0m\u001b[0;34m)\u001b[0m\u001b[0;34m\u001b[0m\u001b[0;34m\u001b[0m\u001b[0m\n\u001b[0m\u001b[1;32m    634\u001b[0m \u001b[0;34m\u001b[0m\u001b[0m\n\u001b[1;32m    635\u001b[0m         \u001b[0;31m# Use `backend_name` in this function instead of `backend`\u001b[0m\u001b[0;34m\u001b[0m\u001b[0;34m\u001b[0m\u001b[0m\n",
      "\u001b[0;32m~/.local/lib/python3.10/site-packages/networkx/algorithms/bipartite/basic.py\u001b[0m in \u001b[0;36msets\u001b[0;34m(G, top_nodes)\u001b[0m\n\u001b[1;32m    215\u001b[0m         \u001b[0;32mif\u001b[0m \u001b[0;32mnot\u001b[0m \u001b[0mis_connected\u001b[0m\u001b[0;34m(\u001b[0m\u001b[0mG\u001b[0m\u001b[0;34m)\u001b[0m\u001b[0;34m:\u001b[0m\u001b[0;34m\u001b[0m\u001b[0;34m\u001b[0m\u001b[0m\n\u001b[1;32m    216\u001b[0m             \u001b[0mmsg\u001b[0m \u001b[0;34m=\u001b[0m \u001b[0;34m\"Disconnected graph: Ambiguous solution for bipartite sets.\"\u001b[0m\u001b[0;34m\u001b[0m\u001b[0;34m\u001b[0m\u001b[0m\n\u001b[0;32m--> 217\u001b[0;31m             \u001b[0;32mraise\u001b[0m \u001b[0mnx\u001b[0m\u001b[0;34m.\u001b[0m\u001b[0mAmbiguousSolution\u001b[0m\u001b[0;34m(\u001b[0m\u001b[0mmsg\u001b[0m\u001b[0;34m)\u001b[0m\u001b[0;34m\u001b[0m\u001b[0;34m\u001b[0m\u001b[0m\n\u001b[0m\u001b[1;32m    218\u001b[0m         \u001b[0mc\u001b[0m \u001b[0;34m=\u001b[0m \u001b[0mcolor\u001b[0m\u001b[0;34m(\u001b[0m\u001b[0mG\u001b[0m\u001b[0;34m)\u001b[0m\u001b[0;34m\u001b[0m\u001b[0;34m\u001b[0m\u001b[0m\n\u001b[1;32m    219\u001b[0m         \u001b[0mX\u001b[0m \u001b[0;34m=\u001b[0m \u001b[0;34m{\u001b[0m\u001b[0mn\u001b[0m \u001b[0;32mfor\u001b[0m \u001b[0mn\u001b[0m\u001b[0;34m,\u001b[0m \u001b[0mis_top\u001b[0m \u001b[0;32min\u001b[0m \u001b[0mc\u001b[0m\u001b[0;34m.\u001b[0m\u001b[0mitems\u001b[0m\u001b[0;34m(\u001b[0m\u001b[0;34m)\u001b[0m \u001b[0;32mif\u001b[0m \u001b[0mis_top\u001b[0m\u001b[0;34m}\u001b[0m\u001b[0;34m\u001b[0m\u001b[0;34m\u001b[0m\u001b[0m\n",
      "\u001b[0;31mAmbiguousSolution\u001b[0m: Disconnected graph: Ambiguous solution for bipartite sets."
     ]
    }
   ],
   "source": [
    "bipartite.sets(B)"
   ]
  },
  {
   "cell_type": "markdown",
   "id": "87c12abf-a30e-4a41-a0a1-7a1275e6212c",
   "metadata": {},
   "source": [
    "<br>"
   ]
  },
  {
   "cell_type": "markdown",
   "id": "7e6b313e-3021-4eb6-a01e-7c4c52bc1602",
   "metadata": {},
   "source": [
    "## Projected Graphs\n"
   ]
  },
  {
   "cell_type": "markdown",
   "id": "0aacfd4e-1da6-4cb7-8a26-59fb769fab24",
   "metadata": {},
   "source": [
    "**L-Bipartite graph projection** is a network of nodes in group L where a pair of nodes is connected if they have a common neighbor in R in the bipartite graph."
   ]
  },
  {
   "cell_type": "code",
   "execution_count": 41,
   "id": "91b89727-49f4-4e2f-8e58-c7230a8b06b7",
   "metadata": {},
   "outputs": [],
   "source": [
    "B = nx.Graph()\n",
    "B.add_edges_from([('A',1),('B',1),('C',1),('D',1),('H',1),('B',2),('C',2),('D',2),\n",
    "                 ('E',2),('G',2),('E',3),('F',3),('H',3),('J',3),('E',4),('I',4),('J',4)])"
   ]
  },
  {
   "cell_type": "code",
   "execution_count": 42,
   "id": "d76e8784-46e7-4503-b2ff-a79758393436",
   "metadata": {},
   "outputs": [],
   "source": [
    "X = set(['A','B','C','D','E','F','G','H','I','J'])\n",
    "P = bipartite.projected_graph(B,X)"
   ]
  },
  {
   "cell_type": "code",
   "execution_count": 43,
   "id": "cadf429c-557f-4216-8169-ab2f2c9dfee6",
   "metadata": {},
   "outputs": [
    {
     "data": {
      "image/png": "[encoded data removed]",
      "text/plain": [
       "<Figure size 432x288 with 1 Axes>"
      ]
     },
     "metadata": {},
     "output_type": "display_data"
    }
   ],
   "source": [
    "nx.draw_networkx(P)"
   ]
  },
  {
   "cell_type": "markdown",
   "id": "872ddc8c-2e72-4d78-b82e-eef89ad66256",
   "metadata": {},
   "source": [
    "<br>"
   ]
  },
  {
   "cell_type": "markdown",
   "id": "2e81df7a-8d36-4bb6-8046-f62897e7af01",
   "metadata": {},
   "source": [
    "## Weighted Projected Graphs"
   ]
  },
  {
   "cell_type": "markdown",
   "id": "6285a5ae-24a8-4f29-8a8b-92464b8fb1d4",
   "metadata": {},
   "source": [
    "**L-Bipartite weighted graph projection** is a network of weights one the edges that are proportional to the number of common neighbors between the nodes."
   ]
  },
  {
   "cell_type": "code",
   "execution_count": 38,
   "id": "a5ad678c-460a-49e2-8de0-63a1e0cf6836",
   "metadata": {},
   "outputs": [],
   "source": [
    "X=set([1,2,3,4])\n",
    "P = bipartite.weighted_projected_graph(B,X)"
   ]
  },
  {
   "cell_type": "code",
   "execution_count": 40,
   "id": "c0690d94-a7bf-49c6-9624-d5cf404fe9d2",
   "metadata": {},
   "outputs": [
    {
     "data": {
      "image/png": "[encoded data removed]",
      "text/plain": [
       "<Figure size 432x288 with 1 Axes>"
      ]
     },
     "metadata": {},
     "output_type": "display_data"
    }
   ],
   "source": [
    "nx.draw_networkx(P)"
   ]
  },
  {
   "cell_type": "code",
   "execution_count": null,
   "id": "93ab451b-019d-4dd5-a541-72d504e91e2f",
   "metadata": {},
   "outputs": [],
   "source": []
  }
 ],
 "metadata": {
  "kernelspec": {
   "display_name": "Python 3 (ipykernel)",
   "language": "python",
   "name": "python3"
  },
  "language_info": {
   "codemirror_mode": {
    "name": "ipython",
    "version": 3
   },
   "file_extension": ".py",
   "mimetype": "text/x-python",
   "name": "python",
   "nbconvert_exporter": "python",
   "pygments_lexer": "ipython3",
   "version": "3.10.12"
  }
 },
 "nbformat": 4,
 "nbformat_minor": 5
}
